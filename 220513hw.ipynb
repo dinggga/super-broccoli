{
  "nbformat": 4,
  "nbformat_minor": 0,
  "metadata": {
    "colab": {
      "name": "220513hw.ipynb",
      "provenance": [],
      "collapsed_sections": [],
      "mount_file_id": "1CnqP61_mPI3RnyYtP_Ho5IayUp0qkaR0",
      "authorship_tag": "ABX9TyMEqj5yd8lAqKysO16nbf1H",
      "include_colab_link": true
    },
    "kernelspec": {
      "name": "python3",
      "display_name": "Python 3"
    },
    "language_info": {
      "name": "python"
    }
  },
  "cells": [
    {
      "cell_type": "markdown",
      "metadata": {
        "id": "view-in-github",
        "colab_type": "text"
      },
      "source": [
        "<a href=\"https://colab.research.google.com/github/dinggga/super-broccoli/blob/main/220513hw.ipynb\" target=\"_parent\"><img src=\"https://colab.research.google.com/assets/colab-badge.svg\" alt=\"Open In Colab\"/></a>"
      ]
    },
    {
      "cell_type": "markdown",
      "source": [
        "# **8.7 문서 군집화 소개와 실습 (Opinion Review 데이터 세트)**"
      ],
      "metadata": {
        "id": "db58-Xve_lSJ"
      }
    },
    {
      "cell_type": "code",
      "execution_count": null,
      "metadata": {
        "id": "7YPhiJYx_jks",
        "outputId": "8da826d3-f443-4bce-cfd9-f9ec026aa722"
      },
      "outputs": [
        {
          "data": {
            "text/html": [
              "<div>\n",
              "<style scoped>\n",
              "    .dataframe tbody tr th:only-of-type {\n",
              "        vertical-align: middle;\n",
              "    }\n",
              "\n",
              "    .dataframe tbody tr th {\n",
              "        vertical-align: top;\n",
              "    }\n",
              "\n",
              "    .dataframe thead th {\n",
              "        text-align: right;\n",
              "    }\n",
              "</style>\n",
              "<table border=\"1\" class=\"dataframe\">\n",
              "  <thead>\n",
              "    <tr style=\"text-align: right;\">\n",
              "      <th></th>\n",
              "      <th>filename</th>\n",
              "      <th>opinion_text</th>\n",
              "    </tr>\n",
              "  </thead>\n",
              "  <tbody>\n",
              "    <tr>\n",
              "      <th>0</th>\n",
              "      <td>accuracy_garmin_nuvi_255W_gps</td>\n",
              "      <td>, and is very, very acc...</td>\n",
              "    </tr>\n",
              "    <tr>\n",
              "      <th>1</th>\n",
              "      <td>bathroom_bestwestern_hotel_sfo</td>\n",
              "      <td>The room was not overly big, but clean and...</td>\n",
              "    </tr>\n",
              "    <tr>\n",
              "      <th>2</th>\n",
              "      <td>battery-life_amazon_kindle</td>\n",
              "      <td>After I plugged it in to my USB hub on my ...</td>\n",
              "    </tr>\n",
              "    <tr>\n",
              "      <th>3</th>\n",
              "      <td>battery-life_ipod_nano_8gb</td>\n",
              "      <td>short battery life  I moved up from a...</td>\n",
              "    </tr>\n",
              "    <tr>\n",
              "      <th>4</th>\n",
              "      <td>battery-life_netbook_1005ha</td>\n",
              "      <td>6GHz 533FSB cpu, glossy display, 3, Cell 2...</td>\n",
              "    </tr>\n",
              "  </tbody>\n",
              "</table>\n",
              "</div>"
            ],
            "text/plain": [
              "                         filename  \\\n",
              "0   accuracy_garmin_nuvi_255W_gps   \n",
              "1  bathroom_bestwestern_hotel_sfo   \n",
              "2      battery-life_amazon_kindle   \n",
              "3      battery-life_ipod_nano_8gb   \n",
              "4     battery-life_netbook_1005ha   \n",
              "\n",
              "                                        opinion_text  \n",
              "0                         , and is very, very acc...  \n",
              "1      The room was not overly big, but clean and...  \n",
              "2      After I plugged it in to my USB hub on my ...  \n",
              "3           short battery life  I moved up from a...  \n",
              "4      6GHz 533FSB cpu, glossy display, 3, Cell 2...  "
            ]
          },
          "execution_count": 2,
          "metadata": {},
          "output_type": "execute_result"
        }
      ],
      "source": [
        "import pandas as pd\n",
        "import glob ,os\n",
        "  \n",
        "path = r'/content/drive/MyDrive/ESAA_OB/220513F/OpinosisDataset1.0/topics'                     \n",
        "# path로 지정한 디렉토리 밑에 있는 모든 .data 파일들의 파일명을 리스트로 취합\n",
        "all_files = glob.glob(os.path.join(path, \"*.data\"))    \n",
        "filename_list = []\n",
        "opinion_text = []\n",
        "\n",
        "# 개별 파일들의 파일명은 filename_list 리스트로 취합, \n",
        "# 개별 파일들의 파일내용은 DataFrame로딩 후 다시 string으로 변환하여 opinion_text 리스트로 취합 \n",
        "for file_ in all_files:\n",
        "    # 개별 파일을 읽어서 DataFrame으로 생성 \n",
        "    df = pd.read_table(file_,index_col=None, header=0,encoding='latin1')\n",
        "    \n",
        "    # 절대경로로 주어진 file 명을 가공. 만일 Linux에서 수행시에는 아래 \\\\를 / 변경. 맨 마지막 .data 확장자도 제거\n",
        "    filename_ = file_.split('\\\\')[-1]\n",
        "    filename = filename_.split('.')[0]\n",
        "\n",
        "    #파일명 리스트와 파일내용 리스트에 파일명과 파일 내용을 추가. \n",
        "    filename_list.append(filename)\n",
        "    opinion_text.append(df.to_string())\n",
        "\n",
        "# 파일명 리스트와 파일내용 리스트를  DataFrame으로 생성\n",
        "document_df = pd.DataFrame({'filename':filename_list, 'opinion_text':opinion_text})\n",
        "document_df.head()"
      ]
    },
    {
      "cell_type": "code",
      "source": [
        "from nltk.stem import WordNetLemmatizer\n",
        "import nltk\n",
        "import string\n",
        "\n",
        "remove_punct_dict = dict((ord(punct), None) for punct in string.punctuation)\n",
        "lemmar = WordNetLemmatizer()\n",
        "\n",
        "def LemTokens(tokens):\n",
        "    return [lemmar.lemmatize(token) for token in tokens]\n",
        "\n",
        "def LemNormalize(text):\n",
        "    return LemTokens(nltk.word_tokenize(text.lower().translate(remove_punct_dict)))"
      ],
      "metadata": {
        "id": "l7-LrBZ-DF9H"
      },
      "execution_count": null,
      "outputs": []
    },
    {
      "cell_type": "code",
      "source": [
        "from sklearn.feature_extraction.text import TfidfVectorizer\n",
        "\n",
        "import nltk\n",
        "nltk.download('punkt')\n",
        "nltk.download('wordnet')\n",
        "\n",
        "tfidf_vect = TfidfVectorizer(tokenizer=LemNormalize, stop_words='english' , \\\n",
        "                             ngram_range=(1,2), min_df=0.05, max_df=0.85 )\n",
        "\n",
        "#opinion_text 컬럼값으로 feature vectorization 수행\n",
        "feature_vect = tfidf_vect.fit_transform(document_df['opinion_text'])"
      ],
      "metadata": {
        "colab": {
          "base_uri": "https://localhost:8080/"
        },
        "id": "vkTwh_8QDJJI",
        "outputId": "d2982b52-ff2f-4c5d-9af3-cf5e574d68f8"
      },
      "execution_count": null,
      "outputs": [
        {
          "output_type": "stream",
          "name": "stdout",
          "text": [
            "[nltk_data] Downloading package punkt to /root/nltk_data...\n",
            "[nltk_data]   Package punkt is already up-to-date!\n",
            "[nltk_data] Downloading package wordnet to /root/nltk_data...\n",
            "[nltk_data]   Unzipping corpora/wordnet.zip.\n"
          ]
        },
        {
          "output_type": "stream",
          "name": "stderr",
          "text": [
            "/usr/local/lib/python3.7/dist-packages/sklearn/feature_extraction/text.py:401: UserWarning: Your stop_words may be inconsistent with your preprocessing. Tokenizing the stop words generated tokens ['ha', 'le', 'u', 'wa'] not in stop_words.\n",
            "  % sorted(inconsistent)\n"
          ]
        }
      ]
    },
    {
      "cell_type": "code",
      "source": [
        "from sklearn.cluster import KMeans\n",
        "\n",
        "# 5개 집합으로 군집화 수행. 예제를 위해 동일한 클러스터링 결과 도출용 random_state=0 \n",
        "km_cluster = KMeans(n_clusters=5, max_iter=10000, random_state=0)\n",
        "km_cluster.fit(feature_vect)\n",
        "cluster_label = km_cluster.labels_\n",
        "cluster_centers = km_cluster.cluster_centers_"
      ],
      "metadata": {
        "id": "mNb_FRhEDht_"
      },
      "execution_count": null,
      "outputs": []
    },
    {
      "cell_type": "code",
      "execution_count": null,
      "metadata": {
        "id": "khZr6F2s_jlM",
        "outputId": "eb65c99d-0224-4ad1-e433-de9b885e8a83"
      },
      "outputs": [
        {
          "data": {
            "text/html": [
              "<div>\n",
              "<style scoped>\n",
              "    .dataframe tbody tr th:only-of-type {\n",
              "        vertical-align: middle;\n",
              "    }\n",
              "\n",
              "    .dataframe tbody tr th {\n",
              "        vertical-align: top;\n",
              "    }\n",
              "\n",
              "    .dataframe thead th {\n",
              "        text-align: right;\n",
              "    }\n",
              "</style>\n",
              "<table border=\"1\" class=\"dataframe\">\n",
              "  <thead>\n",
              "    <tr style=\"text-align: right;\">\n",
              "      <th></th>\n",
              "      <th>filename</th>\n",
              "      <th>opinion_text</th>\n",
              "      <th>cluster_label</th>\n",
              "    </tr>\n",
              "  </thead>\n",
              "  <tbody>\n",
              "    <tr>\n",
              "      <th>0</th>\n",
              "      <td>accuracy_garmin_nuvi_255W_gps</td>\n",
              "      <td>, and is very, very acc...</td>\n",
              "      <td>2</td>\n",
              "    </tr>\n",
              "    <tr>\n",
              "      <th>1</th>\n",
              "      <td>bathroom_bestwestern_hotel_sfo</td>\n",
              "      <td>The room was not overly big, but clean and...</td>\n",
              "      <td>0</td>\n",
              "    </tr>\n",
              "    <tr>\n",
              "      <th>2</th>\n",
              "      <td>battery-life_amazon_kindle</td>\n",
              "      <td>After I plugged it in to my USB hub on my ...</td>\n",
              "      <td>1</td>\n",
              "    </tr>\n",
              "    <tr>\n",
              "      <th>3</th>\n",
              "      <td>battery-life_ipod_nano_8gb</td>\n",
              "      <td>short battery life  I moved up from a...</td>\n",
              "      <td>1</td>\n",
              "    </tr>\n",
              "    <tr>\n",
              "      <th>4</th>\n",
              "      <td>battery-life_netbook_1005ha</td>\n",
              "      <td>6GHz 533FSB cpu, glossy display, 3, Cell 2...</td>\n",
              "      <td>1</td>\n",
              "    </tr>\n",
              "  </tbody>\n",
              "</table>\n",
              "</div>"
            ],
            "text/plain": [
              "                         filename  \\\n",
              "0   accuracy_garmin_nuvi_255W_gps   \n",
              "1  bathroom_bestwestern_hotel_sfo   \n",
              "2      battery-life_amazon_kindle   \n",
              "3      battery-life_ipod_nano_8gb   \n",
              "4     battery-life_netbook_1005ha   \n",
              "\n",
              "                                        opinion_text  cluster_label  \n",
              "0                         , and is very, very acc...              2  \n",
              "1      The room was not overly big, but clean and...              0  \n",
              "2      After I plugged it in to my USB hub on my ...              1  \n",
              "3           short battery life  I moved up from a...              1  \n",
              "4      6GHz 533FSB cpu, glossy display, 3, Cell 2...              1  "
            ]
          },
          "execution_count": 21,
          "metadata": {},
          "output_type": "execute_result"
        }
      ],
      "source": [
        "document_df['cluster_label'] = cluster_label\n",
        "document_df.head()"
      ]
    },
    {
      "cell_type": "code",
      "execution_count": null,
      "metadata": {
        "outputId": "48d3b04e-44a1-4df6-bf22-1ba3850f7f32",
        "id": "NNnBcxqxEOff"
      },
      "outputs": [
        {
          "data": {
            "text/html": [
              "<div>\n",
              "<style scoped>\n",
              "    .dataframe tbody tr th:only-of-type {\n",
              "        vertical-align: middle;\n",
              "    }\n",
              "\n",
              "    .dataframe tbody tr th {\n",
              "        vertical-align: top;\n",
              "    }\n",
              "\n",
              "    .dataframe thead th {\n",
              "        text-align: right;\n",
              "    }\n",
              "</style>\n",
              "<table border=\"1\" class=\"dataframe\">\n",
              "  <thead>\n",
              "    <tr style=\"text-align: right;\">\n",
              "      <th></th>\n",
              "      <th>filename</th>\n",
              "      <th>opinion_text</th>\n",
              "      <th>cluster_label</th>\n",
              "    </tr>\n",
              "  </thead>\n",
              "  <tbody>\n",
              "    <tr>\n",
              "      <th>1</th>\n",
              "      <td>bathroom_bestwestern_hotel_sfo</td>\n",
              "      <td>The room was not overly big, but clean and...</td>\n",
              "      <td>0</td>\n",
              "    </tr>\n",
              "    <tr>\n",
              "      <th>32</th>\n",
              "      <td>room_holiday_inn_london</td>\n",
              "      <td>We arrived at 23,30 hours and they could n...</td>\n",
              "      <td>0</td>\n",
              "    </tr>\n",
              "    <tr>\n",
              "      <th>30</th>\n",
              "      <td>rooms_bestwestern_hotel_sfo</td>\n",
              "      <td>Great Location ,  Nice   Rooms ,  Helpless...</td>\n",
              "      <td>0</td>\n",
              "    </tr>\n",
              "    <tr>\n",
              "      <th>31</th>\n",
              "      <td>rooms_swissotel_chicago</td>\n",
              "      <td>The Swissotel is one of our favorite hotel...</td>\n",
              "      <td>0</td>\n",
              "    </tr>\n",
              "  </tbody>\n",
              "</table>\n",
              "</div>"
            ],
            "text/plain": [
              "                          filename  \\\n",
              "1   bathroom_bestwestern_hotel_sfo   \n",
              "32         room_holiday_inn_london   \n",
              "30     rooms_bestwestern_hotel_sfo   \n",
              "31         rooms_swissotel_chicago   \n",
              "\n",
              "                                         opinion_text  cluster_label  \n",
              "1       The room was not overly big, but clean and...              0  \n",
              "32      We arrived at 23,30 hours and they could n...              0  \n",
              "30      Great Location ,  Nice   Rooms ,  Helpless...              0  \n",
              "31      The Swissotel is one of our favorite hotel...              0  "
            ]
          },
          "execution_count": 22,
          "metadata": {},
          "output_type": "execute_result"
        }
      ],
      "source": [
        "document_df[document_df['cluster_label']==0].sort_values(by='filename')"
      ]
    },
    {
      "cell_type": "code",
      "execution_count": null,
      "metadata": {
        "id": "pAxd20sM_jlV",
        "outputId": "78e59722-ff21-44ad-8dee-c790f9f75e9c"
      },
      "outputs": [
        {
          "data": {
            "text/html": [
              "<div>\n",
              "<style scoped>\n",
              "    .dataframe tbody tr th:only-of-type {\n",
              "        vertical-align: middle;\n",
              "    }\n",
              "\n",
              "    .dataframe tbody tr th {\n",
              "        vertical-align: top;\n",
              "    }\n",
              "\n",
              "    .dataframe thead th {\n",
              "        text-align: right;\n",
              "    }\n",
              "</style>\n",
              "<table border=\"1\" class=\"dataframe\">\n",
              "  <thead>\n",
              "    <tr style=\"text-align: right;\">\n",
              "      <th></th>\n",
              "      <th>filename</th>\n",
              "      <th>opinion_text</th>\n",
              "      <th>cluster_label</th>\n",
              "    </tr>\n",
              "  </thead>\n",
              "  <tbody>\n",
              "    <tr>\n",
              "      <th>2</th>\n",
              "      <td>battery-life_amazon_kindle</td>\n",
              "      <td>After I plugged it in to my USB hub on my ...</td>\n",
              "      <td>1</td>\n",
              "    </tr>\n",
              "    <tr>\n",
              "      <th>3</th>\n",
              "      <td>battery-life_ipod_nano_8gb</td>\n",
              "      <td>short battery life  I moved up from a...</td>\n",
              "      <td>1</td>\n",
              "    </tr>\n",
              "    <tr>\n",
              "      <th>4</th>\n",
              "      <td>battery-life_netbook_1005ha</td>\n",
              "      <td>6GHz 533FSB cpu, glossy display, 3, Cell 2...</td>\n",
              "      <td>1</td>\n",
              "    </tr>\n",
              "    <tr>\n",
              "      <th>19</th>\n",
              "      <td>keyboard_netbook_1005ha</td>\n",
              "      <td>,  I think the new keyboard rivals the gre...</td>\n",
              "      <td>1</td>\n",
              "    </tr>\n",
              "    <tr>\n",
              "      <th>26</th>\n",
              "      <td>performance_netbook_1005ha</td>\n",
              "      <td>The Eee Super Hybrid Engine utility lets u...</td>\n",
              "      <td>1</td>\n",
              "    </tr>\n",
              "    <tr>\n",
              "      <th>42</th>\n",
              "      <td>sound_ipod_nano_8gb</td>\n",
              "      <td>headphone jack i got a clear case for it a...</td>\n",
              "      <td>1</td>\n",
              "    </tr>\n",
              "    <tr>\n",
              "      <th>44</th>\n",
              "      <td>speed_windows7</td>\n",
              "      <td>Windows 7 is quite simply faster, more sta...</td>\n",
              "      <td>1</td>\n",
              "    </tr>\n",
              "  </tbody>\n",
              "</table>\n",
              "</div>"
            ],
            "text/plain": [
              "                       filename  \\\n",
              "2    battery-life_amazon_kindle   \n",
              "3    battery-life_ipod_nano_8gb   \n",
              "4   battery-life_netbook_1005ha   \n",
              "19      keyboard_netbook_1005ha   \n",
              "26   performance_netbook_1005ha   \n",
              "42          sound_ipod_nano_8gb   \n",
              "44               speed_windows7   \n",
              "\n",
              "                                         opinion_text  cluster_label  \n",
              "2       After I plugged it in to my USB hub on my ...              1  \n",
              "3            short battery life  I moved up from a...              1  \n",
              "4       6GHz 533FSB cpu, glossy display, 3, Cell 2...              1  \n",
              "19      ,  I think the new keyboard rivals the gre...              1  \n",
              "26      The Eee Super Hybrid Engine utility lets u...              1  \n",
              "42      headphone jack i got a clear case for it a...              1  \n",
              "44      Windows 7 is quite simply faster, more sta...              1  "
            ]
          },
          "execution_count": 8,
          "metadata": {},
          "output_type": "execute_result"
        }
      ],
      "source": [
        "document_df[document_df['cluster_label']==1].sort_values(by='filename')"
      ]
    },
    {
      "cell_type": "code",
      "execution_count": null,
      "metadata": {
        "id": "-SFbXJnP_jlY",
        "outputId": "be481031-c913-4f78-b86f-46c9f8010d82"
      },
      "outputs": [
        {
          "data": {
            "text/html": [
              "<div>\n",
              "<style scoped>\n",
              "    .dataframe tbody tr th:only-of-type {\n",
              "        vertical-align: middle;\n",
              "    }\n",
              "\n",
              "    .dataframe tbody tr th {\n",
              "        vertical-align: top;\n",
              "    }\n",
              "\n",
              "    .dataframe thead th {\n",
              "        text-align: right;\n",
              "    }\n",
              "</style>\n",
              "<table border=\"1\" class=\"dataframe\">\n",
              "  <thead>\n",
              "    <tr style=\"text-align: right;\">\n",
              "      <th></th>\n",
              "      <th>filename</th>\n",
              "      <th>opinion_text</th>\n",
              "      <th>cluster_label</th>\n",
              "    </tr>\n",
              "  </thead>\n",
              "  <tbody>\n",
              "    <tr>\n",
              "      <th>0</th>\n",
              "      <td>accuracy_garmin_nuvi_255W_gps</td>\n",
              "      <td>, and is very, very acc...</td>\n",
              "      <td>2</td>\n",
              "    </tr>\n",
              "    <tr>\n",
              "      <th>5</th>\n",
              "      <td>buttons_amazon_kindle</td>\n",
              "      <td>I thought it would be fitting to christen ...</td>\n",
              "      <td>2</td>\n",
              "    </tr>\n",
              "    <tr>\n",
              "      <th>8</th>\n",
              "      <td>directions_garmin_nuvi_255W_gps</td>\n",
              "      <td>You also get upscale features like spoken ...</td>\n",
              "      <td>2</td>\n",
              "    </tr>\n",
              "    <tr>\n",
              "      <th>9</th>\n",
              "      <td>display_garmin_nuvi_255W_gps</td>\n",
              "      <td>3 quot  widescreen display was a ...</td>\n",
              "      <td>2</td>\n",
              "    </tr>\n",
              "    <tr>\n",
              "      <th>10</th>\n",
              "      <td>eyesight-issues_amazon_kindle</td>\n",
              "      <td>It feels as easy to read as the K1 but doe...</td>\n",
              "      <td>2</td>\n",
              "    </tr>\n",
              "    <tr>\n",
              "      <th>11</th>\n",
              "      <td>features_windows7</td>\n",
              "      <td>I had to uninstall anti, virus and selecte...</td>\n",
              "      <td>2</td>\n",
              "    </tr>\n",
              "    <tr>\n",
              "      <th>12</th>\n",
              "      <td>fonts_amazon_kindle</td>\n",
              "      <td>Being able to change the font sizes is aw...</td>\n",
              "      <td>2</td>\n",
              "    </tr>\n",
              "    <tr>\n",
              "      <th>23</th>\n",
              "      <td>navigation_amazon_kindle</td>\n",
              "      <td>In fact, the entire navigation structure h...</td>\n",
              "      <td>2</td>\n",
              "    </tr>\n",
              "    <tr>\n",
              "      <th>33</th>\n",
              "      <td>satellite_garmin_nuvi_255W_gps</td>\n",
              "      <td>It's fast to acquire satel...</td>\n",
              "      <td>2</td>\n",
              "    </tr>\n",
              "    <tr>\n",
              "      <th>34</th>\n",
              "      <td>screen_garmin_nuvi_255W_gps</td>\n",
              "      <td>It is easy to read and when touching the...</td>\n",
              "      <td>2</td>\n",
              "    </tr>\n",
              "    <tr>\n",
              "      <th>35</th>\n",
              "      <td>screen_ipod_nano_8gb</td>\n",
              "      <td>As always, the video screen is sharp and b...</td>\n",
              "      <td>2</td>\n",
              "    </tr>\n",
              "    <tr>\n",
              "      <th>36</th>\n",
              "      <td>screen_netbook_1005ha</td>\n",
              "      <td>Keep in mind that once you get in a room ...</td>\n",
              "      <td>2</td>\n",
              "    </tr>\n",
              "    <tr>\n",
              "      <th>41</th>\n",
              "      <td>size_asus_netbook_1005ha</td>\n",
              "      <td>A few other things I'd like to point out i...</td>\n",
              "      <td>2</td>\n",
              "    </tr>\n",
              "    <tr>\n",
              "      <th>43</th>\n",
              "      <td>speed_garmin_nuvi_255W_gps</td>\n",
              "      <td>Another feature on the 255w is a display of...</td>\n",
              "      <td>2</td>\n",
              "    </tr>\n",
              "    <tr>\n",
              "      <th>48</th>\n",
              "      <td>updates_garmin_nuvi_255W_gps</td>\n",
              "      <td>Another thing to consider was that I paid $...</td>\n",
              "      <td>2</td>\n",
              "    </tr>\n",
              "    <tr>\n",
              "      <th>49</th>\n",
              "      <td>video_ipod_nano_8gb</td>\n",
              "      <td>I bought the 8, gig Ipod Nano that has the...</td>\n",
              "      <td>2</td>\n",
              "    </tr>\n",
              "    <tr>\n",
              "      <th>50</th>\n",
              "      <td>voice_garmin_nuvi_255W_gps</td>\n",
              "      <td>The voice prompts and maps are wonderful ...</td>\n",
              "      <td>2</td>\n",
              "    </tr>\n",
              "  </tbody>\n",
              "</table>\n",
              "</div>"
            ],
            "text/plain": [
              "                           filename  \\\n",
              "0     accuracy_garmin_nuvi_255W_gps   \n",
              "5             buttons_amazon_kindle   \n",
              "8   directions_garmin_nuvi_255W_gps   \n",
              "9      display_garmin_nuvi_255W_gps   \n",
              "10    eyesight-issues_amazon_kindle   \n",
              "11                features_windows7   \n",
              "12              fonts_amazon_kindle   \n",
              "23         navigation_amazon_kindle   \n",
              "33   satellite_garmin_nuvi_255W_gps   \n",
              "34      screen_garmin_nuvi_255W_gps   \n",
              "35             screen_ipod_nano_8gb   \n",
              "36            screen_netbook_1005ha   \n",
              "41         size_asus_netbook_1005ha   \n",
              "43       speed_garmin_nuvi_255W_gps   \n",
              "48     updates_garmin_nuvi_255W_gps   \n",
              "49              video_ipod_nano_8gb   \n",
              "50       voice_garmin_nuvi_255W_gps   \n",
              "\n",
              "                                         opinion_text  cluster_label  \n",
              "0                          , and is very, very acc...              2  \n",
              "5       I thought it would be fitting to christen ...              2  \n",
              "8       You also get upscale features like spoken ...              2  \n",
              "9                3 quot  widescreen display was a ...              2  \n",
              "10      It feels as easy to read as the K1 but doe...              2  \n",
              "11      I had to uninstall anti, virus and selecte...              2  \n",
              "12       Being able to change the font sizes is aw...              2  \n",
              "23      In fact, the entire navigation structure h...              2  \n",
              "33                      It's fast to acquire satel...              2  \n",
              "34        It is easy to read and when touching the...              2  \n",
              "35      As always, the video screen is sharp and b...              2  \n",
              "36       Keep in mind that once you get in a room ...              2  \n",
              "41      A few other things I'd like to point out i...              2  \n",
              "43     Another feature on the 255w is a display of...              2  \n",
              "48     Another thing to consider was that I paid $...              2  \n",
              "49      I bought the 8, gig Ipod Nano that has the...              2  \n",
              "50       The voice prompts and maps are wonderful ...              2  "
            ]
          },
          "execution_count": 9,
          "metadata": {},
          "output_type": "execute_result"
        }
      ],
      "source": [
        "document_df[document_df['cluster_label']==2].sort_values(by='filename')"
      ]
    },
    {
      "cell_type": "code",
      "execution_count": null,
      "metadata": {
        "id": "AS9by-Ka_jlb",
        "outputId": "0d3d7c55-0f27-465a-ad40-f19ad4e19e3f"
      },
      "outputs": [
        {
          "data": {
            "text/html": [
              "<div>\n",
              "<style scoped>\n",
              "    .dataframe tbody tr th:only-of-type {\n",
              "        vertical-align: middle;\n",
              "    }\n",
              "\n",
              "    .dataframe tbody tr th {\n",
              "        vertical-align: top;\n",
              "    }\n",
              "\n",
              "    .dataframe thead th {\n",
              "        text-align: right;\n",
              "    }\n",
              "</style>\n",
              "<table border=\"1\" class=\"dataframe\">\n",
              "  <thead>\n",
              "    <tr style=\"text-align: right;\">\n",
              "      <th></th>\n",
              "      <th>filename</th>\n",
              "      <th>opinion_text</th>\n",
              "      <th>cluster_label</th>\n",
              "    </tr>\n",
              "  </thead>\n",
              "  <tbody>\n",
              "    <tr>\n",
              "      <th>13</th>\n",
              "      <td>food_holiday_inn_london</td>\n",
              "      <td>The room was packed to capacity with queu...</td>\n",
              "      <td>3</td>\n",
              "    </tr>\n",
              "    <tr>\n",
              "      <th>14</th>\n",
              "      <td>food_swissotel_chicago</td>\n",
              "      <td>The food for our event was deli...</td>\n",
              "      <td>3</td>\n",
              "    </tr>\n",
              "    <tr>\n",
              "      <th>15</th>\n",
              "      <td>free_bestwestern_hotel_sfo</td>\n",
              "      <td>The wine reception is a great idea as it i...</td>\n",
              "      <td>3</td>\n",
              "    </tr>\n",
              "    <tr>\n",
              "      <th>20</th>\n",
              "      <td>location_bestwestern_hotel_sfo</td>\n",
              "      <td>Good Value good location ,  ideal ...</td>\n",
              "      <td>3</td>\n",
              "    </tr>\n",
              "    <tr>\n",
              "      <th>21</th>\n",
              "      <td>location_holiday_inn_london</td>\n",
              "      <td>Great location for tube and we crammed in...</td>\n",
              "      <td>3</td>\n",
              "    </tr>\n",
              "    <tr>\n",
              "      <th>24</th>\n",
              "      <td>parking_bestwestern_hotel_sfo</td>\n",
              "      <td>Parking was expensive but I think this is ...</td>\n",
              "      <td>3</td>\n",
              "    </tr>\n",
              "    <tr>\n",
              "      <th>27</th>\n",
              "      <td>price_amazon_kindle</td>\n",
              "      <td>If a case was included, as with the Kindle...</td>\n",
              "      <td>3</td>\n",
              "    </tr>\n",
              "    <tr>\n",
              "      <th>28</th>\n",
              "      <td>price_holiday_inn_london</td>\n",
              "      <td>All in all, a normal chain hotel on a nice...</td>\n",
              "      <td>3</td>\n",
              "    </tr>\n",
              "    <tr>\n",
              "      <th>38</th>\n",
              "      <td>service_bestwestern_hotel_sfo</td>\n",
              "      <td>Both of us having worked in tourism for o...</td>\n",
              "      <td>3</td>\n",
              "    </tr>\n",
              "    <tr>\n",
              "      <th>39</th>\n",
              "      <td>service_holiday_inn_london</td>\n",
              "      <td>not customer, oriented hotelvery low servi...</td>\n",
              "      <td>3</td>\n",
              "    </tr>\n",
              "    <tr>\n",
              "      <th>40</th>\n",
              "      <td>service_swissotel_hotel_chicago</td>\n",
              "      <td>Mediocre room and service for a very extr...</td>\n",
              "      <td>3</td>\n",
              "    </tr>\n",
              "    <tr>\n",
              "      <th>45</th>\n",
              "      <td>staff_bestwestern_hotel_sfo</td>\n",
              "      <td>Staff are friendly and hel...</td>\n",
              "      <td>3</td>\n",
              "    </tr>\n",
              "    <tr>\n",
              "      <th>46</th>\n",
              "      <td>staff_swissotel_chicago</td>\n",
              "      <td>The staff at Swissotel were not particula...</td>\n",
              "      <td>3</td>\n",
              "    </tr>\n",
              "  </tbody>\n",
              "</table>\n",
              "</div>"
            ],
            "text/plain": [
              "                           filename  \\\n",
              "13          food_holiday_inn_london   \n",
              "14           food_swissotel_chicago   \n",
              "15       free_bestwestern_hotel_sfo   \n",
              "20   location_bestwestern_hotel_sfo   \n",
              "21      location_holiday_inn_london   \n",
              "24    parking_bestwestern_hotel_sfo   \n",
              "27              price_amazon_kindle   \n",
              "28         price_holiday_inn_london   \n",
              "38    service_bestwestern_hotel_sfo   \n",
              "39       service_holiday_inn_london   \n",
              "40  service_swissotel_hotel_chicago   \n",
              "45      staff_bestwestern_hotel_sfo   \n",
              "46          staff_swissotel_chicago   \n",
              "\n",
              "                                         opinion_text  cluster_label  \n",
              "13       The room was packed to capacity with queu...              3  \n",
              "14                 The food for our event was deli...              3  \n",
              "15      The wine reception is a great idea as it i...              3  \n",
              "20              Good Value good location ,  ideal ...              3  \n",
              "21       Great location for tube and we crammed in...              3  \n",
              "24      Parking was expensive but I think this is ...              3  \n",
              "27      If a case was included, as with the Kindle...              3  \n",
              "28      All in all, a normal chain hotel on a nice...              3  \n",
              "38       Both of us having worked in tourism for o...              3  \n",
              "39      not customer, oriented hotelvery low servi...              3  \n",
              "40       Mediocre room and service for a very extr...              3  \n",
              "45                      Staff are friendly and hel...              3  \n",
              "46       The staff at Swissotel were not particula...              3  "
            ]
          },
          "execution_count": 10,
          "metadata": {},
          "output_type": "execute_result"
        }
      ],
      "source": [
        "document_df[document_df['cluster_label']==3].sort_values(by='filename')"
      ]
    },
    {
      "cell_type": "code",
      "execution_count": null,
      "metadata": {
        "id": "Zy8fV9di_jle",
        "outputId": "f69da492-e926-4bf9-a229-440ca1861863"
      },
      "outputs": [
        {
          "data": {
            "text/html": [
              "<div>\n",
              "<style scoped>\n",
              "    .dataframe tbody tr th:only-of-type {\n",
              "        vertical-align: middle;\n",
              "    }\n",
              "\n",
              "    .dataframe tbody tr th {\n",
              "        vertical-align: top;\n",
              "    }\n",
              "\n",
              "    .dataframe thead th {\n",
              "        text-align: right;\n",
              "    }\n",
              "</style>\n",
              "<table border=\"1\" class=\"dataframe\">\n",
              "  <thead>\n",
              "    <tr style=\"text-align: right;\">\n",
              "      <th></th>\n",
              "      <th>filename</th>\n",
              "      <th>opinion_text</th>\n",
              "      <th>cluster_label</th>\n",
              "    </tr>\n",
              "  </thead>\n",
              "  <tbody>\n",
              "    <tr>\n",
              "      <th>6</th>\n",
              "      <td>comfort_honda_accord_2008</td>\n",
              "      <td>Drivers seat not comfortable, the car its...</td>\n",
              "      <td>4</td>\n",
              "    </tr>\n",
              "    <tr>\n",
              "      <th>7</th>\n",
              "      <td>comfort_toyota_camry_2007</td>\n",
              "      <td>Ride seems comfortable and gas mileage fa...</td>\n",
              "      <td>4</td>\n",
              "    </tr>\n",
              "    <tr>\n",
              "      <th>16</th>\n",
              "      <td>gas_mileage_toyota_camry_2007</td>\n",
              "      <td>Ride seems comfortable and gas mileage fa...</td>\n",
              "      <td>4</td>\n",
              "    </tr>\n",
              "    <tr>\n",
              "      <th>17</th>\n",
              "      <td>interior_honda_accord_2008</td>\n",
              "      <td>I love the new body style and the interior...</td>\n",
              "      <td>4</td>\n",
              "    </tr>\n",
              "    <tr>\n",
              "      <th>18</th>\n",
              "      <td>interior_toyota_camry_2007</td>\n",
              "      <td>First of all, the interior has way too ma...</td>\n",
              "      <td>4</td>\n",
              "    </tr>\n",
              "    <tr>\n",
              "      <th>22</th>\n",
              "      <td>mileage_honda_accord_2008</td>\n",
              "      <td>It's quiet, get good gas mileage and look...</td>\n",
              "      <td>4</td>\n",
              "    </tr>\n",
              "    <tr>\n",
              "      <th>25</th>\n",
              "      <td>performance_honda_accord_2008</td>\n",
              "      <td>Very happy with my 08 Accord, performance i...</td>\n",
              "      <td>4</td>\n",
              "    </tr>\n",
              "    <tr>\n",
              "      <th>29</th>\n",
              "      <td>quality_toyota_camry_2007</td>\n",
              "      <td>I previously owned a Toyota 4Runner which ...</td>\n",
              "      <td>4</td>\n",
              "    </tr>\n",
              "    <tr>\n",
              "      <th>37</th>\n",
              "      <td>seats_honda_accord_2008</td>\n",
              "      <td>Front seats are very uncomfor...</td>\n",
              "      <td>4</td>\n",
              "    </tr>\n",
              "    <tr>\n",
              "      <th>47</th>\n",
              "      <td>transmission_toyota_camry_2007</td>\n",
              "      <td>After slowing down, transmission has to b...</td>\n",
              "      <td>4</td>\n",
              "    </tr>\n",
              "  </tbody>\n",
              "</table>\n",
              "</div>"
            ],
            "text/plain": [
              "                          filename  \\\n",
              "6        comfort_honda_accord_2008   \n",
              "7        comfort_toyota_camry_2007   \n",
              "16   gas_mileage_toyota_camry_2007   \n",
              "17      interior_honda_accord_2008   \n",
              "18      interior_toyota_camry_2007   \n",
              "22       mileage_honda_accord_2008   \n",
              "25   performance_honda_accord_2008   \n",
              "29       quality_toyota_camry_2007   \n",
              "37         seats_honda_accord_2008   \n",
              "47  transmission_toyota_camry_2007   \n",
              "\n",
              "                                         opinion_text  cluster_label  \n",
              "6        Drivers seat not comfortable, the car its...              4  \n",
              "7        Ride seems comfortable and gas mileage fa...              4  \n",
              "16       Ride seems comfortable and gas mileage fa...              4  \n",
              "17      I love the new body style and the interior...              4  \n",
              "18       First of all, the interior has way too ma...              4  \n",
              "22       It's quiet, get good gas mileage and look...              4  \n",
              "25     Very happy with my 08 Accord, performance i...              4  \n",
              "29      I previously owned a Toyota 4Runner which ...              4  \n",
              "37                   Front seats are very uncomfor...              4  \n",
              "47       After slowing down, transmission has to b...              4  "
            ]
          },
          "execution_count": 11,
          "metadata": {},
          "output_type": "execute_result"
        }
      ],
      "source": [
        "document_df[document_df['cluster_label']==4].sort_values(by='filename')"
      ]
    },
    {
      "cell_type": "code",
      "execution_count": null,
      "metadata": {
        "scrolled": false,
        "id": "xNOdZhtJ_jlg",
        "outputId": "36e3aa06-e40e-459b-9d1e-33b45bf74f47"
      },
      "outputs": [
        {
          "data": {
            "text/html": [
              "<div>\n",
              "<style scoped>\n",
              "    .dataframe tbody tr th:only-of-type {\n",
              "        vertical-align: middle;\n",
              "    }\n",
              "\n",
              "    .dataframe tbody tr th {\n",
              "        vertical-align: top;\n",
              "    }\n",
              "\n",
              "    .dataframe thead th {\n",
              "        text-align: right;\n",
              "    }\n",
              "</style>\n",
              "<table border=\"1\" class=\"dataframe\">\n",
              "  <thead>\n",
              "    <tr style=\"text-align: right;\">\n",
              "      <th></th>\n",
              "      <th>filename</th>\n",
              "      <th>opinion_text</th>\n",
              "      <th>cluster_label</th>\n",
              "    </tr>\n",
              "  </thead>\n",
              "  <tbody>\n",
              "    <tr>\n",
              "      <th>0</th>\n",
              "      <td>accuracy_garmin_nuvi_255W_gps</td>\n",
              "      <td>, and is very, very acc...</td>\n",
              "      <td>0</td>\n",
              "    </tr>\n",
              "    <tr>\n",
              "      <th>48</th>\n",
              "      <td>updates_garmin_nuvi_255W_gps</td>\n",
              "      <td>Another thing to consider was that I paid $...</td>\n",
              "      <td>0</td>\n",
              "    </tr>\n",
              "    <tr>\n",
              "      <th>44</th>\n",
              "      <td>speed_windows7</td>\n",
              "      <td>Windows 7 is quite simply faster, more sta...</td>\n",
              "      <td>0</td>\n",
              "    </tr>\n",
              "    <tr>\n",
              "      <th>43</th>\n",
              "      <td>speed_garmin_nuvi_255W_gps</td>\n",
              "      <td>Another feature on the 255w is a display of...</td>\n",
              "      <td>0</td>\n",
              "    </tr>\n",
              "    <tr>\n",
              "      <th>42</th>\n",
              "      <td>sound_ipod_nano_8gb</td>\n",
              "      <td>headphone jack i got a clear case for it a...</td>\n",
              "      <td>0</td>\n",
              "    </tr>\n",
              "    <tr>\n",
              "      <th>41</th>\n",
              "      <td>size_asus_netbook_1005ha</td>\n",
              "      <td>A few other things I'd like to point out i...</td>\n",
              "      <td>0</td>\n",
              "    </tr>\n",
              "    <tr>\n",
              "      <th>36</th>\n",
              "      <td>screen_netbook_1005ha</td>\n",
              "      <td>Keep in mind that once you get in a room ...</td>\n",
              "      <td>0</td>\n",
              "    </tr>\n",
              "    <tr>\n",
              "      <th>35</th>\n",
              "      <td>screen_ipod_nano_8gb</td>\n",
              "      <td>As always, the video screen is sharp and b...</td>\n",
              "      <td>0</td>\n",
              "    </tr>\n",
              "    <tr>\n",
              "      <th>34</th>\n",
              "      <td>screen_garmin_nuvi_255W_gps</td>\n",
              "      <td>It is easy to read and when touching the...</td>\n",
              "      <td>0</td>\n",
              "    </tr>\n",
              "    <tr>\n",
              "      <th>33</th>\n",
              "      <td>satellite_garmin_nuvi_255W_gps</td>\n",
              "      <td>It's fast to acquire satel...</td>\n",
              "      <td>0</td>\n",
              "    </tr>\n",
              "    <tr>\n",
              "      <th>27</th>\n",
              "      <td>price_amazon_kindle</td>\n",
              "      <td>If a case was included, as with the Kindle...</td>\n",
              "      <td>0</td>\n",
              "    </tr>\n",
              "    <tr>\n",
              "      <th>26</th>\n",
              "      <td>performance_netbook_1005ha</td>\n",
              "      <td>The Eee Super Hybrid Engine utility lets u...</td>\n",
              "      <td>0</td>\n",
              "    </tr>\n",
              "    <tr>\n",
              "      <th>49</th>\n",
              "      <td>video_ipod_nano_8gb</td>\n",
              "      <td>I bought the 8, gig Ipod Nano that has the...</td>\n",
              "      <td>0</td>\n",
              "    </tr>\n",
              "    <tr>\n",
              "      <th>23</th>\n",
              "      <td>navigation_amazon_kindle</td>\n",
              "      <td>In fact, the entire navigation structure h...</td>\n",
              "      <td>0</td>\n",
              "    </tr>\n",
              "    <tr>\n",
              "      <th>19</th>\n",
              "      <td>keyboard_netbook_1005ha</td>\n",
              "      <td>,  I think the new keyboard rivals the gre...</td>\n",
              "      <td>0</td>\n",
              "    </tr>\n",
              "    <tr>\n",
              "      <th>50</th>\n",
              "      <td>voice_garmin_nuvi_255W_gps</td>\n",
              "      <td>The voice prompts and maps are wonderful ...</td>\n",
              "      <td>0</td>\n",
              "    </tr>\n",
              "    <tr>\n",
              "      <th>9</th>\n",
              "      <td>display_garmin_nuvi_255W_gps</td>\n",
              "      <td>3 quot  widescreen display was a ...</td>\n",
              "      <td>0</td>\n",
              "    </tr>\n",
              "    <tr>\n",
              "      <th>4</th>\n",
              "      <td>battery-life_netbook_1005ha</td>\n",
              "      <td>6GHz 533FSB cpu, glossy display, 3, Cell 2...</td>\n",
              "      <td>0</td>\n",
              "    </tr>\n",
              "    <tr>\n",
              "      <th>3</th>\n",
              "      <td>battery-life_ipod_nano_8gb</td>\n",
              "      <td>short battery life  I moved up from a...</td>\n",
              "      <td>0</td>\n",
              "    </tr>\n",
              "    <tr>\n",
              "      <th>2</th>\n",
              "      <td>battery-life_amazon_kindle</td>\n",
              "      <td>After I plugged it in to my USB hub on my ...</td>\n",
              "      <td>0</td>\n",
              "    </tr>\n",
              "    <tr>\n",
              "      <th>8</th>\n",
              "      <td>directions_garmin_nuvi_255W_gps</td>\n",
              "      <td>You also get upscale features like spoken ...</td>\n",
              "      <td>0</td>\n",
              "    </tr>\n",
              "    <tr>\n",
              "      <th>10</th>\n",
              "      <td>eyesight-issues_amazon_kindle</td>\n",
              "      <td>It feels as easy to read as the K1 but doe...</td>\n",
              "      <td>0</td>\n",
              "    </tr>\n",
              "    <tr>\n",
              "      <th>11</th>\n",
              "      <td>features_windows7</td>\n",
              "      <td>I had to uninstall anti, virus and selecte...</td>\n",
              "      <td>0</td>\n",
              "    </tr>\n",
              "    <tr>\n",
              "      <th>12</th>\n",
              "      <td>fonts_amazon_kindle</td>\n",
              "      <td>Being able to change the font sizes is aw...</td>\n",
              "      <td>0</td>\n",
              "    </tr>\n",
              "    <tr>\n",
              "      <th>5</th>\n",
              "      <td>buttons_amazon_kindle</td>\n",
              "      <td>I thought it would be fitting to christen ...</td>\n",
              "      <td>0</td>\n",
              "    </tr>\n",
              "    <tr>\n",
              "      <th>13</th>\n",
              "      <td>food_holiday_inn_london</td>\n",
              "      <td>The room was packed to capacity with queu...</td>\n",
              "      <td>1</td>\n",
              "    </tr>\n",
              "    <tr>\n",
              "      <th>39</th>\n",
              "      <td>service_holiday_inn_london</td>\n",
              "      <td>not customer, oriented hotelvery low servi...</td>\n",
              "      <td>1</td>\n",
              "    </tr>\n",
              "    <tr>\n",
              "      <th>38</th>\n",
              "      <td>service_bestwestern_hotel_sfo</td>\n",
              "      <td>Both of us having worked in tourism for o...</td>\n",
              "      <td>1</td>\n",
              "    </tr>\n",
              "    <tr>\n",
              "      <th>1</th>\n",
              "      <td>bathroom_bestwestern_hotel_sfo</td>\n",
              "      <td>The room was not overly big, but clean and...</td>\n",
              "      <td>1</td>\n",
              "    </tr>\n",
              "    <tr>\n",
              "      <th>14</th>\n",
              "      <td>food_swissotel_chicago</td>\n",
              "      <td>The food for our event was deli...</td>\n",
              "      <td>1</td>\n",
              "    </tr>\n",
              "    <tr>\n",
              "      <th>20</th>\n",
              "      <td>location_bestwestern_hotel_sfo</td>\n",
              "      <td>Good Value good location ,  ideal ...</td>\n",
              "      <td>1</td>\n",
              "    </tr>\n",
              "    <tr>\n",
              "      <th>24</th>\n",
              "      <td>parking_bestwestern_hotel_sfo</td>\n",
              "      <td>Parking was expensive but I think this is ...</td>\n",
              "      <td>1</td>\n",
              "    </tr>\n",
              "    <tr>\n",
              "      <th>15</th>\n",
              "      <td>free_bestwestern_hotel_sfo</td>\n",
              "      <td>The wine reception is a great idea as it i...</td>\n",
              "      <td>1</td>\n",
              "    </tr>\n",
              "    <tr>\n",
              "      <th>31</th>\n",
              "      <td>rooms_swissotel_chicago</td>\n",
              "      <td>The Swissotel is one of our favorite hotel...</td>\n",
              "      <td>1</td>\n",
              "    </tr>\n",
              "    <tr>\n",
              "      <th>30</th>\n",
              "      <td>rooms_bestwestern_hotel_sfo</td>\n",
              "      <td>Great Location ,  Nice   Rooms ,  Helpless...</td>\n",
              "      <td>1</td>\n",
              "    </tr>\n",
              "    <tr>\n",
              "      <th>45</th>\n",
              "      <td>staff_bestwestern_hotel_sfo</td>\n",
              "      <td>Staff are friendly and hel...</td>\n",
              "      <td>1</td>\n",
              "    </tr>\n",
              "    <tr>\n",
              "      <th>40</th>\n",
              "      <td>service_swissotel_hotel_chicago</td>\n",
              "      <td>Mediocre room and service for a very extr...</td>\n",
              "      <td>1</td>\n",
              "    </tr>\n",
              "    <tr>\n",
              "      <th>21</th>\n",
              "      <td>location_holiday_inn_london</td>\n",
              "      <td>Great location for tube and we crammed in...</td>\n",
              "      <td>1</td>\n",
              "    </tr>\n",
              "    <tr>\n",
              "      <th>46</th>\n",
              "      <td>staff_swissotel_chicago</td>\n",
              "      <td>The staff at Swissotel were not particula...</td>\n",
              "      <td>1</td>\n",
              "    </tr>\n",
              "    <tr>\n",
              "      <th>32</th>\n",
              "      <td>room_holiday_inn_london</td>\n",
              "      <td>We arrived at 23,30 hours and they could n...</td>\n",
              "      <td>1</td>\n",
              "    </tr>\n",
              "    <tr>\n",
              "      <th>28</th>\n",
              "      <td>price_holiday_inn_london</td>\n",
              "      <td>All in all, a normal chain hotel on a nice...</td>\n",
              "      <td>1</td>\n",
              "    </tr>\n",
              "    <tr>\n",
              "      <th>47</th>\n",
              "      <td>transmission_toyota_camry_2007</td>\n",
              "      <td>After slowing down, transmission has to b...</td>\n",
              "      <td>2</td>\n",
              "    </tr>\n",
              "    <tr>\n",
              "      <th>16</th>\n",
              "      <td>gas_mileage_toyota_camry_2007</td>\n",
              "      <td>Ride seems comfortable and gas mileage fa...</td>\n",
              "      <td>2</td>\n",
              "    </tr>\n",
              "    <tr>\n",
              "      <th>6</th>\n",
              "      <td>comfort_honda_accord_2008</td>\n",
              "      <td>Drivers seat not comfortable, the car its...</td>\n",
              "      <td>2</td>\n",
              "    </tr>\n",
              "    <tr>\n",
              "      <th>7</th>\n",
              "      <td>comfort_toyota_camry_2007</td>\n",
              "      <td>Ride seems comfortable and gas mileage fa...</td>\n",
              "      <td>2</td>\n",
              "    </tr>\n",
              "    <tr>\n",
              "      <th>29</th>\n",
              "      <td>quality_toyota_camry_2007</td>\n",
              "      <td>I previously owned a Toyota 4Runner which ...</td>\n",
              "      <td>2</td>\n",
              "    </tr>\n",
              "    <tr>\n",
              "      <th>22</th>\n",
              "      <td>mileage_honda_accord_2008</td>\n",
              "      <td>It's quiet, get good gas mileage and look...</td>\n",
              "      <td>2</td>\n",
              "    </tr>\n",
              "    <tr>\n",
              "      <th>18</th>\n",
              "      <td>interior_toyota_camry_2007</td>\n",
              "      <td>First of all, the interior has way too ma...</td>\n",
              "      <td>2</td>\n",
              "    </tr>\n",
              "    <tr>\n",
              "      <th>17</th>\n",
              "      <td>interior_honda_accord_2008</td>\n",
              "      <td>I love the new body style and the interior...</td>\n",
              "      <td>2</td>\n",
              "    </tr>\n",
              "    <tr>\n",
              "      <th>37</th>\n",
              "      <td>seats_honda_accord_2008</td>\n",
              "      <td>Front seats are very uncomfor...</td>\n",
              "      <td>2</td>\n",
              "    </tr>\n",
              "    <tr>\n",
              "      <th>25</th>\n",
              "      <td>performance_honda_accord_2008</td>\n",
              "      <td>Very happy with my 08 Accord, performance i...</td>\n",
              "      <td>2</td>\n",
              "    </tr>\n",
              "  </tbody>\n",
              "</table>\n",
              "</div>"
            ],
            "text/plain": [
              "                           filename  \\\n",
              "0     accuracy_garmin_nuvi_255W_gps   \n",
              "48     updates_garmin_nuvi_255W_gps   \n",
              "44                   speed_windows7   \n",
              "43       speed_garmin_nuvi_255W_gps   \n",
              "42              sound_ipod_nano_8gb   \n",
              "41         size_asus_netbook_1005ha   \n",
              "36            screen_netbook_1005ha   \n",
              "35             screen_ipod_nano_8gb   \n",
              "34      screen_garmin_nuvi_255W_gps   \n",
              "33   satellite_garmin_nuvi_255W_gps   \n",
              "27              price_amazon_kindle   \n",
              "26       performance_netbook_1005ha   \n",
              "49              video_ipod_nano_8gb   \n",
              "23         navigation_amazon_kindle   \n",
              "19          keyboard_netbook_1005ha   \n",
              "50       voice_garmin_nuvi_255W_gps   \n",
              "9      display_garmin_nuvi_255W_gps   \n",
              "4       battery-life_netbook_1005ha   \n",
              "3        battery-life_ipod_nano_8gb   \n",
              "2        battery-life_amazon_kindle   \n",
              "8   directions_garmin_nuvi_255W_gps   \n",
              "10    eyesight-issues_amazon_kindle   \n",
              "11                features_windows7   \n",
              "12              fonts_amazon_kindle   \n",
              "5             buttons_amazon_kindle   \n",
              "13          food_holiday_inn_london   \n",
              "39       service_holiday_inn_london   \n",
              "38    service_bestwestern_hotel_sfo   \n",
              "1    bathroom_bestwestern_hotel_sfo   \n",
              "14           food_swissotel_chicago   \n",
              "20   location_bestwestern_hotel_sfo   \n",
              "24    parking_bestwestern_hotel_sfo   \n",
              "15       free_bestwestern_hotel_sfo   \n",
              "31          rooms_swissotel_chicago   \n",
              "30      rooms_bestwestern_hotel_sfo   \n",
              "45      staff_bestwestern_hotel_sfo   \n",
              "40  service_swissotel_hotel_chicago   \n",
              "21      location_holiday_inn_london   \n",
              "46          staff_swissotel_chicago   \n",
              "32          room_holiday_inn_london   \n",
              "28         price_holiday_inn_london   \n",
              "47   transmission_toyota_camry_2007   \n",
              "16    gas_mileage_toyota_camry_2007   \n",
              "6         comfort_honda_accord_2008   \n",
              "7         comfort_toyota_camry_2007   \n",
              "29        quality_toyota_camry_2007   \n",
              "22        mileage_honda_accord_2008   \n",
              "18       interior_toyota_camry_2007   \n",
              "17       interior_honda_accord_2008   \n",
              "37          seats_honda_accord_2008   \n",
              "25    performance_honda_accord_2008   \n",
              "\n",
              "                                         opinion_text  cluster_label  \n",
              "0                          , and is very, very acc...              0  \n",
              "48     Another thing to consider was that I paid $...              0  \n",
              "44      Windows 7 is quite simply faster, more sta...              0  \n",
              "43     Another feature on the 255w is a display of...              0  \n",
              "42      headphone jack i got a clear case for it a...              0  \n",
              "41      A few other things I'd like to point out i...              0  \n",
              "36       Keep in mind that once you get in a room ...              0  \n",
              "35      As always, the video screen is sharp and b...              0  \n",
              "34        It is easy to read and when touching the...              0  \n",
              "33                      It's fast to acquire satel...              0  \n",
              "27      If a case was included, as with the Kindle...              0  \n",
              "26      The Eee Super Hybrid Engine utility lets u...              0  \n",
              "49      I bought the 8, gig Ipod Nano that has the...              0  \n",
              "23      In fact, the entire navigation structure h...              0  \n",
              "19      ,  I think the new keyboard rivals the gre...              0  \n",
              "50       The voice prompts and maps are wonderful ...              0  \n",
              "9                3 quot  widescreen display was a ...              0  \n",
              "4       6GHz 533FSB cpu, glossy display, 3, Cell 2...              0  \n",
              "3            short battery life  I moved up from a...              0  \n",
              "2       After I plugged it in to my USB hub on my ...              0  \n",
              "8       You also get upscale features like spoken ...              0  \n",
              "10      It feels as easy to read as the K1 but doe...              0  \n",
              "11      I had to uninstall anti, virus and selecte...              0  \n",
              "12       Being able to change the font sizes is aw...              0  \n",
              "5       I thought it would be fitting to christen ...              0  \n",
              "13       The room was packed to capacity with queu...              1  \n",
              "39      not customer, oriented hotelvery low servi...              1  \n",
              "38       Both of us having worked in tourism for o...              1  \n",
              "1       The room was not overly big, but clean and...              1  \n",
              "14                 The food for our event was deli...              1  \n",
              "20              Good Value good location ,  ideal ...              1  \n",
              "24      Parking was expensive but I think this is ...              1  \n",
              "15      The wine reception is a great idea as it i...              1  \n",
              "31      The Swissotel is one of our favorite hotel...              1  \n",
              "30      Great Location ,  Nice   Rooms ,  Helpless...              1  \n",
              "45                      Staff are friendly and hel...              1  \n",
              "40       Mediocre room and service for a very extr...              1  \n",
              "21       Great location for tube and we crammed in...              1  \n",
              "46       The staff at Swissotel were not particula...              1  \n",
              "32      We arrived at 23,30 hours and they could n...              1  \n",
              "28      All in all, a normal chain hotel on a nice...              1  \n",
              "47       After slowing down, transmission has to b...              2  \n",
              "16       Ride seems comfortable and gas mileage fa...              2  \n",
              "6        Drivers seat not comfortable, the car its...              2  \n",
              "7        Ride seems comfortable and gas mileage fa...              2  \n",
              "29      I previously owned a Toyota 4Runner which ...              2  \n",
              "22       It's quiet, get good gas mileage and look...              2  \n",
              "18       First of all, the interior has way too ma...              2  \n",
              "17      I love the new body style and the interior...              2  \n",
              "37                   Front seats are very uncomfor...              2  \n",
              "25     Very happy with my 08 Accord, performance i...              2  "
            ]
          },
          "execution_count": 19,
          "metadata": {},
          "output_type": "execute_result"
        }
      ],
      "source": [
        "from sklearn.cluster import KMeans\n",
        "\n",
        "# 3개의 집합으로 군집화 \n",
        "km_cluster = KMeans(n_clusters=3, max_iter=10000, random_state=0)\n",
        "km_cluster.fit(feature_vect)\n",
        "cluster_label = km_cluster.labels_\n",
        "\n",
        "\n",
        "# 소속 클러스터를 cluster_label 컬럼으로 할당하고 cluster_label 값으로 정렬\n",
        "document_df['cluster_label'] = cluster_label\n",
        "document_df.sort_values(by='cluster_label')"
      ]
    },
    {
      "cell_type": "markdown",
      "source": [
        "**군집(Cluster)별 핵심 단어 추출하기**"
      ],
      "metadata": {
        "id": "SaIaUTIPE-hh"
      }
    },
    {
      "cell_type": "code",
      "execution_count": null,
      "metadata": {
        "id": "UdNpE5rh_jll",
        "outputId": "ea121f1b-8f38-4c99-f9a2-8aa652019ab1"
      },
      "outputs": [
        {
          "name": "stdout",
          "output_type": "stream",
          "text": [
            "cluster_centers shape : (3, 2409)\n",
            "[[0.01819865 0.         0.         ... 0.         0.         0.00471073]\n",
            " [0.         0.00170335 0.0025537  ... 0.0032582  0.00349413 0.        ]\n",
            " [0.         0.00137309 0.         ... 0.         0.         0.        ]]\n"
          ]
        }
      ],
      "source": [
        "cluster_centers = km_cluster.cluster_centers_\n",
        "print('cluster_centers shape :',cluster_centers.shape)\n",
        "print(cluster_centers)"
      ]
    },
    {
      "cell_type": "code",
      "execution_count": null,
      "metadata": {
        "id": "1ovLkAGM_jlo"
      },
      "outputs": [],
      "source": [
        "# 군집별 top n 핵심단어, 그 단어의 중심 위치 상대값, 대상 파일명들을 반환함. \n",
        "def get_cluster_details(cluster_model, cluster_data, feature_names, clusters_num, top_n_features=10):\n",
        "    cluster_details = {}\n",
        "    \n",
        "    # cluster_centers array 의 값이 큰 순으로 정렬된 index 값을 반환\n",
        "    # 군집 중심점(centroid)별 할당된 word 피처들의 거리값이 큰 순으로 값을 구하기 위함.  \n",
        "    centroid_feature_ordered_ind = cluster_model.cluster_centers_.argsort()[:,::-1]\n",
        "    \n",
        "    #개별 군집별로 iteration하면서 핵심단어, 그 단어의 중심 위치 상대값, 대상 파일명 입력\n",
        "    for cluster_num in range(clusters_num):\n",
        "        # 개별 군집별 정보를 담을 데이터 초기화. \n",
        "        cluster_details[cluster_num] = {}\n",
        "        cluster_details[cluster_num]['cluster'] = cluster_num\n",
        "        \n",
        "        # cluster_centers_.argsort()[:,::-1] 로 구한 index 를 이용하여 top n 피처 단어를 구함. \n",
        "        top_feature_indexes = centroid_feature_ordered_ind[cluster_num, :top_n_features]\n",
        "        top_features = [ feature_names[ind] for ind in top_feature_indexes ]\n",
        "        \n",
        "        # top_feature_indexes를 이용해 해당 피처 단어의 중심 위치 상댓값 구함 \n",
        "        top_feature_values = cluster_model.cluster_centers_[cluster_num, top_feature_indexes].tolist()\n",
        "        \n",
        "        # cluster_details 딕셔너리 객체에 개별 군집별 핵심 단어와 중심위치 상대값, 그리고 해당 파일명 입력\n",
        "        cluster_details[cluster_num]['top_features'] = top_features\n",
        "        cluster_details[cluster_num]['top_features_value'] = top_feature_values\n",
        "        filenames = cluster_data[cluster_data['cluster_label'] == cluster_num]['filename']\n",
        "        filenames = filenames.values.tolist()\n",
        "        cluster_details[cluster_num]['filenames'] = filenames\n",
        "        \n",
        "    return cluster_details\n"
      ]
    },
    {
      "cell_type": "code",
      "execution_count": null,
      "metadata": {
        "id": "deF6KXa0_jls"
      },
      "outputs": [],
      "source": [
        "def print_cluster_details(cluster_details):\n",
        "    for cluster_num, cluster_detail in cluster_details.items():\n",
        "        print('####### Cluster {0}'.format(cluster_num))\n",
        "        print('Top features:', cluster_detail['top_features'])\n",
        "        print('Reviews 파일명 :',cluster_detail['filenames'][:7])\n",
        "        print('==================================================')\n"
      ]
    },
    {
      "cell_type": "code",
      "execution_count": null,
      "metadata": {
        "id": "hE7HQEv9_jlt",
        "outputId": "8f131ec0-1268-4bdb-f205-9efc4dad3d5e"
      },
      "outputs": [
        {
          "name": "stdout",
          "output_type": "stream",
          "text": [
            "####### Cluster 0\n",
            "Top features: ['screen', 'battery', 'life', 'battery life', 'keyboard', 'kindle', 'size', 'button', 'easy', 'voice']\n",
            "Reviews 파일명 : ['accuracy_garmin_nuvi_255W_gps', 'battery-life_amazon_kindle', 'battery-life_ipod_nano_8gb', 'battery-life_netbook_1005ha', 'buttons_amazon_kindle', 'directions_garmin_nuvi_255W_gps', 'display_garmin_nuvi_255W_gps']\n",
            "==================================================\n",
            "####### Cluster 1\n",
            "Top features: ['room', 'hotel', 'service', 'location', 'staff', 'food', 'clean', 'bathroom', 'parking', 'room wa']\n",
            "Reviews 파일명 : ['bathroom_bestwestern_hotel_sfo', 'food_holiday_inn_london', 'food_swissotel_chicago', 'free_bestwestern_hotel_sfo', 'location_bestwestern_hotel_sfo', 'location_holiday_inn_london', 'parking_bestwestern_hotel_sfo']\n",
            "==================================================\n",
            "####### Cluster 2\n",
            "Top features: ['interior', 'seat', 'mileage', 'comfortable', 'car', 'gas', 'transmission', 'gas mileage', 'ride', 'comfort']\n",
            "Reviews 파일명 : ['comfort_honda_accord_2008', 'comfort_toyota_camry_2007', 'gas_mileage_toyota_camry_2007', 'interior_honda_accord_2008', 'interior_toyota_camry_2007', 'mileage_honda_accord_2008', 'performance_honda_accord_2008']\n",
            "==================================================\n"
          ]
        }
      ],
      "source": [
        "feature_names = tfidf_vect.get_feature_names()\n",
        "\n",
        "cluster_details = get_cluster_details(cluster_model=km_cluster, cluster_data=document_df,\\\n",
        "                                  feature_names=feature_names, clusters_num=3, top_n_features=10 )\n",
        "print_cluster_details(cluster_details)"
      ]
    },
    {
      "cell_type": "markdown",
      "source": [
        "---\n",
        "---\n",
        "# **10. 텍스트 분석 실습 - 캐글 Mercari Price Suggestion Challenge**"
      ],
      "metadata": {
        "id": "sE0pC4S5FQcj"
      }
    },
    {
      "cell_type": "markdown",
      "source": [
        "**데이터 전처리**"
      ],
      "metadata": {
        "id": "_7CeFDg2Fhkg"
      }
    },
    {
      "cell_type": "code",
      "source": [
        ""
      ],
      "metadata": {
        "id": "YQRIto_sFjpI"
      },
      "execution_count": null,
      "outputs": []
    },
    {
      "cell_type": "code",
      "execution_count": null,
      "metadata": {
        "id": "FgwvqxYUFTdo",
        "outputId": "494c2217-3c88-4a09-e8d1-6e1fd19e62f5"
      },
      "outputs": [
        {
          "name": "stdout",
          "output_type": "stream",
          "text": [
            "(1482535, 8)\n"
          ]
        },
        {
          "data": {
            "text/html": [
              "<div>\n",
              "<style scoped>\n",
              "    .dataframe tbody tr th:only-of-type {\n",
              "        vertical-align: middle;\n",
              "    }\n",
              "\n",
              "    .dataframe tbody tr th {\n",
              "        vertical-align: top;\n",
              "    }\n",
              "\n",
              "    .dataframe thead th {\n",
              "        text-align: right;\n",
              "    }\n",
              "</style>\n",
              "<table border=\"1\" class=\"dataframe\">\n",
              "  <thead>\n",
              "    <tr style=\"text-align: right;\">\n",
              "      <th></th>\n",
              "      <th>train_id</th>\n",
              "      <th>name</th>\n",
              "      <th>item_condition_id</th>\n",
              "      <th>category_name</th>\n",
              "      <th>brand_name</th>\n",
              "      <th>price</th>\n",
              "      <th>shipping</th>\n",
              "      <th>item_description</th>\n",
              "    </tr>\n",
              "  </thead>\n",
              "  <tbody>\n",
              "    <tr>\n",
              "      <th>0</th>\n",
              "      <td>0</td>\n",
              "      <td>MLB Cincinnati Reds T Shirt Size XL</td>\n",
              "      <td>3</td>\n",
              "      <td>Men/Tops/T-shirts</td>\n",
              "      <td>NaN</td>\n",
              "      <td>10.0</td>\n",
              "      <td>1</td>\n",
              "      <td>No description yet</td>\n",
              "    </tr>\n",
              "    <tr>\n",
              "      <th>1</th>\n",
              "      <td>1</td>\n",
              "      <td>Razer BlackWidow Chroma Keyboard</td>\n",
              "      <td>3</td>\n",
              "      <td>Electronics/Computers &amp; Tablets/Components &amp; P...</td>\n",
              "      <td>Razer</td>\n",
              "      <td>52.0</td>\n",
              "      <td>0</td>\n",
              "      <td>This keyboard is in great condition and works ...</td>\n",
              "    </tr>\n",
              "    <tr>\n",
              "      <th>2</th>\n",
              "      <td>2</td>\n",
              "      <td>AVA-VIV Blouse</td>\n",
              "      <td>1</td>\n",
              "      <td>Women/Tops &amp; Blouses/Blouse</td>\n",
              "      <td>Target</td>\n",
              "      <td>10.0</td>\n",
              "      <td>1</td>\n",
              "      <td>Adorable top with a hint of lace and a key hol...</td>\n",
              "    </tr>\n",
              "  </tbody>\n",
              "</table>\n",
              "</div>"
            ],
            "text/plain": [
              "   train_id                                 name  item_condition_id  \\\n",
              "0         0  MLB Cincinnati Reds T Shirt Size XL                  3   \n",
              "1         1     Razer BlackWidow Chroma Keyboard                  3   \n",
              "2         2                       AVA-VIV Blouse                  1   \n",
              "\n",
              "                                       category_name brand_name  price  \\\n",
              "0                                  Men/Tops/T-shirts        NaN   10.0   \n",
              "1  Electronics/Computers & Tablets/Components & P...      Razer   52.0   \n",
              "2                        Women/Tops & Blouses/Blouse     Target   10.0   \n",
              "\n",
              "   shipping                                   item_description  \n",
              "0         1                                 No description yet  \n",
              "1         0  This keyboard is in great condition and works ...  \n",
              "2         1  Adorable top with a hint of lace and a key hol...  "
            ]
          },
          "execution_count": 1,
          "metadata": {},
          "output_type": "execute_result"
        }
      ],
      "source": [
        "from sklearn.linear_model import Ridge , LogisticRegression\n",
        "from sklearn.model_selection import train_test_split , cross_val_score\n",
        "from sklearn.feature_extraction.text import CountVectorizer , TfidfVectorizer\n",
        "import pandas as pd\n",
        "\n",
        "mercari_df= pd.read_csv('mercari_train.tsv',sep='\\t')\n",
        "print(mercari_df.shape)\n",
        "mercari_df.head(3)"
      ]
    },
    {
      "cell_type": "code",
      "execution_count": null,
      "metadata": {
        "id": "v5ZAgRdjFTeC",
        "outputId": "d525e3a4-869b-463d-91a8-21a52bcff53a"
      },
      "outputs": [
        {
          "name": "stdout",
          "output_type": "stream",
          "text": [
            "<class 'pandas.core.frame.DataFrame'>\n",
            "RangeIndex: 1482535 entries, 0 to 1482534\n",
            "Data columns (total 8 columns):\n",
            "train_id             1482535 non-null int64\n",
            "name                 1482535 non-null object\n",
            "item_condition_id    1482535 non-null int64\n",
            "category_name        1476208 non-null object\n",
            "brand_name           849853 non-null object\n",
            "price                1482535 non-null float64\n",
            "shipping             1482535 non-null int64\n",
            "item_description     1482531 non-null object\n",
            "dtypes: float64(1), int64(3), object(4)\n",
            "memory usage: 90.5+ MB\n",
            "None\n"
          ]
        }
      ],
      "source": [
        "print(mercari_df.info())"
      ]
    },
    {
      "cell_type": "code",
      "execution_count": null,
      "metadata": {
        "id": "JnXwQ3PBFTeE",
        "outputId": "5e75e0e5-96d7-40a6-a618-34dfe2bd3d50"
      },
      "outputs": [
        {
          "name": "stderr",
          "output_type": "stream",
          "text": [
            "C:\\Users\\chkwon\\Anaconda3\\lib\\site-packages\\matplotlib\\axes\\_axes.py:6462: UserWarning: The 'normed' kwarg is deprecated, and has been replaced by the 'density' kwarg.\n",
            "  warnings.warn(\"The 'normed' kwarg is deprecated, and has been \"\n"
          ]
        },
        {
          "data": {
            "text/plain": [
              "<matplotlib.axes._subplots.AxesSubplot at 0x1b19c73d438>"
            ]
          },
          "execution_count": 3,
          "metadata": {},
          "output_type": "execute_result"
        },
        {
          "data": {
            "image/png": "[encoded data removed]",
            "text/plain": [
              "<Figure size 432x288 with 1 Axes>"
            ]
          },
          "metadata": {},
          "output_type": "display_data"
        }
      ],
      "source": [
        "import matplotlib.pyplot as plt\n",
        "import seaborn as sns\n",
        "%matplotlib inline\n",
        "\n",
        "y_train_df = mercari_df['price']\n",
        "plt.figure(figsize=(6,4))\n",
        "sns.distplot(y_train_df,kde=False)"
      ]
    },
    {
      "cell_type": "code",
      "execution_count": null,
      "metadata": {
        "id": "NsmAP61KFTeH",
        "outputId": "151aadff-4eaa-45e8-b9d2-5f9cb370c081"
      },
      "outputs": [
        {
          "name": "stderr",
          "output_type": "stream",
          "text": [
            "C:\\Users\\chkwon\\Anaconda3\\lib\\site-packages\\matplotlib\\axes\\_axes.py:6462: UserWarning: The 'normed' kwarg is deprecated, and has been replaced by the 'density' kwarg.\n",
            "  warnings.warn(\"The 'normed' kwarg is deprecated, and has been \"\n"
          ]
        },
        {
          "data": {
            "text/plain": [
              "<matplotlib.axes._subplots.AxesSubplot at 0x1b19c720da0>"
            ]
          },
          "execution_count": 4,
          "metadata": {},
          "output_type": "execute_result"
        },
        {
          "data": {
            "image/png": "[encoded data removed]",
            "text/plain": [
              "<Figure size 432x288 with 1 Axes>"
            ]
          },
          "metadata": {},
          "output_type": "display_data"
        }
      ],
      "source": [
        "import numpy as np\n",
        "\n",
        "y_train_df = np.log1p(y_train_df)\n",
        "sns.distplot(y_train_df,kde=False)\n"
      ]
    },
    {
      "cell_type": "code",
      "execution_count": null,
      "metadata": {
        "id": "q3R1Fhq-FTeJ",
        "outputId": "6456ad53-5e32-43ed-883e-385fe4bd1978"
      },
      "outputs": [
        {
          "data": {
            "text/plain": [
              "0    2.397895\n",
              "1    3.970292\n",
              "2    2.397895\n",
              "Name: price, dtype: float64"
            ]
          },
          "execution_count": 5,
          "metadata": {},
          "output_type": "execute_result"
        }
      ],
      "source": [
        "mercari_df['price'] = np.log1p(mercari_df['price'])\n",
        "mercari_df['price'].head(3)"
      ]
    },
    {
      "cell_type": "code",
      "execution_count": null,
      "metadata": {
        "id": "NZtJerWtFTeM",
        "outputId": "53322546-efc3-40c4-9e79-6a8dcc0fdce7"
      },
      "outputs": [
        {
          "name": "stdout",
          "output_type": "stream",
          "text": [
            "Shipping 값 유형:\n",
            " 0    819435\n",
            "1    663100\n",
            "Name: shipping, dtype: int64\n",
            "item_condition_id 값 유형:\n",
            " 1    640549\n",
            "3    432161\n",
            "2    375479\n",
            "4     31962\n",
            "5      2384\n",
            "Name: item_condition_id, dtype: int64\n"
          ]
        }
      ],
      "source": [
        "print('Shipping 값 유형:\\n',mercari_df['shipping'].value_counts())\n",
        "print('item_condition_id 값 유형:\\n',mercari_df['item_condition_id'].value_counts())\n"
      ]
    },
    {
      "cell_type": "code",
      "execution_count": null,
      "metadata": {
        "id": "i4KMC2WCFTeQ",
        "outputId": "31eb97bf-08c5-4fc5-b55c-8fc0a675285c"
      },
      "outputs": [
        {
          "data": {
            "text/plain": [
              "82489"
            ]
          },
          "execution_count": 7,
          "metadata": {},
          "output_type": "execute_result"
        }
      ],
      "source": [
        "boolean_cond= mercari_df['item_description']=='No description yet'\n",
        "mercari_df[boolean_cond]['item_description'].count()"
      ]
    },
    {
      "cell_type": "code",
      "execution_count": null,
      "metadata": {
        "id": "DqSYxL6eFTeT",
        "outputId": "98a48f45-7c5b-4007-ea0d-d317e3de7291"
      },
      "outputs": [
        {
          "name": "stdout",
          "output_type": "stream",
          "text": [
            "대분류 유형 :\n",
            " Women                     664385\n",
            "Beauty                    207828\n",
            "Kids                      171689\n",
            "Electronics               122690\n",
            "Men                        93680\n",
            "Home                       67871\n",
            "Vintage & Collectibles     46530\n",
            "Other                      45351\n",
            "Handmade                   30842\n",
            "Sports & Outdoors          25342\n",
            "Other_Null                  6327\n",
            "Name: cat_dae, dtype: int64\n",
            "중분류 갯수 : 114\n",
            "소분류 갯수 : 871\n"
          ]
        }
      ],
      "source": [
        "# apply lambda에서 호출되는 대,중,소 분할 함수 생성, 대,중,소 값을 리스트 반환\n",
        "def split_cat(category_name):\n",
        "    try:\n",
        "        return category_name.split('/')\n",
        "    except:\n",
        "        return ['Other_Null' , 'Other_Null' , 'Other_Null']\n",
        "\n",
        "# 위의 split_cat( )을 apply lambda에서 호출하여 대,중,소 컬럼을 mercari_df에 생성. \n",
        "mercari_df['cat_dae'], mercari_df['cat_jung'], mercari_df['cat_so'] = \\\n",
        "                        zip(*mercari_df['category_name'].apply(lambda x : split_cat(x)))\n",
        "\n",
        "# 대분류만 값의 유형과 건수를 살펴보고, 중분류, 소분류는 값의 유형이 많으므로 분류 갯수만 추출\n",
        "print('대분류 유형 :\\n', mercari_df['cat_dae'].value_counts())\n",
        "print('중분류 갯수 :', mercari_df['cat_jung'].nunique())\n",
        "print('소분류 갯수 :', mercari_df['cat_so'].nunique())\n"
      ]
    },
    {
      "cell_type": "code",
      "execution_count": null,
      "metadata": {
        "id": "i0Mz5blcFTeX",
        "outputId": "5f62e03e-a948-4c6d-da64-f91961851b2f"
      },
      "outputs": [
        {
          "data": {
            "text/plain": [
              "train_id             0\n",
              "name                 0\n",
              "item_condition_id    0\n",
              "category_name        0\n",
              "brand_name           0\n",
              "price                0\n",
              "shipping             0\n",
              "item_description     0\n",
              "cat_dae              0\n",
              "cat_jung             0\n",
              "cat_so               0\n",
              "dtype: int64"
            ]
          },
          "execution_count": 9,
          "metadata": {},
          "output_type": "execute_result"
        }
      ],
      "source": [
        "mercari_df['brand_name'] = mercari_df['brand_name'].fillna(value='Other_Null')\n",
        "mercari_df['category_name'] = mercari_df['category_name'].fillna(value='Other_Null')\n",
        "mercari_df['item_description'] = mercari_df['item_description'].fillna(value='Other_Null')\n",
        "\n",
        "# 각 컬럼별로 Null값 건수 확인. 모두 0가 나와야 합니다.\n",
        "mercari_df.isnull().sum()"
      ]
    },
    {
      "cell_type": "markdown",
      "source": [
        "**피처 인코딩과 피처 벡터화**"
      ],
      "metadata": {
        "id": "t2XqsdKoGBfn"
      }
    },
    {
      "cell_type": "code",
      "execution_count": null,
      "metadata": {
        "id": "55UhADuZFTeb",
        "outputId": "5beee224-df50-410d-d8ed-8d6816e0674e"
      },
      "outputs": [
        {
          "name": "stdout",
          "output_type": "stream",
          "text": [
            "brand name 의 유형 건수 : 4810\n",
            "brand name sample 5건 : \n",
            " Other_Null           632682\n",
            "PINK                  54088\n",
            "Nike                  54043\n",
            "Victoria's Secret     48036\n",
            "LuLaRoe               31024\n",
            "Name: brand_name, dtype: int64\n"
          ]
        }
      ],
      "source": [
        "print('brand name 의 유형 건수 :', mercari_df['brand_name'].nunique())\n",
        "print('brand name sample 5건 : \\n', mercari_df['brand_name'].value_counts()[:5])"
      ]
    },
    {
      "cell_type": "code",
      "execution_count": null,
      "metadata": {
        "id": "HYPChJOdFTeg",
        "outputId": "ca46e0eb-045c-49dd-be0c-55f04bf46a7d"
      },
      "outputs": [
        {
          "name": "stdout",
          "output_type": "stream",
          "text": [
            "item_description 평균 문자열 개수: 145.7113889385411\n"
          ]
        },
        {
          "data": {
            "text/plain": [
              "0                                                                                                                                                                              No description yet\n",
              "1    This keyboard is in great condition and works like it came out of the box. All of the ports are tested and work perfectly. The lights are customizable via the Razer Synapse app on your PC.\n",
              "Name: item_description, dtype: object"
            ]
          },
          "execution_count": 12,
          "metadata": {},
          "output_type": "execute_result"
        }
      ],
      "source": [
        "pd.set_option('max_colwidth', 200)\n",
        "\n",
        "# item_description의 평균 문자열 개수\n",
        "print('item_description 평균 문자열 개수:',mercari_df['item_description'].str.len().mean())\n",
        "\n",
        "mercari_df['item_description'][:2]"
      ]
    },
    {
      "cell_type": "code",
      "execution_count": null,
      "metadata": {
        "id": "sHSa0LhLFTeh",
        "outputId": "b25eeb67-b42c-49a9-cf8b-a22443ecdfc1"
      },
      "outputs": [
        {
          "name": "stdout",
          "output_type": "stream",
          "text": [
            "name vectorization shape: (1482535, 105757)\n",
            "item_description vectorization shape: (1482535, 50000)\n"
          ]
        }
      ],
      "source": [
        "# name 속성에 대한 feature vectorization 변환\n",
        "cnt_vec = CountVectorizer()\n",
        "X_name = cnt_vec.fit_transform(mercari_df.name)\n",
        "\n",
        "# item_description 에 대한 feature vectorization 변환 \n",
        "tfidf_descp = TfidfVectorizer(max_features = 50000, ngram_range= (1,3) , stop_words='english')\n",
        "X_descp = tfidf_descp.fit_transform(mercari_df['item_description'])\n",
        "\n",
        "print('name vectorization shape:',X_name.shape)\n",
        "print('item_description vectorization shape:',X_descp.shape)\n"
      ]
    },
    {
      "cell_type": "code",
      "execution_count": null,
      "metadata": {
        "id": "uQwGmW1vFTej"
      },
      "outputs": [],
      "source": [
        "from sklearn.preprocessing import LabelBinarizer\n",
        "\n",
        "# brand_name, item_condition_id, shipping 각 피처들을 희소 행렬 원-핫 인코딩 변환\n",
        "lb_brand_name= LabelBinarizer(sparse_output=True)\n",
        "X_brand = lb_brand_name.fit_transform(mercari_df['brand_name'])\n",
        "\n",
        "lb_item_cond_id = LabelBinarizer(sparse_output=True)\n",
        "X_item_cond_id = lb_item_cond_id.fit_transform(mercari_df['item_condition_id'])\n",
        "\n",
        "lb_shipping= LabelBinarizer(sparse_output=True)\n",
        "X_shipping = lb_shipping.fit_transform(mercari_df['shipping'])\n",
        "\n",
        "# cat_dae, cat_jung, cat_so 각 피처들을 희소 행렬 원-핫 인코딩 변환\n",
        "lb_cat_dae = LabelBinarizer(sparse_output=True)\n",
        "X_cat_dae= lb_cat_dae.fit_transform(mercari_df['cat_dae'])\n",
        "\n",
        "lb_cat_jung = LabelBinarizer(sparse_output=True)\n",
        "X_cat_jung = lb_cat_jung.fit_transform(mercari_df['cat_jung'])\n",
        "\n",
        "lb_cat_so = LabelBinarizer(sparse_output=True)\n",
        "X_cat_so = lb_cat_so.fit_transform(mercari_df['cat_so'])"
      ]
    },
    {
      "cell_type": "code",
      "execution_count": null,
      "metadata": {
        "id": "IA7fTc7YFTew",
        "outputId": "f40272ad-15b3-4d6f-99b5-72e9b54bc953"
      },
      "outputs": [
        {
          "name": "stdout",
          "output_type": "stream",
          "text": [
            "<class 'scipy.sparse.csr.csr_matrix'> (1482535, 161569)\n"
          ]
        },
        {
          "data": {
            "text/plain": [
              "0"
            ]
          },
          "execution_count": 16,
          "metadata": {},
          "output_type": "execute_result"
        }
      ],
      "source": [
        "from  scipy.sparse import hstack\n",
        "import gc\n",
        "\n",
        "sparse_matrix_list = (X_name, X_descp, X_brand, X_item_cond_id,\n",
        "            X_shipping, X_cat_dae, X_cat_jung, X_cat_so)\n",
        "\n",
        "# 사이파이 sparse 모듈의 hstack 함수를 이용하여 앞에서 인코딩과 Vectorization을 수행한 데이터 셋을 모두 결합. \n",
        "X_features_sparse= hstack(sparse_matrix_list).tocsr()\n",
        "print(type(X_features_sparse), X_features_sparse.shape)\n",
        "\n",
        "# 데이터 셋이 메모리를 많이 차지하므로 사용 용도가 끝났으면 바로 메모리에서 삭제. \n",
        "del X_features_sparse\n",
        "gc.collect()\n"
      ]
    },
    {
      "cell_type": "markdown",
      "source": [
        "**릿지 회귀 모델 구축 및 평가**"
      ],
      "metadata": {
        "id": "r4c063luGYX5"
      }
    },
    {
      "cell_type": "code",
      "execution_count": null,
      "metadata": {
        "id": "PAN8usjqFTez"
      },
      "outputs": [],
      "source": [
        "def rmsle(y , y_pred):\n",
        "    # underflow, overflow를 막기 위해 log가 아닌 log1p로 rmsle 계산 \n",
        "    return np.sqrt(np.mean(np.power(np.log1p(y) - np.log1p(y_pred), 2)))\n",
        "\n",
        "def evaluate_org_price(y_test , preds): \n",
        "    \n",
        "    # 원본 데이터는 log1p로 변환되었으므로 exmpm1으로 원복 필요. \n",
        "    preds_exmpm = np.expm1(preds)\n",
        "    y_test_exmpm = np.expm1(y_test)\n",
        "    \n",
        "    # rmsle로 RMSLE 값 추출\n",
        "    rmsle_result = rmsle(y_test_exmpm, preds_exmpm)\n",
        "    return rmsle_result"
      ]
    },
    {
      "cell_type": "code",
      "execution_count": null,
      "metadata": {
        "id": "vZdw5bRpFTe1"
      },
      "outputs": [],
      "source": [
        "import gc \n",
        "from  scipy.sparse import hstack\n",
        "\n",
        "def model_train_predict(model,matrix_list):\n",
        "    # scipy.sparse 모듈의 hstack 을 이용하여 sparse matrix 결합\n",
        "    X= hstack(matrix_list).tocsr()     \n",
        "    \n",
        "    X_train, X_test, y_train, y_test=train_test_split(X, mercari_df['price'], \n",
        "                                                      test_size=0.2, random_state=156)\n",
        "    \n",
        "    # 모델 학습 및 예측\n",
        "    model.fit(X_train , y_train)\n",
        "    preds = model.predict(X_test)\n",
        "    \n",
        "    del X , X_train , X_test , y_train \n",
        "    gc.collect()\n",
        "    \n",
        "    return preds , y_test"
      ]
    },
    {
      "cell_type": "code",
      "execution_count": null,
      "metadata": {
        "id": "eJ_4Pp30FTe2",
        "outputId": "ac634537-ce21-486e-9859-fbf6ac5fe98d"
      },
      "outputs": [
        {
          "name": "stdout",
          "output_type": "stream",
          "text": [
            "Item Description을 제외했을 때 rmsle 값: 0.5021632139113013\n",
            "Item Description을 포함한 rmsle 값: 0.47122043277496645\n"
          ]
        }
      ],
      "source": [
        "linear_model = Ridge(solver = \"lsqr\", fit_intercept=False)\n",
        "\n",
        "sparse_matrix_list = (X_name, X_brand, X_item_cond_id,\n",
        "                      X_shipping, X_cat_dae, X_cat_jung, X_cat_so)\n",
        "linear_preds , y_test = model_train_predict(model=linear_model ,matrix_list=sparse_matrix_list)\n",
        "print('Item Description을 제외했을 때 rmsle 값:', evaluate_org_price(y_test , linear_preds))\n",
        "\n",
        "sparse_matrix_list = (X_descp, X_name, X_brand, X_item_cond_id,\n",
        "                      X_shipping, X_cat_dae, X_cat_jung, X_cat_so)\n",
        "linear_preds , y_test = model_train_predict(model=linear_model , matrix_list=sparse_matrix_list)\n",
        "print('Item Description을 포함한 rmsle 값:',  evaluate_org_price(y_test ,linear_preds))\n"
      ]
    },
    {
      "cell_type": "markdown",
      "source": [
        "**LightGBM 회귀 모델 구축과 앙상블을 이용한 최종 예측 평가**"
      ],
      "metadata": {
        "id": "XMCoK0mKGl9Y"
      }
    },
    {
      "cell_type": "code",
      "execution_count": null,
      "metadata": {
        "id": "dunomufrFTe6",
        "outputId": "7f0269ee-6841-4528-f93f-9d524dbdec7c"
      },
      "outputs": [
        {
          "name": "stdout",
          "output_type": "stream",
          "text": [
            "LightGBM rmsle 값: 0.4558577120744113\n"
          ]
        }
      ],
      "source": [
        "from lightgbm import LGBMRegressor\n",
        "\n",
        "sparse_matrix_list = (X_descp, X_name, X_brand, X_item_cond_id,\n",
        "                      X_shipping, X_cat_dae, X_cat_jung, X_cat_so)\n",
        "\n",
        "lgbm_model = LGBMRegressor(n_estimators=200, learning_rate=0.5, num_leaves=125, random_state=156)\n",
        "lgbm_preds , y_test = model_train_predict(model = lgbm_model , matrix_list=sparse_matrix_list)\n",
        "print('LightGBM rmsle 값:',  evaluate_org_price(y_test , lgbm_preds))"
      ]
    },
    {
      "cell_type": "code",
      "execution_count": null,
      "metadata": {
        "id": "plBro73kFTe8",
        "outputId": "95d7a741-7201-4349-ec44-7433b0edf5ed"
      },
      "outputs": [
        {
          "name": "stdout",
          "output_type": "stream",
          "text": [
            "LightGBM과 Ridge를 ensemble한 최종 rmsle 값: 0.4501738147377442\n"
          ]
        }
      ],
      "source": [
        "preds = lgbm_preds * 0.45 + linear_preds * 0.55\n",
        "print('LightGBM과 Ridge를 ensemble한 최종 rmsle 값:',  evaluate_org_price(y_test , preds))"
      ]
    }
  ]
}