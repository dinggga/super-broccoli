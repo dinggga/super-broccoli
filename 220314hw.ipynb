{
  "nbformat": 4,
  "nbformat_minor": 0,
  "metadata": {
    "colab": {
      "name": "220314hw",
      "provenance": [],
      "authorship_tag": "ABX9TyNL3TvBHVBtsujyHqbp5E0C",
      "include_colab_link": true
    },
    "kernelspec": {
      "name": "python3",
      "display_name": "Python 3"
    },
    "language_info": {
      "name": "python"
    }
  },
  "cells": [
    {
      "cell_type": "markdown",
      "metadata": {
        "id": "view-in-github",
        "colab_type": "text"
      },
      "source": [
        "<a href=\"https://colab.research.google.com/github/dinggga/super-broccoli/blob/main/220314hw.ipynb\" target=\"_parent\"><img src=\"https://colab.research.google.com/assets/colab-badge.svg\" alt=\"Open In Colab\"/></a>"
      ]
    },
    {
      "cell_type": "markdown",
      "source": [
        "# **[개념 정리]**\n",
        "\n",
        "# **CH3 분류**\n",
        "\n",
        "## **3.1 MNIST**\n",
        "\n",
        "**MNIST 데이터셋**: 70000의 손글씨 숫자 이미지\n",
        "\n",
        "*데이터 읽어들일 때  'as_frame=False' 덧붙여야 함. 책이 낮은 버전이라 그대로 하면 Key Error남.\n",
        "* X는 matplotlib의 imshow() 함수로 그림. y는 문자열인데 정수로 변환.\n",
        "\n",
        "\n"
      ],
      "metadata": {
        "id": "SXei8xN25qYF"
      }
    },
    {
      "cell_type": "markdown",
      "source": [
        "## **3.2 이진 분류기 훈련**\n",
        "\n",
        "**확률적 경사 하강법 (SGD) 분류기**\n",
        "- 사이킷런의 SGDClassifier 클래스 이용. 한번에 하나씩 훈련 샘플을 독립적으로 처리. 무작위성."
      ],
      "metadata": {
        "id": "7TqHzajC_oiK"
      }
    },
    {
      "cell_type": "markdown",
      "source": [
        "## **3.3 성능 측정**\n",
        "\n",
        "### **3.3.1 교차 검증을 사용한 정확도 측정**\n",
        "**cross_val_score()**: k개 폴드로 나누고, 각 폴드에 대해 예측, 평가하기 위해 나머지 폴드로 훈련시킨 모델 사용\n",
        "\n",
        "**StratifiedKFold()**: 클래스별 비율 유지되도록 폴드 만들기 위해 계층적 샘플링 수행. 매 반복에서 분류기 객체 복제해 훈련 폴드로 훈련, 테스트 폴드로 예측 만듦."
      ],
      "metadata": {
        "id": "4QCMI-WiDa0Y"
      }
    },
    {
      "cell_type": "markdown",
      "source": [
        "### **3.3.2 오차 행렬**\n",
        "\n",
        "**오차 행렬**: 클래스 A의 샘플이 클래스 B로 분류된 횟수 세는 것.\n",
        "- confusion_matrix() 함수\n",
        "- 행: 실제 클래스, 열: 예측한 클래스\n",
        "- 진양성 TP, 위양성 FP, 진음성 TN, 위음성 FN\n",
        "\n",
        "*cross_val_predict() 함수 이용하여 예측값 먼저 만들기\n",
        "- cross_val_predict() 함수: k-겹 교차 검증 수행하지만 평가 점수 반환 않고 각 테스트 폴드에서 얻은 예측 반환.\n",
        "\n",
        "**정밀도**: 양성 예측의 정확성 TP/(TP+FP). precision_score() 함수\n",
        "\n",
        "**재현율**(민감도, 진양성비율 TPR): 분류기가 정확하게 감지한 양성 샘플 비율 TP/(TP+FN). recall_score() 함수\n",
        "\n",
        "\n"
      ],
      "metadata": {
        "id": "r5vufSD9Es1L"
      }
    },
    {
      "cell_type": "markdown",
      "source": [
        "### **3.3.3 정밀도와 재현율**\n",
        "\n",
        "**F1 score**: 정밀도와 재현율의 조화 평균 2/(1/정밀도+1/재현율). f1_score() 함수"
      ],
      "metadata": {
        "id": "lhRIkP9pK0F9"
      }
    },
    {
      "cell_type": "markdown",
      "source": [
        "### **3.3.4 정밀도/재현율 트레이드오프**\n",
        "\n",
        "SGDClassifier: 결정함수 사용, **결정 임곗값 조정**해서 정밀도/재현율 조정 (임곗값 내리면 재현율 업 정밀도 다운)\n",
        "\n",
        "**decision_function()** 메서드로 얻은 각 샘플 점수 기반으로 원하는 임곗값 정하고 예측\n",
        "\n",
        "적절한 임곗값: cross_val_predict() 함수로 모든 샘플 점수 구하고 > precision_recall_curve() 함수로 모든 임계값에 대해 정밀도/재현율 계산"
      ],
      "metadata": {
        "id": "IPXd12hvNi99"
      }
    },
    {
      "cell_type": "markdown",
      "source": [
        "### **3.3.5 ROC 곡선**\n",
        "\n",
        "**ROC 곡선**: 위양성비율FPR에 대한 진양성비율TPR의 곡선, 민감도에 대한 1-특이도 그래프.ROC 점선에서 멀수록 좋은 분류. roc_curve() 함수\n",
        "\n",
        "**AUC** (곡선 아래 면적): 1에 가까울수록 좋음\n",
        "\n",
        "*정밀도/재현율(PR) 곡선: 양성 클래스 드물거나 위음성보다 위양성이 더 중요할 때 씀\n",
        "\n",
        "RandomForestClassifier - predict_proba() 메서드"
      ],
      "metadata": {
        "id": "0qSu6qzeRc04"
      }
    },
    {
      "cell_type": "markdown",
      "source": [
        "## **3.4 다중 분류**\n",
        "\n",
        "SDG/랜덤 포레스트/나이브 베이즈 분류기 등: 여러 클래스 직접 처리 가능\n",
        "<> 로지스틱 회귀/서포트 벡터 머신 분류기 등: 이진 분류만 가능. but 이진 분류기 여러개 사용해 다중 클래스 분류 기법 존재.\n",
        "\n",
        "**OvR 전략**(one-versus-the-rest, OvA one-versus-all): OneVsRestClassifier\n",
        "\n",
        "**OvO 전략**(one-versus-one): N개 클래스 -> 분류기 N(N-1)/2 개 통과해 가장 많이 양성 분류된 클래스 선택. OneVsOneClassifier\n",
        "\n",
        "sklearn.svm.SVC 클래스: 서포트 벡터 머신 분류기\n",
        "\n",
        "decision_function() 메서드: 샘플당 점수 반환\n"
      ],
      "metadata": {
        "id": "8WZRZhjQThCO"
      }
    },
    {
      "cell_type": "markdown",
      "source": [
        "## **3.5 에러 분석**\n",
        "\n",
        "**오차 행렬**\n",
        "\n",
        "- cross_val_predict() 함수 사용해 예측 만들고 confusion_matrix() 함수 호출, matshow() 함수 사용해 이미지로 표현 \n",
        "- 에러 비율(오차행렬 각 값/대응되는 클래스 이미지 개수) 비교, 주대각선만 0으로 채워 그래프 채움 -> 에러 보임"
      ],
      "metadata": {
        "id": "oK4K13wLd8-W"
      }
    },
    {
      "cell_type": "markdown",
      "source": [
        "## **3.6 다중 레이블 분류**\n",
        "\n",
        "**다중 레이블 분류 시스템**: 여러 개의 이진 꼬리표를 출력하는 분류 시스템\n",
        "\n",
        "- 평가 방법 다양 (예시_f1 score)\n",
        "\n"
      ],
      "metadata": {
        "id": "NrVbEVSHfSH1"
      }
    },
    {
      "cell_type": "markdown",
      "source": [
        "## **3.7 다중 출력 분류**\n",
        "\n",
        "**다중 출력 다중 클래스 분류**: 다중 레이블 분류에서 한 레이블이 다중 클래스가 될 수 있도록 일반화한 것.\n",
        "- ex_ 이미지 잡음 제거 시스템"
      ],
      "metadata": {
        "id": "stJ04fXQf8ga"
      }
    },
    {
      "cell_type": "markdown",
      "source": [
        "---------------------"
      ],
      "metadata": {
        "id": "iEzfWVNZgbnn"
      }
    },
    {
      "cell_type": "markdown",
      "source": [
        "# **[필사]**\n",
        "\n",
        "**3.1 MNIST**"
      ],
      "metadata": {
        "id": "w_nhZBM5AH_a"
      }
    },
    {
      "cell_type": "code",
      "execution_count": 1,
      "metadata": {
        "colab": {
          "base_uri": "https://localhost:8080/"
        },
        "id": "SYttvvd913s-",
        "outputId": "b79b7164-cb12-48ed-a31e-49ed8ba7b420"
      },
      "outputs": [
        {
          "output_type": "execute_result",
          "data": {
            "text/plain": [
              "dict_keys(['data', 'target', 'frame', 'categories', 'feature_names', 'target_names', 'DESCR', 'details', 'url'])"
            ]
          },
          "metadata": {},
          "execution_count": 1
        }
      ],
      "source": [
        "from sklearn.datasets import fetch_openml\n",
        "mnist = fetch_openml('mnist_784', version=1, as_frame=False)\n",
        "mnist.keys()"
      ]
    },
    {
      "cell_type": "code",
      "source": [
        "X,y = mnist['data'], mnist['target']\n",
        "print(X.shape)\n",
        "print(y.shape)"
      ],
      "metadata": {
        "colab": {
          "base_uri": "https://localhost:8080/"
        },
        "id": "CMJ_Kzgb7A5z",
        "outputId": "1a9496ec-d659-4c44-cc6c-52800d0a2ca8"
      },
      "execution_count": 2,
      "outputs": [
        {
          "output_type": "stream",
          "name": "stdout",
          "text": [
            "(70000, 784)\n",
            "(70000,)\n"
          ]
        }
      ]
    },
    {
      "cell_type": "code",
      "source": [
        "import matplotlib as mpl\n",
        "import matplotlib.pyplot as plt\n",
        "\n",
        "some_digit = X[0]\n",
        "some_digit_image = some_digit.reshape(28,28)\n",
        "\n",
        "plt.imshow(some_digit_image, cmap='binary')\n",
        "plt.axis('off')\n",
        "plt.show()"
      ],
      "metadata": {
        "colab": {
          "base_uri": "https://localhost:8080/",
          "height": 248
        },
        "id": "7IJ4HoG97tZH",
        "outputId": "53cbc9ae-5e8a-4ea1-dcc0-c8c43fe05e0a"
      },
      "execution_count": 3,
      "outputs": [
        {
          "output_type": "display_data",
          "data": {
            "text/plain": [
              "<Figure size 432x288 with 1 Axes>"
            ],
            "image/png": "[encoded data removed]"
          },
          "metadata": {
            "needs_background": "light"
          }
        }
      ]
    },
    {
      "cell_type": "code",
      "source": [
        "y[0]"
      ],
      "metadata": {
        "colab": {
          "base_uri": "https://localhost:8080/",
          "height": 35
        },
        "id": "kOFSybIB-OU7",
        "outputId": "8c4d5459-da57-4fb7-8c00-57e7e341041e"
      },
      "execution_count": 4,
      "outputs": [
        {
          "output_type": "execute_result",
          "data": {
            "text/plain": [
              "'5'"
            ],
            "application/vnd.google.colaboratory.intrinsic+json": {
              "type": "string"
            }
          },
          "metadata": {},
          "execution_count": 4
        }
      ]
    },
    {
      "cell_type": "code",
      "source": [
        "import numpy as np\n",
        "y = y.astype(np.uint8)"
      ],
      "metadata": {
        "id": "cDA92Q76-nKd"
      },
      "execution_count": 5,
      "outputs": []
    },
    {
      "cell_type": "code",
      "source": [
        "# 훈련세트/데이터세트 나누기\n",
        "X_train, X_test, y_train, y_test = X[:60000], X[60000:], y[:60000], y[60000:]"
      ],
      "metadata": {
        "id": "S_j5qoM0_O5w"
      },
      "execution_count": 6,
      "outputs": []
    },
    {
      "cell_type": "markdown",
      "source": [
        "**3.2 이진 분류기 훈련**"
      ],
      "metadata": {
        "id": "r4oAc5GGAVgt"
      }
    },
    {
      "cell_type": "code",
      "source": [
        "# '5-감지기' 분류 작업을 위한 타깃 벡터 만들기\n",
        "y_train_5 = (y_train == 5)\n",
        "y_test_5 = (y_test == 5)"
      ],
      "metadata": {
        "id": "sq_BbYBs_fCo"
      },
      "execution_count": 7,
      "outputs": []
    },
    {
      "cell_type": "code",
      "source": [
        "# SGD 이용\n",
        "from sklearn.linear_model import SGDClassifier\n",
        "\n",
        "sgd_clf = SGDClassifier(random_state=42)\n",
        "sgd_clf.fit(X_train, y_train_5)"
      ],
      "metadata": {
        "colab": {
          "base_uri": "https://localhost:8080/"
        },
        "id": "v1y1_GggA_PI",
        "outputId": "f5e8d55d-8c53-47d5-f275-8fa9c5ccb2c1"
      },
      "execution_count": 8,
      "outputs": [
        {
          "output_type": "execute_result",
          "data": {
            "text/plain": [
              "SGDClassifier(random_state=42)"
            ]
          },
          "metadata": {},
          "execution_count": 8
        }
      ]
    },
    {
      "cell_type": "code",
      "source": [
        "sgd_clf.predict([some_digit])"
      ],
      "metadata": {
        "colab": {
          "base_uri": "https://localhost:8080/"
        },
        "id": "scgicWdoBS35",
        "outputId": "2d40f2dd-9ea7-4448-817d-74508542c1da"
      },
      "execution_count": 9,
      "outputs": [
        {
          "output_type": "execute_result",
          "data": {
            "text/plain": [
              "array([ True])"
            ]
          },
          "metadata": {},
          "execution_count": 9
        }
      ]
    },
    {
      "cell_type": "markdown",
      "source": [
        "**3.3 성능 측정**\n",
        "\n",
        "3.3.1 교차 검증을 사용한 정확도 측정"
      ],
      "metadata": {
        "id": "iJj1UzaQBdlR"
      }
    },
    {
      "cell_type": "code",
      "source": [
        "# 교차 검증 기능 직접 구현\n",
        "from sklearn.model_selection import StratifiedKFold\n",
        "from sklearn.base import clone\n",
        "\n",
        "skfolds = StratifiedKFold(n_splits=3, random_state=42, shuffle=True)\n",
        "\n",
        "for train_index, test_index in skfolds.split(X_train, y_train_5):\n",
        "  clone_clf = clone(sgd_clf)\n",
        "  X_train_folds = X_train[train_index]\n",
        "  y_train_folds = y_train_5[train_index]\n",
        "  X_test_fold = X_train[test_index]\n",
        "  y_test_fold = y_train_5[test_index]\n",
        "\n",
        "  clone_clf.fit(X_train_folds, y_train_folds)\n",
        "  y_pred = clone_clf.predict(X_test_fold)\n",
        "  n_correct = sum(y_pred == y_test_fold)\n",
        "  print(n_correct/len(y_pred))"
      ],
      "metadata": {
        "colab": {
          "base_uri": "https://localhost:8080/"
        },
        "id": "e7xWhzKmBjPJ",
        "outputId": "12091b22-c875-49a9-b216-05f7dc088040"
      },
      "execution_count": 10,
      "outputs": [
        {
          "output_type": "stream",
          "name": "stdout",
          "text": [
            "0.9669\n",
            "0.91625\n",
            "0.96785\n"
          ]
        }
      ]
    },
    {
      "cell_type": "code",
      "source": [
        "# cross_val_score() 함수로 폴드 3개인 k-겹 교차 검증 사용해 모델 평가\n",
        "from sklearn.model_selection import cross_val_score\n",
        "cross_val_score(sgd_clf, X_train, y_train_5, cv=3, scoring='accuracy')"
      ],
      "metadata": {
        "colab": {
          "base_uri": "https://localhost:8080/"
        },
        "id": "9NX4zsTmDApC",
        "outputId": "d6f62903-1235-4ecf-9b2b-0dea086781c3"
      },
      "execution_count": 11,
      "outputs": [
        {
          "output_type": "execute_result",
          "data": {
            "text/plain": [
              "array([0.95035, 0.96035, 0.9604 ])"
            ]
          },
          "metadata": {},
          "execution_count": 11
        }
      ]
    },
    {
      "cell_type": "code",
      "source": [
        "# 더미 분류기 만들기\n",
        "from sklearn.base import BaseEstimator\n",
        "\n",
        "class Never5Classifier(BaseEstimator):\n",
        "  def fit(self, X, y=None):\n",
        "    return self\n",
        "  def predict(self, X):\n",
        "    return np.zeros((len(X), 1), dtype=bool)"
      ],
      "metadata": {
        "id": "kCV1lRRpEDP7"
      },
      "execution_count": 12,
      "outputs": []
    },
    {
      "cell_type": "code",
      "source": [
        "# 모델 정확도 추출\n",
        "never_5_clf = Never5Classifier()\n",
        "cross_val_score(never_5_clf, X_train, y_train_5, cv=3, scoring='accuracy')"
      ],
      "metadata": {
        "colab": {
          "base_uri": "https://localhost:8080/"
        },
        "id": "VpheOjUIEVE4",
        "outputId": "4d40989c-a151-45b0-b878-f2471f601172"
      },
      "execution_count": 13,
      "outputs": [
        {
          "output_type": "execute_result",
          "data": {
            "text/plain": [
              "array([0.91125, 0.90855, 0.90915])"
            ]
          },
          "metadata": {},
          "execution_count": 13
        }
      ]
    },
    {
      "cell_type": "markdown",
      "source": [
        "3.3.2 오차 행렬"
      ],
      "metadata": {
        "id": "jo3y5bLSEou2"
      }
    },
    {
      "cell_type": "code",
      "source": [
        "# 예측값 먼저 만들기\n",
        "from sklearn.model_selection import cross_val_predict\n",
        "\n",
        "y_train_pred = cross_val_predict(sgd_clf, X_train, y_train, cv=3)"
      ],
      "metadata": {
        "id": "YJXQ2mjuEhGQ"
      },
      "execution_count": 14,
      "outputs": []
    },
    {
      "cell_type": "code",
      "source": [
        "from sklearn.metrics import confusion_matrix\n",
        "a= confusion_matrix(y_train_5, y_train_pred)\n",
        "print(a)"
      ],
      "metadata": {
        "colab": {
          "base_uri": "https://localhost:8080/"
        },
        "id": "ooLMomm1Fvol",
        "outputId": "582ba3d9-9751-4308-d6cc-5e1b34149ccd"
      },
      "execution_count": 15,
      "outputs": [
        {
          "output_type": "stream",
          "name": "stdout",
          "text": [
            "[[5915 6663 5976 5314 6132 1340 6045 5941 5633 5620]\n",
            " [  68   23   58  150   83 4606  174   26  152   81]\n",
            " [   0    0    0    0    0    0    0    0    0    0]\n",
            " [   0    0    0    0    0    0    0    0    0    0]\n",
            " [   0    0    0    0    0    0    0    0    0    0]\n",
            " [   0    0    0    0    0    0    0    0    0    0]\n",
            " [   0    0    0    0    0    0    0    0    0    0]\n",
            " [   0    0    0    0    0    0    0    0    0    0]\n",
            " [   0    0    0    0    0    0    0    0    0    0]\n",
            " [   0    0    0    0    0    0    0    0    0    0]]\n"
          ]
        }
      ]
    },
    {
      "cell_type": "code",
      "source": [
        "y_train_perfect_predictions = y_train_5\n",
        "confusion_matrix(y_train_5, y_train_perfect_predictions)"
      ],
      "metadata": {
        "colab": {
          "base_uri": "https://localhost:8080/"
        },
        "id": "NMVJ4wmpKNSy",
        "outputId": "c048cf1d-2eee-4d90-b756-5ae0ea12bf74"
      },
      "execution_count": 16,
      "outputs": [
        {
          "output_type": "execute_result",
          "data": {
            "text/plain": [
              "array([[54579,     0],\n",
              "       [    0,  5421]])"
            ]
          },
          "metadata": {},
          "execution_count": 16
        }
      ]
    },
    {
      "cell_type": "markdown",
      "source": [
        "3.3.3 정밀도와 재현율"
      ],
      "metadata": {
        "id": "PLtHojvzLKTC"
      }
    },
    {
      "cell_type": "code",
      "source": [
        "from sklearn.metrics import precision_score, recall_score\n",
        "precision_score(y_train_5, y_train_pred, average='micro')"
      ],
      "metadata": {
        "colab": {
          "base_uri": "https://localhost:8080/"
        },
        "id": "UuuuDfumLLqS",
        "outputId": "0e86c237-6c70-4ea0-ff75-31d392953702"
      },
      "execution_count": 17,
      "outputs": [
        {
          "output_type": "execute_result",
          "data": {
            "text/plain": [
              "0.09896666666666666"
            ]
          },
          "metadata": {},
          "execution_count": 17
        }
      ]
    },
    {
      "cell_type": "code",
      "source": [
        "recall_score(y_train_5, y_train_pred, average='micro')"
      ],
      "metadata": {
        "colab": {
          "base_uri": "https://localhost:8080/"
        },
        "id": "trS3BqyxMBb2",
        "outputId": "47ae2aa4-f453-4e32-ed44-118b58e6809e"
      },
      "execution_count": 18,
      "outputs": [
        {
          "output_type": "execute_result",
          "data": {
            "text/plain": [
              "0.09896666666666666"
            ]
          },
          "metadata": {},
          "execution_count": 18
        }
      ]
    },
    {
      "cell_type": "code",
      "source": [
        "from sklearn.metrics import f1_score\n",
        "f1_score(y_train_5, y_train_pred, average='micro')"
      ],
      "metadata": {
        "colab": {
          "base_uri": "https://localhost:8080/"
        },
        "id": "nYyndCkAMven",
        "outputId": "a043c539-1acc-4343-c12e-75c7162987cd"
      },
      "execution_count": 19,
      "outputs": [
        {
          "output_type": "execute_result",
          "data": {
            "text/plain": [
              "0.09896666666666666"
            ]
          },
          "metadata": {},
          "execution_count": 19
        }
      ]
    },
    {
      "cell_type": "markdown",
      "source": [
        "3.3.4 정밀도/재현율 트레이드오프"
      ],
      "metadata": {
        "id": "TAAbF304NEN9"
      }
    },
    {
      "cell_type": "code",
      "source": [
        "y_scores = sgd_clf.decision_function([some_digit])\n",
        "y_scores"
      ],
      "metadata": {
        "colab": {
          "base_uri": "https://localhost:8080/"
        },
        "id": "jF-h6z4XNGqH",
        "outputId": "039b96da-a4ce-4c5e-e4ec-53e1a17ce83e"
      },
      "execution_count": 20,
      "outputs": [
        {
          "output_type": "execute_result",
          "data": {
            "text/plain": [
              "array([2164.22030239])"
            ]
          },
          "metadata": {},
          "execution_count": 20
        }
      ]
    },
    {
      "cell_type": "code",
      "source": [
        "threshold=0\n",
        "y_some_digit_pred = (y_scores > threshold)"
      ],
      "metadata": {
        "id": "VLI6aqDGOUDo"
      },
      "execution_count": 21,
      "outputs": []
    },
    {
      "cell_type": "code",
      "source": [
        "# 임곗값 높임\n",
        "threshold = 8000\n",
        "y_some_digit_pred = (y_scores > threshold)\n",
        "y_some_digit_pred"
      ],
      "metadata": {
        "colab": {
          "base_uri": "https://localhost:8080/"
        },
        "id": "sa42kTbmOcav",
        "outputId": "2dc05790-5d6a-465e-ecb4-bde8f96e8c23"
      },
      "execution_count": 22,
      "outputs": [
        {
          "output_type": "execute_result",
          "data": {
            "text/plain": [
              "array([False])"
            ]
          },
          "metadata": {},
          "execution_count": 22
        }
      ]
    },
    {
      "cell_type": "code",
      "source": [
        "# 적절한 임계값 찾기\n",
        "y_scores = cross_val_predict(sgd_clf, X_train, y_train_5, cv=3, method='decision_function')"
      ],
      "metadata": {
        "id": "AT_JeYnsO7Nb"
      },
      "execution_count": 23,
      "outputs": []
    },
    {
      "cell_type": "code",
      "source": [
        "from sklearn.metrics import precision_recall_curve\n",
        "\n",
        "precisions, recalls, thresholds = precision_recall_curve(y_train_5, y_scores)"
      ],
      "metadata": {
        "id": "ax3-Fa38PDb5"
      },
      "execution_count": 24,
      "outputs": []
    },
    {
      "cell_type": "code",
      "source": [
        "def plot_precision_recall_vs_threshold(precisions, recalls, thresholds):\n",
        "  plt.plot(thresholds, precisions[:-1], 'b--')\n",
        "  plt.plot(thresholds, recalls[:-1], 'g-')\n",
        "  [...]\n",
        "\n",
        "  plot_precision_recall_vs_threshold(precisions, recalls, thresholds)\n",
        "  plt.show()"
      ],
      "metadata": {
        "id": "4vcbwXs2PNbr"
      },
      "execution_count": 25,
      "outputs": []
    }
  ]
}