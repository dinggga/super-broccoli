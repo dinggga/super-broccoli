{
  "nbformat": 4,
  "nbformat_minor": 0,
  "metadata": {
    "colab": {
      "name": "220321hw.ipynb",
      "provenance": [],
      "collapsed_sections": [],
      "authorship_tag": "ABX9TyNw1tghBvwUd/9AcWtdR+/w",
      "include_colab_link": true
    },
    "kernelspec": {
      "name": "python3",
      "display_name": "Python 3"
    },
    "language_info": {
      "name": "python"
    }
  },
  "cells": [
    {
      "cell_type": "markdown",
      "metadata": {
        "id": "view-in-github",
        "colab_type": "text"
      },
      "source": [
        "<a href=\"https://colab.research.google.com/github/dinggga/super-broccoli/blob/main/220321hw.ipynb\" target=\"_parent\"><img src=\"https://colab.research.google.com/assets/colab-badge.svg\" alt=\"Open In Colab\"/></a>"
      ]
    },
    {
      "cell_type": "markdown",
      "source": [
        "# **[개념정리]**\n",
        "4장: 선형 회귀(직접 공식/경사 하강법GD-배치/미니배치/확률적), 다항 회귀(학습 곡선, 과대적합), 로지스틱 회귀, 소프트맥스 회귀"
      ],
      "metadata": {
        "id": "LGc3I021o-NH"
      }
    },
    {
      "cell_type": "markdown",
      "source": [
        "\n",
        "\n",
        "# **4.1 선형 회귀**\n",
        "\n",
        "### **4.1.1 정규방정식** \n",
        "(해석적 방법)\n",
        "\n",
        "코드: from sklearn.linear_model import LinearRegression\n",
        "\n",
        "(scipy.linalg.lstsq() 함수 기반으로 함: 파라미터, 잔차, rank, s 반환. np.linalg.pinv() 함수로 유사역행렬 구할 수 있음.)\n",
        "- 유사역행렬: 표준행렬분해기법인 특잇값 분해(SVD) 사용: numpy.linalg.svd(). 항상 구할 수 있음.\n",
        "\n",
        "### **4.1.2 계산 복잡도**\n",
        "-정규방정식 계산 복잡도: n의 2.4제곱~3제곱 사이\n",
        "-사이킷런 LinearRegression 클래스의 SVD 방법: n의 2제곱\n",
        "-샘플수, 특성수와 계산 복잡도 비례"
      ],
      "metadata": {
        "id": "dIxniWhOpJSY"
      }
    },
    {
      "cell_type": "markdown",
      "source": [
        "# **4.2 경사 하강법(GD)**\n",
        ": 특성, 훈련 샘플이 너무 많아 메모리에 모두 담을 수 없을 때\n",
        "\n",
        "방법: 무작위 초기화(파라미터 임의의 값으로 시작) > 비용함수 감소되는 방향 > 알고리즘이 최솟값에 수렴\n",
        "\n",
        "스텝의 크기 중요 -> 학습률 하이퍼파라미터\n",
        "\n",
        "문제점: 무작위 초기화로 인한 최솟값 발견 오류 (전역 최솟값, 지역 최솟값)\n",
        "\n",
        "(선형 회귀 MSE 비용 함수는 볼록 함수라 괜찮음)\n",
        "\n",
        "주의점: 모든 특성의 스케일이 같아야 함 (ex_ 사이킷런의 StandardScaler)\n",
        "\n",
        "### **4.2.1 배치 경사 하강법**\n",
        "편도함수 (파라미터에 대해 비용함수의 그래디언트 계산해야)\n",
        "- 비용함수의 그레이디언트 벡터 공식 p.169\n",
        "\n",
        "배치경사하강법: 매 스텝에서 훈련데이터 전체 사용\n",
        "\n",
        "경사하강법의 스텝 결정 위해 학습률 사용됨 -> 적절한 학습률: 그리드 탐색 (반복횟수 제한)\n",
        "- 반복 횟수 크게 지정해놓고, 그레이디언트 벡터 작아지면 알고리즘 중지\n",
        "\n",
        "문제점: 매 스텝에서 전체 훈련 세트 사용 -> 느려짐\n",
        "\n",
        "### **4.2.2 확률적 경사 하강법**\n",
        ": 매 스텝에서 샘플 한개 무작위 선택, 그레이디언트 계산 -> 속도 빠르고 큰 훈련 세트도 가능\n",
        "\n",
        "단점: 무작위라 배치보다 훨씬 불안정 -> 학습률을 점진적으로 감소시키자.\n",
        "- 학습 스케줄: 매 반복에서 학습률 결정하는 함수\n",
        "\n",
        "코드: from sklearn.linear_model import SGDRegressor / 파라미터: max_iter, tol, penalty, eta0 등\n",
        "\n",
        "### **4.2.3 미니배치 경사 하강법**\n",
        ": 임의의 작은 샘플 세트(미니배치)에 대해 그레이디언트 계산. 행렬 연산에 최적화된 하드웨어(특히 GPU)를 사용하여 성능 향상. SGD보다 덜 불규칙하지만 지역 최솟값에서 빠져나오긴 더 힘들 수도. 적절한 학습 스케줄 중요.\n",
        "\n"
      ],
      "metadata": {
        "id": "3u0ij2jmwhSa"
      }
    },
    {
      "cell_type": "markdown",
      "source": [
        "# **4.3 다항 회귀**\n",
        "\n",
        ": 각 특성의 거듭제곱을 새로운 특성으로 추가한 확장된 데이터셋에 선형 모델 훈련"
      ],
      "metadata": {
        "id": "cIgD-ugL9Bzu"
      }
    },
    {
      "cell_type": "markdown",
      "source": [
        "# **4.4 학습 곡선**\n",
        "모델이 데이터에 잘 맞는지 보는 방법\n",
        "- 훈련 데이터에서 성능 좋지만 교차검증점수 나쁨 -> 모델이 과대적합됨 / 양쪽 다 좋지 않음 -> 과소적합됨.\n",
        "- 학습 곡선: 훈련 세트에서 크기 다른 서브 세트 만들어 모델을 여러 번 훈련\n",
        "\n",
        "과소적합된 경우: 더 복잡한 모델 사용 or 더 나은 특성 선택\n",
        "과대적합된 경우(훈련/검증 데이터 곡선 사이에 공간이 있을 때): 더 많은 훈련 데이터 추가\n",
        "\n",
        "편향/분산 트레이드오프: 모델의 일반화 오차 = 편향+분산+줄일 수 없는 오차\n",
        "- 편향과 분산 트레이드오프\n"
      ],
      "metadata": {
        "id": "Ib48630m_PjW"
      }
    },
    {
      "cell_type": "markdown",
      "source": [
        "# **4.5 규제가 있는 선형 모델**\n",
        ": 모델의 가중치 제한하며 규제. 릿지/라쏘/엘라스틱넷\n",
        "### **4.5.1 릿지 회귀**\n",
        ": 규제가 추가된 선형 회귀 버전. (규제항이 훈련 동안에만 비용함수에 추가됨. 후에는 규제 없는 성능 지표로 평가)\n",
        "\n",
        "l2 노름. 하이퍼파라미터 a 조절해 모델 규제 정도 조절. (a=0 -> 선형회귀 / a 커지면 직선에 가까워짐-분산 줄지만 편향 커짐)\n",
        "\n",
        "수행 전 데이터 스케일 맞춰주기 (규제 있는 모델은 대부분 스케일 맞추는 거 필요함)\n",
        "\n",
        "정규방정식, 경사 하강법 사용 가능\n",
        "\n",
        "코드: from sklearn.linear_model import Ridge(alpha=) / SGDRegressor(penalty='l2')\n",
        "### **4.5.2 라쏘 회귀**\n",
        ": l1 노름. 덜 중요한 특성의 가중치는 제거(자동으로 특성 선택)\n",
        "\n",
        "경사 하강법 적용할 때 서브그레이디언트 벡터 사용.\n",
        "\n",
        "코드: from sklearn.linear_model import Lasso(alpha=) / SGDRegressor(penalty='l1')\n",
        "\n",
        "### **4.5.3 엘라스틱넷**\n",
        ": 릿지+라쏘 절충. 규제항은 릿지 라쏘 규제항 단순히 더해서 사용, 혼합정도는 혼합 비율 r로 조정. (r=0->릿지 / r=1->라쏘)\n",
        "\n",
        "모델 적용 기준\n",
        "- 규제 없는 선형 회귀는 피해야 함\n",
        "- 쓰이는 특성이 몇개 뿐이면 릿지보다는 라쏘/엘라스틱넷 (불필요한 특성 가중치를 0으로 만들기에)\n",
        "- 특성 수가 훈련 샘플 수보다 많거나 특성 몇 개가 강하게 연관되어 있을 경우 엘라스틱넷 선호\n",
        "\n",
        "코드: from sklearn.linear_model import ElasticNet(alpha=, l1_ratio=)\n",
        "\n",
        "### **4.5.4 조기 종료**\n",
        ": 검증 에러가 최솟값에 도달하면 바로 훈련 중지.\n",
        "\n",
        "- 확률적/미니배치 경사 하강법에서는 모델이 더 나아지지 않는다고 확신 들 때 학습 멈추고 검증 에러 최소인 모델 파라미터로 돌아감."
      ],
      "metadata": {
        "id": "zCJorTNYOxhl"
      }
    },
    {
      "cell_type": "markdown",
      "source": [
        "# **4.6 로지스틱 회귀**\n",
        "### **4.6.1 확률 추정**\n",
        ": 입력 특성의 가중치 합 계산, 편향 더함. 바로 결과 출력 않고 결괏값의 로지스틱 출력 (시그모이드 함수, 0과 1 사이값). 로지스틱 값에 따라 클래스 예측.\n",
        "\n",
        "### **4.6.2 훈련과 비용 함수**\n",
        "훈련: 양성/음성 샘플의 확률을 추정하는 모델의 파라미터 벡터를 찾아야 함.\n",
        "\n",
        "전체 비용함수: 훈련 샘플의 비용 평균. 경사하강법이 전역 최솟값 찾는 것 보장.모든 편도함수 포함한 그레이디언트 벡터 만들면 배치 경사 하강법 알고리즘 사용 가능. \n",
        "\n",
        "### **4.6.3 결정 경계**\n",
        "코드: from sklearn.linear_model import LogisticRegression\n",
        "\n",
        "로지스틱 회귀모델도 l1, l2 페널티 사용해 규제 가능. 사이킷런은 l2 페널티 기본.\n",
        "\n",
        "\n",
        "### **4.6.4 소프트맥스 회귀**\n",
        ": 여러 개의 이진분류기가 직접 다중 클래스를 지원하도록 일반화.\n",
        "\n",
        "크로스 엔트로피 비용 함수를 최소화\n",
        "\n",
        "코드: LogisticRegression(multi_class='multinomial', solver='lbfgs', C=)\n"
      ],
      "metadata": {
        "id": "_ym7DNkhPDUX"
      }
    },
    {
      "cell_type": "markdown",
      "source": [
        "-------------\n",
        "-----------\n",
        "# **[필사]**"
      ],
      "metadata": {
        "id": "lq6P7L7DpCBk"
      }
    },
    {
      "cell_type": "markdown",
      "source": [
        "4.1 선형 회귀\n",
        "\n",
        "4.1.1 정규방정식"
      ],
      "metadata": {
        "id": "ibZtHBlrr4ig"
      }
    },
    {
      "cell_type": "code",
      "source": [
        "import numpy as np\n",
        "\n",
        "X = 2 * np.random.rand(100,1)\n",
        "y = 4 + 3 * X + np.random.randn(100,1)\n",
        "\n",
        "X_b = np.c_[np.ones((100,1)),X]\n",
        "theta_best = np.linalg.inv(X_b.T.dot(X_b)).dot(X_b.T).dot(y)\n",
        "\n",
        "theta_best"
      ],
      "metadata": {
        "colab": {
          "base_uri": "https://localhost:8080/"
        },
        "id": "OB4JSnaPr3_W",
        "outputId": "fa842fc0-0ac3-458c-bfc7-f95e36d0d7d1"
      },
      "execution_count": 1,
      "outputs": [
        {
          "output_type": "execute_result",
          "data": {
            "text/plain": [
              "array([[3.74205927],\n",
              "       [3.31730188]])"
            ]
          },
          "metadata": {},
          "execution_count": 1
        }
      ]
    },
    {
      "cell_type": "code",
      "source": [
        "X_new = np.array([[0], [2]])\n",
        "X_new_b = np.c_[np.ones((2,1)), X_new]\n",
        "y_predict = X_new_b.dot(theta_best)\n",
        "y_predict"
      ],
      "metadata": {
        "colab": {
          "base_uri": "https://localhost:8080/"
        },
        "id": "R169QfIcs3Rl",
        "outputId": "daea6bf5-d9a4-40e4-b526-0042944431fb"
      },
      "execution_count": 2,
      "outputs": [
        {
          "output_type": "execute_result",
          "data": {
            "text/plain": [
              "array([[ 3.74205927],\n",
              "       [10.37666302]])"
            ]
          },
          "metadata": {},
          "execution_count": 2
        }
      ]
    },
    {
      "cell_type": "code",
      "source": [
        "import matplotlib.pyplot as plt\n",
        "\n",
        "plt.plot(X_new, y_predict, 'r-')\n",
        "plt.plot(X,y, 'b.')\n",
        "plt.axis([0,2,0,15])\n",
        "plt.show()"
      ],
      "metadata": {
        "colab": {
          "base_uri": "https://localhost:8080/",
          "height": 265
        },
        "id": "DcRu3fh3tJ12",
        "outputId": "6c064fb9-5ee0-45c1-e3d7-340d399e9aef"
      },
      "execution_count": 3,
      "outputs": [
        {
          "output_type": "display_data",
          "data": {
            "text/plain": [
              "<Figure size 432x288 with 1 Axes>"
            ],
            "image/png": "[encoded data removed]"
          },
          "metadata": {
            "needs_background": "light"
          }
        }
      ]
    },
    {
      "cell_type": "code",
      "source": [
        "from sklearn.linear_model import LinearRegression\n",
        "lin_reg = LinearRegression()\n",
        "lin_reg.fit(X,y)\n",
        "print(lin_reg.intercept_, lin_reg.coef_)\n",
        "print(lin_reg.predict(X_new))"
      ],
      "metadata": {
        "colab": {
          "base_uri": "https://localhost:8080/"
        },
        "id": "weNLKL8RtlFa",
        "outputId": "dbad9800-193b-4e31-afa8-124df5bceb97"
      },
      "execution_count": 4,
      "outputs": [
        {
          "output_type": "stream",
          "name": "stdout",
          "text": [
            "[3.74205927] [[3.31730188]]\n",
            "[[ 3.74205927]\n",
            " [10.37666302]]\n"
          ]
        }
      ]
    },
    {
      "cell_type": "code",
      "source": [
        "theta_best_svd, residuals, rank, s = np.linalg.lstsq(X_b, y, rcond=1e-6)\n",
        "theta_best_svd"
      ],
      "metadata": {
        "colab": {
          "base_uri": "https://localhost:8080/"
        },
        "id": "puHW-nb_uZMw",
        "outputId": "957a4324-235e-4d7d-e629-b385927a6561"
      },
      "execution_count": 5,
      "outputs": [
        {
          "output_type": "execute_result",
          "data": {
            "text/plain": [
              "array([[3.74205927],\n",
              "       [3.31730188]])"
            ]
          },
          "metadata": {},
          "execution_count": 5
        }
      ]
    },
    {
      "cell_type": "code",
      "source": [
        "np.linalg.pinv(X_b).dot(y)"
      ],
      "metadata": {
        "colab": {
          "base_uri": "https://localhost:8080/"
        },
        "id": "OcTh7Zv4u2Au",
        "outputId": "1bc3a387-f8e7-4f5b-e6d5-22ba85ceae4e"
      },
      "execution_count": 6,
      "outputs": [
        {
          "output_type": "execute_result",
          "data": {
            "text/plain": [
              "array([[3.74205927],\n",
              "       [3.31730188]])"
            ]
          },
          "metadata": {},
          "execution_count": 6
        }
      ]
    },
    {
      "cell_type": "markdown",
      "source": [
        "4.2 경사하강법\n",
        "\n",
        "4.2.1 배치경사하강법"
      ],
      "metadata": {
        "id": "EswRj7q712MJ"
      }
    },
    {
      "cell_type": "code",
      "source": [
        "eta = 0.1\n",
        "n_interactions = 1000\n",
        "m = 100\n",
        "\n",
        "theta = np.random.randn(2,1)\n",
        "\n",
        "for iteration in range(n_interactions):\n",
        "  gradients = 2/m * X_b.T.dot(X_b.dot(theta) - y)\n",
        "  theta = theta - eta * gradients\n",
        "\n",
        "theta"
      ],
      "metadata": {
        "colab": {
          "base_uri": "https://localhost:8080/"
        },
        "id": "nmkDugGT18kT",
        "outputId": "92991292-a147-4d8b-9e78-693feec24dc0"
      },
      "execution_count": 7,
      "outputs": [
        {
          "output_type": "execute_result",
          "data": {
            "text/plain": [
              "array([[3.74205927],\n",
              "       [3.31730188]])"
            ]
          },
          "metadata": {},
          "execution_count": 7
        }
      ]
    },
    {
      "cell_type": "markdown",
      "source": [
        "4.2.2 확률적경사하강법"
      ],
      "metadata": {
        "id": "4c9jyw3l5dRR"
      }
    },
    {
      "cell_type": "code",
      "source": [
        "n_epochs = 50\n",
        "t0, t1 = 5, 50\n",
        "\n",
        "def learning_schedule(t):\n",
        "  return t0/(t+t1)\n",
        "\n",
        "theta = np.random.randn(2,1)\n",
        "\n",
        "for epoch in range(n_epochs):\n",
        "  for i in range(m):\n",
        "    random_index = np.random.randint(m)\n",
        "    xi = X_b[random_index:random_index+1]\n",
        "    yi = y[random_index:random_index+1]\n",
        "    gradients = 2*xi.T.dot(xi.dot(theta)-yi)\n",
        "    eta = learning_schedule(epoch*m+i)\n",
        "    theta = theta - eta*gradients\n",
        "\n",
        "theta"
      ],
      "metadata": {
        "colab": {
          "base_uri": "https://localhost:8080/"
        },
        "id": "G9bJ2fhd5gF-",
        "outputId": "4cb255c6-c21d-4e52-ffef-cae7a24f1e98"
      },
      "execution_count": 8,
      "outputs": [
        {
          "output_type": "execute_result",
          "data": {
            "text/plain": [
              "array([[3.68817762],\n",
              "       [3.2691977 ]])"
            ]
          },
          "metadata": {},
          "execution_count": 8
        }
      ]
    },
    {
      "cell_type": "code",
      "source": [
        "from sklearn.linear_model import SGDRegressor\n",
        "sgd_reg = SGDRegressor(max_iter=1000, tol=1e-3, penalty=None, eta0=0.1)\n",
        "sgd_reg.fit(X,y.ravel())\n",
        "\n",
        "sgd_reg.intercept_, sgd_reg.coef_"
      ],
      "metadata": {
        "colab": {
          "base_uri": "https://localhost:8080/"
        },
        "id": "mgXHRthP6_K5",
        "outputId": "67dd1639-906d-4e5e-f790-f7291f0aeefd"
      },
      "execution_count": 9,
      "outputs": [
        {
          "output_type": "execute_result",
          "data": {
            "text/plain": [
              "(array([3.63093478]), array([3.23333298]))"
            ]
          },
          "metadata": {},
          "execution_count": 9
        }
      ]
    },
    {
      "cell_type": "markdown",
      "source": [
        "4.3 다항 회귀"
      ],
      "metadata": {
        "id": "u-gEHXaW9jsH"
      }
    },
    {
      "cell_type": "code",
      "source": [
        "# 2차방정식으로 비선형 데이터 생성 (잡음 포함)\n",
        "m = 100\n",
        "X = 6 * np.random.rand(m,1) - 3\n",
        "y = 0.5 * X**2 + X + 2 + np.random.randn(m,1)"
      ],
      "metadata": {
        "id": "u-dKUnjr7cAg"
      },
      "execution_count": 10,
      "outputs": []
    },
    {
      "cell_type": "code",
      "source": [
        "# PolynomialFeatures로 훈련 데이터 변환 (2차 다항)\n",
        "from sklearn.preprocessing import PolynomialFeatures\n",
        "poly_features = PolynomialFeatures(degree=2, include_bias=False)\n",
        "X_poly = poly_features.fit_transform(X)\n",
        "print(X[0], X_poly[0])"
      ],
      "metadata": {
        "colab": {
          "base_uri": "https://localhost:8080/"
        },
        "id": "RQ9xOeZW-Jjw",
        "outputId": "97abf17c-c6d1-40b5-e32a-1b12ec57e862"
      },
      "execution_count": 11,
      "outputs": [
        {
          "output_type": "stream",
          "name": "stdout",
          "text": [
            "[1.16280211] [1.16280211 1.35210874]\n"
          ]
        }
      ]
    },
    {
      "cell_type": "code",
      "source": [
        "# Linear Regression 적용\n",
        "lin_reg = LinearRegression()\n",
        "lin_reg.fit(X_poly, y)\n",
        "lin_reg.intercept_, lin_reg.coef_"
      ],
      "metadata": {
        "colab": {
          "base_uri": "https://localhost:8080/"
        },
        "id": "p2E5JdqS-idi",
        "outputId": "da9c1573-0dc1-46e6-e7d6-0b3e3a4836dd"
      },
      "execution_count": 12,
      "outputs": [
        {
          "output_type": "execute_result",
          "data": {
            "text/plain": [
              "(array([2.13323787]), array([[0.9250745 , 0.47451812]]))"
            ]
          },
          "metadata": {},
          "execution_count": 12
        }
      ]
    },
    {
      "cell_type": "markdown",
      "source": [
        "4.4 학습 곡선"
      ],
      "metadata": {
        "id": "O7R0TnuyLEvX"
      }
    },
    {
      "cell_type": "code",
      "source": [
        "# 과소적합 모델\n",
        "\n",
        "from sklearn.metrics import mean_squared_error\n",
        "from sklearn.model_selection import train_test_split\n",
        "\n",
        "def plot_learning_curves(model, X, y):\n",
        "  X_train, X_val, y_train, y_val = train_test_split(X,y,test_size=0.2)\n",
        "  train_errors, val_errors = [], []\n",
        "  for m in range(1, len(X_train)):\n",
        "    model.fit(X_train[:m], y_train[:m])\n",
        "    y_train_predict = model.predict(X_train[:m])\n",
        "    y_val_predict = model.predict(X_val)\n",
        "    train_errors.append(mean_squared_error(y_train[:m], y_train_predict))\n",
        "    val_errors.append(mean_squared_error(y_val, y_val_predict))\n",
        "  plt.plot(np.sqrt(train_errors), 'r-+', linewidth=2, label='훈련 세트')\n",
        "  plt.plot(np.sqrt(val_errors), 'b-', linewidth=3, label='검증 세트')\n",
        "\n",
        "lin_reg = LinearRegression()\n",
        "plot_learning_curves(lin_reg, X, y)"
      ],
      "metadata": {
        "colab": {
          "base_uri": "https://localhost:8080/",
          "height": 265
        },
        "id": "lt1C7nA1LHAC",
        "outputId": "2b400b1d-2a5b-48ac-9c15-e3bbce673236"
      },
      "execution_count": 13,
      "outputs": [
        {
          "output_type": "display_data",
          "data": {
            "text/plain": [
              "<Figure size 432x288 with 1 Axes>"
            ],
            "image/png": "[encoded data removed]"
          },
          "metadata": {
            "needs_background": "light"
          }
        }
      ]
    },
    {
      "cell_type": "code",
      "source": [
        "# 10차 다항 회귀 모델의 학습 곡선\n",
        "\n",
        "from sklearn.pipeline import Pipeline\n",
        "\n",
        "polynomial_regression = Pipeline([\n",
        "                                  ('poly_features', PolynomialFeatures(degree=10, include_bias=False)),\n",
        "                                  ('lin_reg', LinearRegression()),\n",
        "])\n",
        "plot_learning_curves(polynomial_regression, X, y)"
      ],
      "metadata": {
        "colab": {
          "base_uri": "https://localhost:8080/",
          "height": 265
        },
        "id": "MsBqTF0TM4Kf",
        "outputId": "641d1d7e-654a-4ab4-86d7-dae5abce1675"
      },
      "execution_count": 14,
      "outputs": [
        {
          "output_type": "display_data",
          "data": {
            "text/plain": [
              "<Figure size 432x288 with 1 Axes>"
            ],
            "image/png": "[encoded data removed]"
          },
          "metadata": {
            "needs_background": "light"
          }
        }
      ]
    },
    {
      "cell_type": "markdown",
      "source": [
        "4.5 규제가 있는 선형 모델\n",
        "\n",
        "4.5.1 릿지 회귀"
      ],
      "metadata": {
        "id": "DEfB4KF6OStJ"
      }
    },
    {
      "cell_type": "code",
      "source": [
        "# 정규 방정식\n",
        "from sklearn.linear_model import Ridge\n",
        "ridge_reg = Ridge(alpha=1, solver='cholesky')\n",
        "ridge_reg.fit(X,y)\n",
        "ridge_reg.predict([[1.5]])"
      ],
      "metadata": {
        "id": "cFSrpRWzOSH8",
        "colab": {
          "base_uri": "https://localhost:8080/"
        },
        "outputId": "337bcf5a-262f-4fc5-def7-6f16df303b9b"
      },
      "execution_count": 15,
      "outputs": [
        {
          "output_type": "execute_result",
          "data": {
            "text/plain": [
              "array([[5.08735043]])"
            ]
          },
          "metadata": {},
          "execution_count": 15
        }
      ]
    },
    {
      "cell_type": "code",
      "source": [
        "# 확률적 경사 하강법\n",
        "sgd_reg = SGDRegressor(penalty='l2')\n",
        "sgd_reg.fit(X,y.ravel())\n",
        "sgd_reg.predict([[1.5]])"
      ],
      "metadata": {
        "colab": {
          "base_uri": "https://localhost:8080/"
        },
        "id": "ZJG3t-uwxwJu",
        "outputId": "ddda42fb-9b37-48eb-b683-941563994648"
      },
      "execution_count": 16,
      "outputs": [
        {
          "output_type": "execute_result",
          "data": {
            "text/plain": [
              "array([5.08536983])"
            ]
          },
          "metadata": {},
          "execution_count": 16
        }
      ]
    },
    {
      "cell_type": "markdown",
      "source": [
        "4.5.2 라쏘 회귀"
      ],
      "metadata": {
        "id": "IoIgO7CUOWW8"
      }
    },
    {
      "cell_type": "code",
      "source": [
        "from sklearn.linear_model import Lasso\n",
        "lasso_reg = Lasso(alpha=0.1)\n",
        "lasso_reg.fit(X,y)\n",
        "lasso_reg.predict([[1.5]])"
      ],
      "metadata": {
        "id": "2UGc5FPZOZSl",
        "colab": {
          "base_uri": "https://localhost:8080/"
        },
        "outputId": "3358ac44-529a-468e-9c8d-0633fdc2e413"
      },
      "execution_count": 18,
      "outputs": [
        {
          "output_type": "execute_result",
          "data": {
            "text/plain": [
              "array([5.04661122])"
            ]
          },
          "metadata": {},
          "execution_count": 18
        }
      ]
    },
    {
      "cell_type": "markdown",
      "source": [
        "4.5.3 엘라스틱넷"
      ],
      "metadata": {
        "id": "8rQ8w8vXOZup"
      }
    },
    {
      "cell_type": "code",
      "source": [
        "from sklearn.linear_model import ElasticNet\n",
        "elastic_net = ElasticNet(alpha=0.1, l1_ratio=0.5)\n",
        "elastic_net.fit(X,y)\n",
        "elastic_net.predict([[1.5]])"
      ],
      "metadata": {
        "id": "fktaBkfSOcX-",
        "colab": {
          "base_uri": "https://localhost:8080/"
        },
        "outputId": "041ecf0d-36b9-4050-f1ff-af46d3c1e525"
      },
      "execution_count": 19,
      "outputs": [
        {
          "output_type": "execute_result",
          "data": {
            "text/plain": [
              "array([5.04872464])"
            ]
          },
          "metadata": {},
          "execution_count": 19
        }
      ]
    },
    {
      "cell_type": "markdown",
      "source": [
        "4.5.4 조기 종료"
      ],
      "metadata": {
        "id": "cwMn18QXOctK"
      }
    },
    {
      "cell_type": "code",
      "source": [
        "from sklearn.base import clone\n",
        "from sklearn.preprocessing import StandardScaler\n",
        "\n",
        "X_train, X_val, y_train, y_val = train_test_split(X,y,test_size=0.2)\n",
        "\n",
        "# 데이터 준비\n",
        "poly_scaler = Pipeline([\n",
        "                        ('poly_features', PolynomialFeatures(degree=90, include_bias=False)),\n",
        "                        ('std_scaler', StandardScaler())\n",
        "])\n",
        "X_train_poly_scaled = poly_scaler.fit_transform(X_train)\n",
        "X_val_poly_scaled = poly_scaler.transform(X_val)\n",
        "\n",
        "sgd_reg = SGDRegressor(max_iter=1, tol=-np.infty, warm_start=True, penalty=None, learning_rate='constant', eta0=0.0005)\n",
        "\n",
        "minimum_val_error = float('inf')\n",
        "best_epoch = None\n",
        "best_model = None\n",
        "for epoch in range(1000):\n",
        "  sgd_reg.fit(X_train_poly_scaled, y_train)\n",
        "  y_val_predict = sgd_reg.predict(X_val_poly_scaled)\n",
        "  val_error = mean_squared_error(y_val, y_val_predict)\n",
        "  if val_error < minimum_val_error:\n",
        "    minimum_val_error = val_error\n",
        "    best_epoch = epoch\n",
        "    best_model = clone(sgd_reg)"
      ],
      "metadata": {
        "id": "0i1Z6A8aOfCJ"
      },
      "execution_count": null,
      "outputs": []
    },
    {
      "cell_type": "markdown",
      "source": [
        "4.6 로지스틱 회귀\n",
        "\n",
        "4.6.3 결정 경계\n"
      ],
      "metadata": {
        "id": "yHFRgbJMOfa1"
      }
    },
    {
      "cell_type": "code",
      "source": [
        "# Iris-Versicolor 종 감지하는 분류기 만들기\n",
        "\n",
        "# 데이터 로드\n",
        "from sklearn import datasets\n",
        "iris = datasets.load_iris()\n",
        "list(iris.keys())"
      ],
      "metadata": {
        "id": "wSJiJnwuOqvs",
        "colab": {
          "base_uri": "https://localhost:8080/"
        },
        "outputId": "389149e0-c191-47f4-dd78-34799efbe171"
      },
      "execution_count": 24,
      "outputs": [
        {
          "output_type": "execute_result",
          "data": {
            "text/plain": [
              "['data',\n",
              " 'target',\n",
              " 'frame',\n",
              " 'target_names',\n",
              " 'DESCR',\n",
              " 'feature_names',\n",
              " 'filename',\n",
              " 'data_module']"
            ]
          },
          "metadata": {},
          "execution_count": 24
        }
      ]
    },
    {
      "cell_type": "code",
      "source": [
        "X = iris['data'][:, 3:]\n",
        "y = (iris['target']==2).astype(np.int)\n",
        "\n",
        "# 로지스틱 회귀 모델 훈련\n",
        "from sklearn.linear_model import LogisticRegression\n",
        "\n",
        "log_reg = LogisticRegression()\n",
        "log_reg.fit(X,y)\n",
        "\n",
        "# 모델의 추정 확률 계산\n",
        "X_new = np.linspace(0,3,1000).reshape(-1,1)\n",
        "y_proba = log_reg.predict_proba(X_new)\n",
        "plt.plot(X_new, y_proba[:,1], 'g-', label='Iris virginica')\n",
        "plt.plot(X_new, y_proba[:,0], 'b--', label='Not Iris virginica')"
      ],
      "metadata": {
        "colab": {
          "base_uri": "https://localhost:8080/",
          "height": 358
        },
        "id": "umVGVMt96N3Q",
        "outputId": "58ead215-80df-4e32-ebd6-8ffd531cddca"
      },
      "execution_count": 25,
      "outputs": [
        {
          "output_type": "stream",
          "name": "stderr",
          "text": [
            "/usr/local/lib/python3.7/dist-packages/ipykernel_launcher.py:2: DeprecationWarning: `np.int` is a deprecated alias for the builtin `int`. To silence this warning, use `int` by itself. Doing this will not modify any behavior and is safe. When replacing `np.int`, you may wish to use e.g. `np.int64` or `np.int32` to specify the precision. If you wish to review your current use, check the release note link for additional information.\n",
            "Deprecated in NumPy 1.20; for more details and guidance: https://numpy.org/devdocs/release/1.20.0-notes.html#deprecations\n",
            "  \n"
          ]
        },
        {
          "output_type": "execute_result",
          "data": {
            "text/plain": [
              "[<matplotlib.lines.Line2D at 0x7fc709e17e90>]"
            ]
          },
          "metadata": {},
          "execution_count": 25
        },
        {
          "output_type": "display_data",
          "data": {
            "text/plain": [
              "<Figure size 432x288 with 1 Axes>"
            ],
            "image/png": "[encoded data removed]"
          },
          "metadata": {
            "needs_background": "light"
          }
        }
      ]
    },
    {
      "cell_type": "code",
      "source": [
        "log_reg.predict([[1.7], [1.5]])"
      ],
      "metadata": {
        "colab": {
          "base_uri": "https://localhost:8080/"
        },
        "id": "T4ljAPMg7ADr",
        "outputId": "1c2ad083-98bd-42e1-dcf4-ba4c8756c929"
      },
      "execution_count": 26,
      "outputs": [
        {
          "output_type": "execute_result",
          "data": {
            "text/plain": [
              "array([1, 0])"
            ]
          },
          "metadata": {},
          "execution_count": 26
        }
      ]
    },
    {
      "cell_type": "markdown",
      "source": [
        "4.6.4 소프트맥스 회귀"
      ],
      "metadata": {
        "id": "8EVRSh9yOrGA"
      }
    },
    {
      "cell_type": "code",
      "source": [
        "X = iris['data'][:, (2,3)]\n",
        "y = iris['target']\n",
        "\n",
        "softmax_reg = LogisticRegression(multi_class='multinomial', solver='lbfgs', C=10)\n",
        "softmax_reg.fit(X,y)\n",
        "\n",
        "softmax_reg.predict([[5,2]])"
      ],
      "metadata": {
        "id": "qcuD2-fyOuQS",
        "colab": {
          "base_uri": "https://localhost:8080/"
        },
        "outputId": "c3899b58-5472-4e5d-822b-5a9c82c61a34"
      },
      "execution_count": 28,
      "outputs": [
        {
          "output_type": "execute_result",
          "data": {
            "text/plain": [
              "array([2])"
            ]
          },
          "metadata": {},
          "execution_count": 28
        }
      ]
    },
    {
      "cell_type": "code",
      "source": [
        "softmax_reg.predict_proba([[5,2]])"
      ],
      "metadata": {
        "colab": {
          "base_uri": "https://localhost:8080/"
        },
        "id": "GKOV4gdB8cmq",
        "outputId": "ebe7a400-60b6-4371-9345-3119fb081d79"
      },
      "execution_count": 29,
      "outputs": [
        {
          "output_type": "execute_result",
          "data": {
            "text/plain": [
              "array([[6.38014896e-07, 5.74929995e-02, 9.42506362e-01]])"
            ]
          },
          "metadata": {},
          "execution_count": 29
        }
      ]
    }
  ]
}