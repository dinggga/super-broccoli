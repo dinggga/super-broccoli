{
  "nbformat": 4,
  "nbformat_minor": 0,
  "metadata": {
    "colab": {
      "name": "miniproject_kcw",
      "provenance": []
    },
    "kernelspec": {
      "name": "python3",
      "display_name": "Python 3"
    },
    "language_info": {
      "name": "python"
    }
  },
  "cells": [
    {
      "cell_type": "code",
      "metadata": {
        "colab": {
          "base_uri": "https://localhost:8080/"
        },
        "id": "noRElWdEr9xd",
        "outputId": "3f249e9f-6224-4273-bf2c-7587e640b3b9"
      },
      "source": [
        "!sudo apt-get install -y fonts-nanum\n",
        "!sudo fc-cache -fv\n",
        "!rm ~/.cache/matplotlib -rf"
      ],
      "execution_count": 1,
      "outputs": [
        {
          "output_type": "stream",
          "name": "stdout",
          "text": [
            "Reading package lists... Done\n",
            "Building dependency tree       \n",
            "Reading state information... Done\n",
            "fonts-nanum is already the newest version (20170925-1).\n",
            "0 upgraded, 0 newly installed, 0 to remove and 37 not upgraded.\n",
            "/usr/share/fonts: caching, new cache contents: 0 fonts, 1 dirs\n",
            "/usr/share/fonts/truetype: caching, new cache contents: 0 fonts, 3 dirs\n",
            "/usr/share/fonts/truetype/humor-sans: caching, new cache contents: 1 fonts, 0 dirs\n",
            "/usr/share/fonts/truetype/liberation: caching, new cache contents: 16 fonts, 0 dirs\n",
            "/usr/share/fonts/truetype/nanum: caching, new cache contents: 10 fonts, 0 dirs\n",
            "/usr/local/share/fonts: caching, new cache contents: 0 fonts, 0 dirs\n",
            "/root/.local/share/fonts: skipping, no such directory\n",
            "/root/.fonts: skipping, no such directory\n",
            "/var/cache/fontconfig: cleaning cache directory\n",
            "/root/.cache/fontconfig: not cleaning non-existent cache directory\n",
            "/root/.fontconfig: not cleaning non-existent cache directory\n",
            "fc-cache: succeeded\n"
          ]
        }
      ]
    },
    {
      "cell_type": "code",
      "metadata": {
        "id": "f6raSK0VsIKJ"
      },
      "source": [
        "import matplotlib.pyplot as plt\n",
        "plt.rc('font', family='NanumBarunGothic')"
      ],
      "execution_count": 2,
      "outputs": []
    },
    {
      "cell_type": "code",
      "metadata": {
        "id": "CAfAFEhSsVAX"
      },
      "source": [
        "import pandas as pd \n",
        "import numpy as np\n",
        "import seaborn as sns\n",
        "import warnings\n",
        "warnings.filterwarnings(action='ignore')"
      ],
      "execution_count": 3,
      "outputs": []
    },
    {
      "cell_type": "code",
      "metadata": {
        "colab": {
          "resources": {
            "http://localhost:8080/nbextensions/google.colab/files.js": {
              "data": "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",
              "ok": true,
              "headers": [
                [
                  "content-type",
                  "application/javascript"
                ]
              ],
              "status": 200,
              "status_text": ""
            }
          },
          "base_uri": "https://localhost:8080/",
          "height": 75
        },
        "id": "OPl5WNSDsYgF",
        "outputId": "1ad58359-d224-4075-f273-d5597aa82c35"
      },
      "source": [
        "# 데이터 불러오기\n",
        "from google.colab import files\n",
        "myfile = files.upload()"
      ],
      "execution_count": 4,
      "outputs": [
        {
          "output_type": "display_data",
          "data": {
            "text/html": [
              "\n",
              "     <input type=\"file\" id=\"files-d35ad83c-0ae3-455e-a7f5-f25678acb66b\" name=\"files[]\" multiple disabled\n",
              "        style=\"border:none\" />\n",
              "     <output id=\"result-d35ad83c-0ae3-455e-a7f5-f25678acb66b\">\n",
              "      Upload widget is only available when the cell has been executed in the\n",
              "      current browser session. Please rerun this cell to enable.\n",
              "      </output>\n",
              "      <script src=\"/nbextensions/google.colab/files.js\"></script> "
            ],
            "text/plain": [
              "<IPython.core.display.HTML object>"
            ]
          },
          "metadata": {}
        },
        {
          "output_type": "stream",
          "name": "stdout",
          "text": [
            "Saving movies_train.csv to movies_train.csv\n"
          ]
        }
      ]
    },
    {
      "cell_type": "code",
      "metadata": {
        "colab": {
          "base_uri": "https://localhost:8080/",
          "height": 202
        },
        "id": "NZ4vPFp_uR7t",
        "outputId": "66cff1f5-0b8d-4f32-9d88-f8ab89dfad59"
      },
      "source": [
        "import io\n",
        "\n",
        "train = pd.read_csv(io.BytesIO(myfile['movies_train.csv']))\n",
        "train.head()"
      ],
      "execution_count": 5,
      "outputs": [
        {
          "output_type": "execute_result",
          "data": {
            "text/html": [
              "<div>\n",
              "<style scoped>\n",
              "    .dataframe tbody tr th:only-of-type {\n",
              "        vertical-align: middle;\n",
              "    }\n",
              "\n",
              "    .dataframe tbody tr th {\n",
              "        vertical-align: top;\n",
              "    }\n",
              "\n",
              "    .dataframe thead th {\n",
              "        text-align: right;\n",
              "    }\n",
              "</style>\n",
              "<table border=\"1\" class=\"dataframe\">\n",
              "  <thead>\n",
              "    <tr style=\"text-align: right;\">\n",
              "      <th></th>\n",
              "      <th>title</th>\n",
              "      <th>distributor</th>\n",
              "      <th>genre</th>\n",
              "      <th>release_time</th>\n",
              "      <th>time</th>\n",
              "      <th>screening_rat</th>\n",
              "      <th>director</th>\n",
              "      <th>dir_prev_bfnum</th>\n",
              "      <th>dir_prev_num</th>\n",
              "      <th>num_staff</th>\n",
              "      <th>num_actor</th>\n",
              "      <th>box_off_num</th>\n",
              "    </tr>\n",
              "  </thead>\n",
              "  <tbody>\n",
              "    <tr>\n",
              "      <th>0</th>\n",
              "      <td>개들의 전쟁</td>\n",
              "      <td>롯데엔터테인먼트</td>\n",
              "      <td>액션</td>\n",
              "      <td>2012-11-22</td>\n",
              "      <td>96</td>\n",
              "      <td>청소년 관람불가</td>\n",
              "      <td>조병옥</td>\n",
              "      <td>NaN</td>\n",
              "      <td>0</td>\n",
              "      <td>91</td>\n",
              "      <td>2</td>\n",
              "      <td>23398</td>\n",
              "    </tr>\n",
              "    <tr>\n",
              "      <th>1</th>\n",
              "      <td>내부자들</td>\n",
              "      <td>(주)쇼박스</td>\n",
              "      <td>느와르</td>\n",
              "      <td>2015-11-19</td>\n",
              "      <td>130</td>\n",
              "      <td>청소년 관람불가</td>\n",
              "      <td>우민호</td>\n",
              "      <td>1161602.50</td>\n",
              "      <td>2</td>\n",
              "      <td>387</td>\n",
              "      <td>3</td>\n",
              "      <td>7072501</td>\n",
              "    </tr>\n",
              "    <tr>\n",
              "      <th>2</th>\n",
              "      <td>은밀하게 위대하게</td>\n",
              "      <td>(주)쇼박스</td>\n",
              "      <td>액션</td>\n",
              "      <td>2013-06-05</td>\n",
              "      <td>123</td>\n",
              "      <td>15세 관람가</td>\n",
              "      <td>장철수</td>\n",
              "      <td>220775.25</td>\n",
              "      <td>4</td>\n",
              "      <td>343</td>\n",
              "      <td>4</td>\n",
              "      <td>6959083</td>\n",
              "    </tr>\n",
              "    <tr>\n",
              "      <th>3</th>\n",
              "      <td>나는 공무원이다</td>\n",
              "      <td>(주)NEW</td>\n",
              "      <td>코미디</td>\n",
              "      <td>2012-07-12</td>\n",
              "      <td>101</td>\n",
              "      <td>전체 관람가</td>\n",
              "      <td>구자홍</td>\n",
              "      <td>23894.00</td>\n",
              "      <td>2</td>\n",
              "      <td>20</td>\n",
              "      <td>6</td>\n",
              "      <td>217866</td>\n",
              "    </tr>\n",
              "    <tr>\n",
              "      <th>4</th>\n",
              "      <td>불량남녀</td>\n",
              "      <td>쇼박스(주)미디어플렉스</td>\n",
              "      <td>코미디</td>\n",
              "      <td>2010-11-04</td>\n",
              "      <td>108</td>\n",
              "      <td>15세 관람가</td>\n",
              "      <td>신근호</td>\n",
              "      <td>1.00</td>\n",
              "      <td>1</td>\n",
              "      <td>251</td>\n",
              "      <td>2</td>\n",
              "      <td>483387</td>\n",
              "    </tr>\n",
              "  </tbody>\n",
              "</table>\n",
              "</div>"
            ],
            "text/plain": [
              "       title   distributor genre  ... num_staff  num_actor box_off_num\n",
              "0     개들의 전쟁      롯데엔터테인먼트    액션  ...        91          2       23398\n",
              "1       내부자들        (주)쇼박스   느와르  ...       387          3     7072501\n",
              "2  은밀하게 위대하게        (주)쇼박스    액션  ...       343          4     6959083\n",
              "3   나는 공무원이다        (주)NEW   코미디  ...        20          6      217866\n",
              "4       불량남녀  쇼박스(주)미디어플렉스   코미디  ...       251          2      483387\n",
              "\n",
              "[5 rows x 12 columns]"
            ]
          },
          "metadata": {},
          "execution_count": 5
        }
      ]
    },
    {
      "cell_type": "code",
      "metadata": {
        "colab": {
          "base_uri": "https://localhost:8080/"
        },
        "id": "4lKWp12sug8Z",
        "outputId": "52f390dc-2239-49f6-b7a4-5c5342857e2e"
      },
      "source": [
        "train.info()"
      ],
      "execution_count": 6,
      "outputs": [
        {
          "output_type": "stream",
          "name": "stdout",
          "text": [
            "<class 'pandas.core.frame.DataFrame'>\n",
            "RangeIndex: 600 entries, 0 to 599\n",
            "Data columns (total 12 columns):\n",
            " #   Column          Non-Null Count  Dtype  \n",
            "---  ------          --------------  -----  \n",
            " 0   title           600 non-null    object \n",
            " 1   distributor     600 non-null    object \n",
            " 2   genre           600 non-null    object \n",
            " 3   release_time    600 non-null    object \n",
            " 4   time            600 non-null    int64  \n",
            " 5   screening_rat   600 non-null    object \n",
            " 6   director        600 non-null    object \n",
            " 7   dir_prev_bfnum  270 non-null    float64\n",
            " 8   dir_prev_num    600 non-null    int64  \n",
            " 9   num_staff       600 non-null    int64  \n",
            " 10  num_actor       600 non-null    int64  \n",
            " 11  box_off_num     600 non-null    int64  \n",
            "dtypes: float64(1), int64(5), object(6)\n",
            "memory usage: 56.4+ KB\n"
          ]
        }
      ]
    },
    {
      "cell_type": "code",
      "metadata": {
        "id": "LnaalMZ_ujyW"
      },
      "source": [
        "# 문자열인 날짜 정보를 datetime 오브젝트로 변환\n",
        "train['release_time'] = pd.to_datetime(train['release_time'])\n",
        "\n",
        "# 결측값들 0으로 채워주기\n",
        "train['dir_prev_bfnum'].fillna(0,inplace=True)"
      ],
      "execution_count": 7,
      "outputs": []
    },
    {
      "cell_type": "code",
      "metadata": {
        "colab": {
          "base_uri": "https://localhost:8080/"
        },
        "id": "vvnFVaNhuvy5",
        "outputId": "d62fa9b6-703d-454f-91a6-355ef411f34e"
      },
      "source": [
        "train.info()"
      ],
      "execution_count": 8,
      "outputs": [
        {
          "output_type": "stream",
          "name": "stdout",
          "text": [
            "<class 'pandas.core.frame.DataFrame'>\n",
            "RangeIndex: 600 entries, 0 to 599\n",
            "Data columns (total 12 columns):\n",
            " #   Column          Non-Null Count  Dtype         \n",
            "---  ------          --------------  -----         \n",
            " 0   title           600 non-null    object        \n",
            " 1   distributor     600 non-null    object        \n",
            " 2   genre           600 non-null    object        \n",
            " 3   release_time    600 non-null    datetime64[ns]\n",
            " 4   time            600 non-null    int64         \n",
            " 5   screening_rat   600 non-null    object        \n",
            " 6   director        600 non-null    object        \n",
            " 7   dir_prev_bfnum  600 non-null    float64       \n",
            " 8   dir_prev_num    600 non-null    int64         \n",
            " 9   num_staff       600 non-null    int64         \n",
            " 10  num_actor       600 non-null    int64         \n",
            " 11  box_off_num     600 non-null    int64         \n",
            "dtypes: datetime64[ns](1), float64(1), int64(5), object(5)\n",
            "memory usage: 56.4+ KB\n"
          ]
        }
      ]
    },
    {
      "cell_type": "markdown",
      "metadata": {
        "id": "Y7EC_AAMu8aP"
      },
      "source": [
        "### 1) 분기별 개봉 영화 수, 평균 관람객 변화 비교"
      ]
    },
    {
      "cell_type": "code",
      "metadata": {
        "colab": {
          "base_uri": "https://localhost:8080/"
        },
        "id": "8Ffefv36vBxn",
        "outputId": "8b039ced-5bfe-4f6d-d02c-de4ca9706f25"
      },
      "source": [
        "print(train['release_time'].min())\n",
        "print(train['release_time'].max())"
      ],
      "execution_count": 9,
      "outputs": [
        {
          "output_type": "stream",
          "name": "stdout",
          "text": [
            "2010-01-02 00:00:00\n",
            "2015-12-31 00:00:00\n"
          ]
        }
      ]
    },
    {
      "cell_type": "code",
      "metadata": {
        "id": "pq4qqK67vJRg"
      },
      "source": [
        "train['release_year'] = train['release_time'].dt.year\n",
        "train['release_quarter'] = train['release_time'].dt.quarter"
      ],
      "execution_count": 10,
      "outputs": []
    },
    {
      "cell_type": "code",
      "metadata": {
        "colab": {
          "base_uri": "https://localhost:8080/"
        },
        "id": "sgL_Gw7QvZVJ",
        "outputId": "e26bde18-8adf-4250-dfdb-271006b37f82"
      },
      "source": [
        "# 각 연도 분기별 개봉 영화 수\n",
        "yearqt_movie = train.groupby(['release_year','release_quarter']).size()\n",
        "print(yearqt_movie)"
      ],
      "execution_count": 11,
      "outputs": [
        {
          "output_type": "stream",
          "name": "stdout",
          "text": [
            "release_year  release_quarter\n",
            "2010          1                  16\n",
            "              2                  24\n",
            "              3                  25\n",
            "              4                  25\n",
            "2011          1                  23\n",
            "              2                  13\n",
            "              3                  23\n",
            "              4                  21\n",
            "2012          1                  22\n",
            "              2                  20\n",
            "              3                  25\n",
            "              4                  21\n",
            "2013          1                  15\n",
            "              2                  22\n",
            "              3                  27\n",
            "              4                  31\n",
            "2014          1                  24\n",
            "              2                  30\n",
            "              3                  32\n",
            "              4                  41\n",
            "2015          1                  22\n",
            "              2                  24\n",
            "              3                  32\n",
            "              4                  42\n",
            "dtype: int64\n"
          ]
        }
      ]
    },
    {
      "cell_type": "code",
      "metadata": {
        "colab": {
          "base_uri": "https://localhost:8080/"
        },
        "id": "BoFI9i9oxEcd",
        "outputId": "091bf166-dfd5-4129-97f0-f1af58b4f364"
      },
      "source": [
        "# 각 연도 분기별 평균 영화 관람객 수 \n",
        "yearqt_num = train['box_off_num'].groupby([train['release_year'], train['release_quarter']]).mean()\n",
        "print(yearqt_num)"
      ],
      "execution_count": 12,
      "outputs": [
        {
          "output_type": "stream",
          "name": "stdout",
          "text": [
            "release_year  release_quarter\n",
            "2010          1                  1.924501e+05\n",
            "              2                  3.466838e+05\n",
            "              3                  8.288438e+05\n",
            "              4                  6.651411e+05\n",
            "2011          1                  5.591162e+05\n",
            "              2                  7.026480e+05\n",
            "              3                  8.944767e+05\n",
            "              4                  3.686814e+05\n",
            "2012          1                  9.146262e+05\n",
            "              2                  5.529920e+05\n",
            "              3                  1.547894e+06\n",
            "              4                  6.354694e+05\n",
            "2013          1                  1.621999e+06\n",
            "              2                  6.459955e+05\n",
            "              3                  1.269269e+06\n",
            "              4                  7.382853e+05\n",
            "2014          1                  6.557694e+05\n",
            "              2                  3.107731e+05\n",
            "              3                  6.286500e+05\n",
            "              4                  7.376798e+05\n",
            "2015          1                  5.426415e+05\n",
            "              2                  3.231013e+05\n",
            "              3                  6.466782e+05\n",
            "              4                  7.409062e+05\n",
            "Name: box_off_num, dtype: float64\n"
          ]
        }
      ]
    },
    {
      "cell_type": "code",
      "metadata": {
        "colab": {
          "base_uri": "https://localhost:8080/",
          "height": 571
        },
        "id": "ym7kE7T2zQ-6",
        "outputId": "6f87ddc3-15d7-4f9c-a4ff-2eb8f73975ba"
      },
      "source": [
        "# 연도 분기별 두 수치를 그래프로 비교\n",
        "fig, ax = plt.subplots()\n",
        "ax = yearqt_movie.plot()\n",
        "ax.set_title('연도 분기별 개봉 영화 개수')\n",
        "plt.show()\n",
        "\n",
        "fig, ax = plt.subplots()\n",
        "ax = yearqt_num.plot()\n",
        "ax.set_title('연도 분기별 평균 영화 관람객 수')\n",
        "plt.show()"
      ],
      "execution_count": 13,
      "outputs": [
        {
          "output_type": "display_data",
          "data": {
            "image/png": "[encoded data removed]",
            "text/plain": [
              "<Figure size 432x288 with 1 Axes>"
            ]
          },
          "metadata": {
            "needs_background": "light"
          }
        },
        {
          "output_type": "display_data",
          "data": {
            "image/png": "[encoded data removed]",
            "text/plain": [
              "<Figure size 432x288 with 1 Axes>"
            ]
          },
          "metadata": {
            "needs_background": "light"
          }
        }
      ]
    },
    {
      "cell_type": "markdown",
      "metadata": {
        "id": "IIqqt_iT2SDt"
      },
      "source": [
        "- 2010년 1분기부터 2015년 4분기까지 개봉하는 영화 개수는 시간이 흐를수록 대체로 증가한다. 매년 1~2분기에 영화 개수가 급락하지만 전체적으로는 증가하는 추세이다.\n",
        "- 하지만 개봉 영화 개수와 평균 관람객 수는 비례하지 않는다. 2012년 3분기부터 2013년 4분기까지의 기간은 타 기간에 비해 평균 관람객 수가 높지만, 개봉 영화 개수는 많지 않은 편이다."
      ]
    },
    {
      "cell_type": "code",
      "metadata": {
        "colab": {
          "base_uri": "https://localhost:8080/",
          "height": 312
        },
        "id": "_jvEJdkC_6dG",
        "outputId": "dc5604e9-04ff-43b8-f827-b69696b641bb"
      },
      "source": [
        "yearqt_df = pd.DataFrame({'movie':yearqt_movie, 'num':yearqt_num})\n",
        "\n",
        "ax = plt.subplots()\n",
        "ax = sns.regplot(x='movie', y='num', data=yearqt_df)\n",
        "ax.set_title('연도분기별 개봉영화수와 평균관람객수의 산점도')\n",
        "ax.set_xlabel('개봉 영화 수')\n",
        "ax.set_ylabel('평균 관람객 수')"
      ],
      "execution_count": 33,
      "outputs": [
        {
          "output_type": "execute_result",
          "data": {
            "text/plain": [
              "Text(0, 0.5, '평균 관람객 수')"
            ]
          },
          "metadata": {},
          "execution_count": 33
        },
        {
          "output_type": "display_data",
          "data": {
            "image/png": "[encoded data removed]",
            "text/plain": [
              "<Figure size 432x288 with 1 Axes>"
            ]
          },
          "metadata": {
            "needs_background": "light"
          }
        }
      ]
    },
    {
      "cell_type": "markdown",
      "metadata": {
        "id": "4I6v5D8k6wpq"
      },
      "source": [
        "- 산점도를 통해 영화가 많이 개봉하는 시즌이라고 영화 평균 이용객이 늘어나진 않는다는 것을 볼 수 있다. 산점도에서 특정한 비례 관계나 특징을 찾을 수 없다."
      ]
    },
    {
      "cell_type": "markdown",
      "metadata": {
        "id": "dtTd8cDS7aKs"
      },
      "source": [
        "### 2) 요일별 평균 영화 개봉 수와 평균 관람객 수 "
      ]
    },
    {
      "cell_type": "code",
      "metadata": {
        "colab": {
          "base_uri": "https://localhost:8080/"
        },
        "id": "XQp4VAA27kE4",
        "outputId": "683ad48b-9a7c-40c1-d8dc-ee7fbc5a29a5"
      },
      "source": [
        "# release_weekday 열의 데이터가 숫자로 구분되어 있어서 어느 요일인지 식별하기 힘듦. 따라서 문자로 바꿈.\n",
        "\n",
        "train['release_weekday'] = train['release_time'].dt.weekday\n",
        "\n",
        "t = ['월','화','수','목','금','토','일']\n",
        "for i in range(600):\n",
        "  n = train['release_weekday'][i]\n",
        "  train['release_weekday'][i] = t[n]\n",
        "\n",
        "print(train['release_weekday'])"
      ],
      "execution_count": 15,
      "outputs": [
        {
          "output_type": "stream",
          "name": "stdout",
          "text": [
            "0      목\n",
            "1      목\n",
            "2      수\n",
            "3      목\n",
            "4      목\n",
            "      ..\n",
            "595    수\n",
            "596    목\n",
            "597    목\n",
            "598    목\n",
            "599    수\n",
            "Name: release_weekday, Length: 600, dtype: object\n"
          ]
        }
      ]
    },
    {
      "cell_type": "code",
      "metadata": {
        "colab": {
          "base_uri": "https://localhost:8080/"
        },
        "id": "BYZM6aeo7JQF",
        "outputId": "812c1bc2-c37b-4bb2-e9fb-475429030e17"
      },
      "source": [
        "# 요일별 개봉 영화 수\n",
        "weekd_movie = train.groupby('release_weekday').size().sort_values(ascending=False)\n",
        "print('요일별 개봉 영화 수:')\n",
        "print(weekd_movie)\n",
        "\n",
        "# 개봉 요일별 평균 영화 관람객 수 \n",
        "weekd_num = train['box_off_num'].groupby(train['release_weekday']).mean().sort_values(ascending=False)\n",
        "print('\\n', '개봉 요일별 평균 영화 관람객 수:')\n",
        "print(weekd_num)"
      ],
      "execution_count": 16,
      "outputs": [
        {
          "output_type": "stream",
          "name": "stdout",
          "text": [
            "요일별 개봉 영화 수:\n",
            "release_weekday\n",
            "목    484\n",
            "수    107\n",
            "월      4\n",
            "화      2\n",
            "금      2\n",
            "토      1\n",
            "dtype: int64\n",
            "\n",
            " 개봉 요일별 평균 영화 관람객 수:\n",
            "release_weekday\n",
            "화    2.591569e+06\n",
            "수    2.237699e+06\n",
            "목    3.722990e+05\n",
            "금    4.865100e+04\n",
            "월    4.340000e+02\n",
            "토    3.530000e+02\n",
            "Name: box_off_num, dtype: float64\n"
          ]
        }
      ]
    },
    {
      "cell_type": "code",
      "metadata": {
        "colab": {
          "base_uri": "https://localhost:8080/",
          "height": 180
        },
        "id": "uxh9d9xdQmDt",
        "outputId": "b6dbb126-7312-4c93-f5e5-86072a5d772d"
      },
      "source": [
        "train[train['release_weekday']=='화']"
      ],
      "execution_count": 17,
      "outputs": [
        {
          "output_type": "execute_result",
          "data": {
            "text/html": [
              "<div>\n",
              "<style scoped>\n",
              "    .dataframe tbody tr th:only-of-type {\n",
              "        vertical-align: middle;\n",
              "    }\n",
              "\n",
              "    .dataframe tbody tr th {\n",
              "        vertical-align: top;\n",
              "    }\n",
              "\n",
              "    .dataframe thead th {\n",
              "        text-align: right;\n",
              "    }\n",
              "</style>\n",
              "<table border=\"1\" class=\"dataframe\">\n",
              "  <thead>\n",
              "    <tr style=\"text-align: right;\">\n",
              "      <th></th>\n",
              "      <th>title</th>\n",
              "      <th>distributor</th>\n",
              "      <th>genre</th>\n",
              "      <th>release_time</th>\n",
              "      <th>time</th>\n",
              "      <th>screening_rat</th>\n",
              "      <th>director</th>\n",
              "      <th>dir_prev_bfnum</th>\n",
              "      <th>dir_prev_num</th>\n",
              "      <th>num_staff</th>\n",
              "      <th>num_actor</th>\n",
              "      <th>box_off_num</th>\n",
              "      <th>release_year</th>\n",
              "      <th>release_quarter</th>\n",
              "      <th>release_weekday</th>\n",
              "    </tr>\n",
              "  </thead>\n",
              "  <tbody>\n",
              "    <tr>\n",
              "      <th>288</th>\n",
              "      <td>타워</td>\n",
              "      <td>CJ E&amp;M 영화부문</td>\n",
              "      <td>드라마</td>\n",
              "      <td>2012-12-25</td>\n",
              "      <td>121</td>\n",
              "      <td>12세 관람가</td>\n",
              "      <td>김지훈</td>\n",
              "      <td>2849087.5</td>\n",
              "      <td>4</td>\n",
              "      <td>126</td>\n",
              "      <td>3</td>\n",
              "      <td>5181014</td>\n",
              "      <td>2012</td>\n",
              "      <td>4</td>\n",
              "      <td>화</td>\n",
              "    </tr>\n",
              "    <tr>\n",
              "      <th>302</th>\n",
              "      <td>원 나잇 스탠드</td>\n",
              "      <td>KT&amp;G 상상마당</td>\n",
              "      <td>드라마</td>\n",
              "      <td>2010-05-04</td>\n",
              "      <td>98</td>\n",
              "      <td>청소년 관람불가</td>\n",
              "      <td>민용근</td>\n",
              "      <td>0.0</td>\n",
              "      <td>0</td>\n",
              "      <td>106</td>\n",
              "      <td>10</td>\n",
              "      <td>2124</td>\n",
              "      <td>2010</td>\n",
              "      <td>2</td>\n",
              "      <td>화</td>\n",
              "    </tr>\n",
              "  </tbody>\n",
              "</table>\n",
              "</div>"
            ],
            "text/plain": [
              "        title  distributor genre  ... release_year  release_quarter release_weekday\n",
              "288        타워  CJ E&M 영화부문   드라마  ...         2012                4               화\n",
              "302  원 나잇 스탠드    KT&G 상상마당   드라마  ...         2010                2               화\n",
              "\n",
              "[2 rows x 15 columns]"
            ]
          },
          "metadata": {},
          "execution_count": 17
        }
      ]
    },
    {
      "cell_type": "markdown",
      "metadata": {
        "id": "5cQU24hkObq1"
      },
      "source": [
        "- 요일별 개봉 영화 수는 목, 수, 월, 화, 금, 토요일의 순서대로 많다. 영화 개봉일은 대부분 목요일임을 알 수 있다. 수, 목요일에 대부분의 영화가 개봉하고, 월, 화, 금, 토요일은 아주 적은 수의 영화가 개봉한다. 일요일은 영화가 개봉하지 않았다.\n",
        "- 영화의 개별 요일별 평균 관람객 수는 화, 수, 목, 금, 월, 토요일 순으로 많다. 요일별 개봉 영화 수의 순서와는 다르지만, 그렇다고 개봉 요일과 평균 관람객 수가 아예 관련 없다고 볼 수는 없다. 영화의 평균 관람객 수가 가장 많은 화요일에는 영화가 두 편 개봉했는데, 그 중 하나의 관람객 수가 매우 컸기 때문에 그것의 평균을 일반화할 수 없다. \n",
        "- 요일별 자료 개수의 차이가 매우 크므로 평균 영화 관람객 수를 비교하는데 의미가 없을 것 같다고 판단한다. 따라서 두 결과 중 '요일별 개봉 영화 수'를 통해 수, 목요일에 영화를 많이 개봉하는 경향성이 있다는 사실만 알 수 있다."
      ]
    },
    {
      "cell_type": "markdown",
      "metadata": {
        "id": "NDYm0fyeSw1v"
      },
      "source": [
        "### 3) 배급사별 분석"
      ]
    },
    {
      "cell_type": "markdown",
      "metadata": {
        "id": "H3xMNj6mQNMu"
      },
      "source": [
        "배급사별로 개봉 영화 수(dist_num), 평균 영화 관람객 수(dist_box), 평균 주연배우 수(dist_actor), 평균 스탭 수(dist_staff), 감독의 이전 제작 영화 평균 개수(dist_prev_num), 감독의 이전 제작 영화 평균 관객 수(dist_prev_bf)까지 6부분을 분석해 하나의 데이터 프레임(dist_df)을 생성하고, 이를 시각화해서 배급사별 영화 개봉 성과, 선호하는 스태프 인원, 선호하는 감독 등을 알아보려 한다."
      ]
    },
    {
      "cell_type": "code",
      "metadata": {
        "colab": {
          "base_uri": "https://localhost:8080/"
        },
        "id": "_GaqDpCnBXMs",
        "outputId": "0fce6fbe-7dd0-451e-9d6a-4170713fcb1c"
      },
      "source": [
        "# 배급사별 개봉 영화 개수\n",
        "dist_num = train.groupby('distributor').size()\n",
        "dist_num.sort_values(ascending=False)"
      ],
      "execution_count": 18,
      "outputs": [
        {
          "output_type": "execute_result",
          "data": {
            "text/plain": [
              "distributor\n",
              "CJ 엔터테인먼트          54\n",
              "롯데엔터테인먼트           52\n",
              "(주)NEW             30\n",
              "(주)마운틴픽쳐스          29\n",
              "인디스토리              26\n",
              "                   ..\n",
              "동국대학교 충무로영상제작센터     1\n",
              "두 엔터테인먼트            1\n",
              "와이드릴리즈(주)           1\n",
              "와이드 릴리즈(주)          1\n",
              "마법사필름               1\n",
              "Length: 169, dtype: int64"
            ]
          },
          "metadata": {},
          "execution_count": 18
        }
      ]
    },
    {
      "cell_type": "code",
      "metadata": {
        "id": "psXpzEVJZkIQ",
        "colab": {
          "base_uri": "https://localhost:8080/"
        },
        "outputId": "5ee5b4b6-5b27-44e6-fb30-f3ee4d04d507"
      },
      "source": [
        "# 배급사별 평균 영화 관람객 수\n",
        "dist_box = train['box_off_num'].groupby(train['distributor']).mean()\n",
        "dist_box.sort_values(ascending=False)"
      ],
      "execution_count": 19,
      "outputs": [
        {
          "output_type": "execute_result",
          "data": {
            "text/plain": [
              "distributor\n",
              "CJ E&M Pictures    4.122337e+06\n",
              "(주)쇼박스             3.386656e+06\n",
              "(주)아이필름코퍼레이션       3.117859e+06\n",
              "쇼박스(주)미디어플렉스       2.634823e+06\n",
              "영구아트무비             2.541603e+06\n",
              "                       ...     \n",
              "나우콘텐츠              5.400000e+01\n",
              "위드시네마              4.600000e+01\n",
              "사람과 사람들            4.200000e+01\n",
              "고구마공작소             8.000000e+00\n",
              "인피니티엔터테인먼트         2.000000e+00\n",
              "Name: box_off_num, Length: 169, dtype: float64"
            ]
          },
          "metadata": {},
          "execution_count": 19
        }
      ]
    },
    {
      "cell_type": "code",
      "metadata": {
        "colab": {
          "base_uri": "https://localhost:8080/"
        },
        "id": "oDiPffNA-UEk",
        "outputId": "5e633b87-1b2d-4e19-dd11-b7a923355dc7"
      },
      "source": [
        "# 배급사별 평균 주연배우 수\n",
        "dist_actor = train['num_actor'].groupby(train['distributor']).mean().sort_values(ascending=False)\n",
        "dist_actor"
      ],
      "execution_count": 21,
      "outputs": [
        {
          "output_type": "execute_result",
          "data": {
            "text/plain": [
              "distributor\n",
              "디 씨드              11.0\n",
              "서울독립영화제            9.5\n",
              "파이오니아21            8.0\n",
              "더픽쳐스/(주)마운틴픽쳐스     8.0\n",
              "크리에이티브컴즈(주)        8.0\n",
              "                  ... \n",
              "미라클 필름             1.0\n",
              "(주)콘텐츠 윙           1.0\n",
              "인터콘미디어             0.0\n",
              "(주)패뷸러스            0.0\n",
              "상구네 필름             0.0\n",
              "Name: num_actor, Length: 169, dtype: float64"
            ]
          },
          "metadata": {},
          "execution_count": 21
        }
      ]
    },
    {
      "cell_type": "code",
      "metadata": {
        "colab": {
          "base_uri": "https://localhost:8080/"
        },
        "id": "c-jV1lb7_evj",
        "outputId": "c37fa88d-cae1-49c1-f777-90e4801750a3"
      },
      "source": [
        "# 배급사별 평균 스탭 수\n",
        "dist_staff = train['num_staff'].groupby(train['distributor']).mean().sort_values(ascending=False)\n",
        "dist_staff"
      ],
      "execution_count": 22,
      "outputs": [
        {
          "output_type": "execute_result",
          "data": {
            "text/plain": [
              "distributor\n",
              "주머니필름           477.0\n",
              "(주)아이필름코퍼레이션    458.0\n",
              "스튜디오 블루         436.0\n",
              "SK텔레콤(주)        410.0\n",
              "KT              364.0\n",
              "                ...  \n",
              "위드시네마             0.0\n",
              "에이원 엔터테인먼트        0.0\n",
              "미라클 필름            0.0\n",
              "나우콘텐츠             0.0\n",
              "(주)콘텐츠 윙          0.0\n",
              "Name: num_staff, Length: 169, dtype: float64"
            ]
          },
          "metadata": {},
          "execution_count": 22
        }
      ]
    },
    {
      "cell_type": "code",
      "metadata": {
        "colab": {
          "base_uri": "https://localhost:8080/"
        },
        "id": "5RWgf3RHACqV",
        "outputId": "ae643764-0f6b-4527-ae47-793986ca3a36"
      },
      "source": [
        "# 감독의 이전 제작 영화 평균 개수\n",
        "dist_prev_num = train['dir_prev_num'].groupby(train['distributor']).mean().sort_values(ascending=False)\n",
        "dist_prev_num"
      ],
      "execution_count": 23,
      "outputs": [
        {
          "output_type": "execute_result",
          "data": {
            "text/plain": [
              "distributor\n",
              "조이앤컨텐츠그룹    3.0\n",
              "판씨네마(주)     3.0\n",
              "새인컴퍼니       3.0\n",
              "OAL(올)      3.0\n",
              "tvN         3.0\n",
              "           ... \n",
              "어썸 피플       0.0\n",
              "아방가르드 필름    0.0\n",
              "SK텔레콤(주)    0.0\n",
              "SK플래닛       0.0\n",
              "마법사필름       0.0\n",
              "Name: dir_prev_num, Length: 169, dtype: float64"
            ]
          },
          "metadata": {},
          "execution_count": 23
        }
      ]
    },
    {
      "cell_type": "code",
      "metadata": {
        "colab": {
          "base_uri": "https://localhost:8080/"
        },
        "id": "Upg6HcaUAgVp",
        "outputId": "3ebecca6-0769-488c-a22e-a45f5ea1510b"
      },
      "source": [
        "# 감독의 이전 제작 영화 평균 관객수\n",
        "dist_prev_bf = train['dir_prev_bfnum'].groupby(train['distributor']).mean().sort_values(ascending=False)\n",
        "dist_prev_bf"
      ],
      "execution_count": 44,
      "outputs": [
        {
          "output_type": "execute_result",
          "data": {
            "text/plain": [
              "distributor\n",
              "고구마공작소             1.761531e+07\n",
              "영구아트무비             7.855474e+06\n",
              "CJ E&M Pictures    4.111671e+06\n",
              "스튜디오후크             2.800018e+06\n",
              "CJ E&M 영화부문        2.163222e+06\n",
              "                       ...     \n",
              "KBS미디어(주)          0.000000e+00\n",
              "싸이더스 FNH           0.000000e+00\n",
              "스튜디오 느림보           0.000000e+00\n",
              "M2픽처스              0.000000e+00\n",
              "마법사필름              0.000000e+00\n",
              "Name: dir_prev_bfnum, Length: 169, dtype: float64"
            ]
          },
          "metadata": {},
          "execution_count": 44
        }
      ]
    },
    {
      "cell_type": "code",
      "metadata": {
        "id": "1Bo1hpT6B1dG"
      },
      "source": [
        "# 위 시리즈들을 데이터 프레임 dist_df로 합침\n",
        "dist_df = pd.DataFrame({'num':dist_num, 'box':dist_box, 'actor':dist_actor, 'staff':dist_staff,'prev_num':dist_prev_num, 'prev_bf':dist_prev_bf})"
      ],
      "execution_count": 45,
      "outputs": []
    },
    {
      "cell_type": "code",
      "metadata": {
        "colab": {
          "base_uri": "https://localhost:8080/",
          "height": 312
        },
        "id": "qkXQfla5Skm0",
        "outputId": "45a82c1b-35f1-4b6b-c379-bd21b6da39ec"
      },
      "source": [
        "# 배급사별 성과 비교\n",
        "ax = plt.subplots()\n",
        "ax = sns.regplot(x='num', y='box', data=dist_df)\n",
        "ax.set_title('배급사별 평균 관람객 수')\n",
        "ax.set_xlabel('배급사별 배급 영화 개수')\n",
        "ax.set_ylabel('영화 평균 관람객 수')"
      ],
      "execution_count": 50,
      "outputs": [
        {
          "output_type": "execute_result",
          "data": {
            "text/plain": [
              "Text(0, 0.5, '영화 평균 관람객 수')"
            ]
          },
          "metadata": {},
          "execution_count": 50
        },
        {
          "output_type": "display_data",
          "data": {
            "image/png": "[encoded data removed]",
            "text/plain": [
              "<Figure size 432x288 with 1 Axes>"
            ]
          },
          "metadata": {
            "needs_background": "light"
          }
        }
      ]
    },
    {
      "cell_type": "markdown",
      "metadata": {
        "id": "9Uf4FAGBTvVP"
      },
      "source": [
        "- x축의 오른쪽으로 갈수록 배급 영화 개수가 많다. x가 20 이상인 6개의 점들은 배급 영화수 Top6 배급사들을 뜻한다.\n",
        "- 그래프에서 약간 우상향인 회귀 곡선을 볼 수 있지만 큰 관계가 없다고 볼 수 있다. 배급하는 영화 개수가 많은 배급사가 무조건 평균 관람객 수도 높은 것은 아니다."
      ]
    },
    {
      "cell_type": "code",
      "metadata": {
        "colab": {
          "base_uri": "https://localhost:8080/",
          "height": 588
        },
        "id": "BB9AzW7pUe08",
        "outputId": "21c0bc2c-d266-4ce6-f2e7-5ca066c7013e"
      },
      "source": [
        "# 배급사별 주연배우 수, 스태프 비교\n",
        "\n",
        "ax1 = plt.subplots()\n",
        "ax1 = sns.regplot(x='num', y='actor', data=dist_df)\n",
        "ax1.set_title('배급사별 평균 주연배우 수')\n",
        "ax1.set_xlabel('배급사별 배급 영화 개수')\n",
        "ax1.set_ylabel('평균 주연 배우 수')\n",
        "\n",
        "ax2 = plt.subplots()\n",
        "ax2 = sns.regplot(x='num', y='staff', data=dist_df)\n",
        "ax2.set_title('배급사별 평균 스탭 수')\n",
        "ax2.set_xlabel('배급사별 배급 영화 개수')\n",
        "ax2.set_ylabel('평균 스탭 수')"
      ],
      "execution_count": 59,
      "outputs": [
        {
          "output_type": "execute_result",
          "data": {
            "text/plain": [
              "Text(0, 0.5, '평균 스탭 수')"
            ]
          },
          "metadata": {},
          "execution_count": 59
        },
        {
          "output_type": "display_data",
          "data": {
            "image/png": "[encoded data removed]",
            "text/plain": [
              "<Figure size 432x288 with 1 Axes>"
            ]
          },
          "metadata": {
            "needs_background": "light"
          }
        },
        {
          "output_type": "display_data",
          "data": {
            "image/png": "[encoded data removed]",
            "text/plain": [
              "<Figure size 432x288 with 1 Axes>"
            ]
          },
          "metadata": {
            "needs_background": "light"
          }
        }
      ]
    },
    {
      "cell_type": "markdown",
      "metadata": {
        "id": "89PW73OpV0A6"
      },
      "source": [
        "- x축의 오른쪽으로 갈수록 배급 영화 개수가 많다. x가 20 이상인 6개의 점들은 배급 영화수 Top6 배급사들을 뜻한다.\n",
        "- 주연배우 수는 배급사에 관계 없이 다양하다. Top6 배급사의 평균 주연배우 수가 약 4명인 것을 볼 때, Top6 배급사들은 주연배우는 4명 정도를 선호한다는 것을 알 수 있다.\n",
        "- 배급사별 스탭 수는 그래프에서 약간의 우상향 회귀 곡선을 띄고 있지만 점의 위치들을 통해 큰 관계가 있다고는 볼 수 없고 매우 다양하다. Top2 배급사들은 평균 스탭 수가 많은 편이라고 할 수 있다."
      ]
    },
    {
      "cell_type": "code",
      "metadata": {
        "colab": {
          "base_uri": "https://localhost:8080/",
          "height": 588
        },
        "id": "9TyL-YW1WoDz",
        "outputId": "a5a9a94d-a06b-4e82-b26d-9941665051d6"
      },
      "source": [
        "# 배급사는 어떤 감독을 선호하는가 (감독의 이전 영화 개수, 관객수)\n",
        "\n",
        "ax1 = plt.subplots()\n",
        "ax1 = sns.regplot(x='num', y='prev_num', data=dist_df)\n",
        "ax1.set_title('배급사별 감독의 평균 이전 영화 개수')\n",
        "ax1.set_xlabel('배급사별 배급 영화 개수')\n",
        "ax1.set_ylabel('감독들의 평균 이전 영화 개수')\n",
        "\n",
        "ax2 = plt.subplots()\n",
        "ax2 = sns.regplot(x='num', y='prev_bf', data=dist_df)\n",
        "ax2.set_title('배급사별 감독의 평균 이전 영화 관객수')\n",
        "ax2.set_xlabel('배급사별 배급 영화 개수')\n",
        "ax2.set_ylabel('감독들의 평균 이전 영화 관객수')"
      ],
      "execution_count": 60,
      "outputs": [
        {
          "output_type": "execute_result",
          "data": {
            "text/plain": [
              "Text(0, 0.5, '감독들의 평균 이전 영화 관객수')"
            ]
          },
          "metadata": {},
          "execution_count": 60
        },
        {
          "output_type": "display_data",
          "data": {
            "image/png": "[encoded data removed]",
            "text/plain": [
              "<Figure size 432x288 with 1 Axes>"
            ]
          },
          "metadata": {
            "needs_background": "light"
          }
        },
        {
          "output_type": "display_data",
          "data": {
            "image/png": "[encoded data removed]",
            "text/plain": [
              "<Figure size 432x288 with 1 Axes>"
            ]
          },
          "metadata": {
            "needs_background": "light"
          }
        }
      ]
    },
    {
      "cell_type": "markdown",
      "metadata": {
        "id": "p4E31StdXO6U"
      },
      "source": [
        "- x축의 오른쪽으로 갈수록 배급 영화 개수가 많다. x가 20 이상인 6개의 점들은 배급 영화수 Top6 배급사들을 뜻한다.\n",
        "- 감독들의 이전 영화 개수는 평균적으로 0개에서 3개까지 나타난다. 그래프에서 약간의 우상향 회귀선을 띄지만 점들의 위치가 매우 다양하다. Top6 배급사들의 위치도 다양하다. 따라서 감독의 이전 제작 영화 개수는 배급사의 영화 배급 여부에 조금은 영향을 줄 수 있지만 그 영향이 크지 않다고 볼 수 있다. \n",
        "- 감독들의 이전 영화의 평균 관객수 그래프는 어느 배급사이건 별 차이가 없다.따라서 감독들의 이전 영화 평균 관객수는 배급사의 배급 여부에 영향을 끼치는 요인이라고 할 수 없다.  "
      ]
    },
    {
      "cell_type": "markdown",
      "metadata": {
        "id": "_Aij_5FLONOO"
      },
      "source": [
        "### 4) 이외의 분석"
      ]
    },
    {
      "cell_type": "code",
      "metadata": {
        "colab": {
          "base_uri": "https://localhost:8080/",
          "height": 312
        },
        "id": "r1eT6_uc-3-M",
        "outputId": "8f5481d3-2c83-48ac-ce5f-8fee1397f813"
      },
      "source": [
        "# 주연배우 수와 스탭 수의 관계\n",
        "ax = plt.subplots()\n",
        "ax = sns.regplot(train['num_actor'], train['num_staff'])\n",
        "ax.set_title('주연배우 수와 스탭 수의 산점도')\n",
        "ax.set_xlabel('주연배우 수')\n",
        "ax.set_ylabel('스탭 수')"
      ],
      "execution_count": 38,
      "outputs": [
        {
          "output_type": "execute_result",
          "data": {
            "text/plain": [
              "Text(0, 0.5, '스탭 수')"
            ]
          },
          "metadata": {},
          "execution_count": 38
        },
        {
          "output_type": "display_data",
          "data": {
            "image/png": "[encoded data removed]",
            "text/plain": [
              "<Figure size 432x288 with 1 Axes>"
            ]
          },
          "metadata": {
            "needs_background": "light"
          }
        }
      ]
    },
    {
      "cell_type": "markdown",
      "metadata": {
        "id": "_EifTXwbNxPT"
      },
      "source": [
        "- 위 그래프에선 아주 약간의 우상향 회귀선이 나타난다. 주연배우의 수와 스탭 수 사이에는 특정한 관계가 없다고 볼 수 있다."
      ]
    },
    {
      "cell_type": "code",
      "metadata": {
        "colab": {
          "base_uri": "https://localhost:8080/",
          "height": 312
        },
        "id": "_YY9lmzlDQ2r",
        "outputId": "80dd338e-d334-46b3-e92c-31afad71730b"
      },
      "source": [
        "# 이전 제작 영화에서의 평균 관객수가 높은 감독은 다음 영화의 관객수도 많을까?\n",
        "ax = plt.subplots()\n",
        "ax = sns.regplot(train['dir_prev_bfnum'], train['box_off_num'])\n",
        "ax.set_title('감독의 이전 평균 관객수와 다음 영화의 관객수 산점도')\n",
        "ax.set_xlabel('이전 영화의 평균 관객수')\n",
        "ax.set_ylabel('다음 영화의 관객수')"
      ],
      "execution_count": 40,
      "outputs": [
        {
          "output_type": "execute_result",
          "data": {
            "text/plain": [
              "Text(0, 0.5, '다음 영화의 관객수')"
            ]
          },
          "metadata": {},
          "execution_count": 40
        },
        {
          "output_type": "display_data",
          "data": {
            "image/png": "[encoded data removed]",
            "text/plain": [
              "<Figure size 432x288 with 1 Axes>"
            ]
          },
          "metadata": {
            "needs_background": "light"
          }
        }
      ]
    },
    {
      "cell_type": "markdown",
      "metadata": {
        "id": "5SnciBFNOhu_"
      },
      "source": [
        "- 위 그래프에서 x=0인 값들은 이전 영화가 없는 신인 감독들의 데이터이다. 따라서 해당 데이터들은 고려에서 제외한다.\n",
        "- 회귀곡선은 약간 우상향이지만, 점들의 위치를 봤을 때 이전 평균 관객수와 다음 영화의 관객수가 비례한다고 말할 수 없다. "
      ]
    }
  ]
}