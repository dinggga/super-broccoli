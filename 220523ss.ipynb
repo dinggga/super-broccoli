{
  "nbformat": 4,
  "nbformat_minor": 0,
  "metadata": {
    "colab": {
      "name": "220523ss.ipynb",
      "provenance": [],
      "mount_file_id": "1PVf-U6TlhYDhbHu0h8IJxO9ixUk7vyoG",
      "authorship_tag": "ABX9TyMggCWbEKFNYAsxrBNuPjac",
      "include_colab_link": true
    },
    "kernelspec": {
      "name": "python3",
      "display_name": "Python 3"
    },
    "language_info": {
      "name": "python"
    }
  },
  "cells": [
    {
      "cell_type": "markdown",
      "metadata": {
        "id": "view-in-github",
        "colab_type": "text"
      },
      "source": [
        "<a href=\"https://colab.research.google.com/github/dinggga/super-broccoli/blob/main/220523ss.ipynb\" target=\"_parent\"><img src=\"https://colab.research.google.com/assets/colab-badge.svg\" alt=\"Open In Colab\"/></a>"
      ]
    },
    {
      "cell_type": "code",
      "execution_count": 1,
      "metadata": {
        "id": "y9l2F_4h3_Fj"
      },
      "outputs": [],
      "source": [
        "import numpy as np # linear algebra\n",
        "import pandas as pd # data processing, CSV file I/O (e.g. pd.read_csv)\n",
        "import warnings; warnings.simplefilter('ignore')"
      ]
    },
    {
      "cell_type": "code",
      "source": [
        "electronics_data = pd.read_csv(\"/content/drive/MyDrive/ESAA_OB/220516M/ratings_Electronics.csv\",names=['userId', 'productId','Rating','timestamp'])"
      ],
      "metadata": {
        "id": "61LlHiAk4JGt"
      },
      "execution_count": 4,
      "outputs": []
    },
    {
      "cell_type": "code",
      "source": [
        "eletronics_data = electronics_data.iloc[:1048576,0:]"
      ],
      "metadata": {
        "id": "HmOXacl04StR"
      },
      "execution_count": 5,
      "outputs": []
    },
    {
      "cell_type": "code",
      "source": [
        "eletronics_data.drop(['timestamp'],axis = 1, inplace = True)"
      ],
      "metadata": {
        "id": "X2pZSit24buD"
      },
      "execution_count": 6,
      "outputs": []
    },
    {
      "cell_type": "code",
      "source": [
        "#평가가 50번 이상 된 상품들을 가져옴\n",
        "new_df=electronics_data.groupby(\"productId\").filter(lambda x:x['Rating'].count() >=50)"
      ],
      "metadata": {
        "id": "_MgvS5WB4mpj"
      },
      "execution_count": 7,
      "outputs": []
    },
    {
      "cell_type": "code",
      "source": [
        "!pip3 install surprise"
      ],
      "metadata": {
        "colab": {
          "base_uri": "https://localhost:8080/"
        },
        "id": "5hP0yVv85A9J",
        "outputId": "49ed9301-6164-4bbf-a56b-a75dda8a20e0"
      },
      "execution_count": 8,
      "outputs": [
        {
          "output_type": "stream",
          "name": "stdout",
          "text": [
            "Requirement already satisfied: surprise in /usr/local/lib/python3.7/dist-packages (0.1)\n",
            "Requirement already satisfied: scikit-surprise in /usr/local/lib/python3.7/dist-packages (from surprise) (1.1.1)\n",
            "Requirement already satisfied: numpy>=1.11.2 in /usr/local/lib/python3.7/dist-packages (from scikit-surprise->surprise) (1.21.6)\n",
            "Requirement already satisfied: joblib>=0.11 in /usr/local/lib/python3.7/dist-packages (from scikit-surprise->surprise) (1.1.0)\n",
            "Requirement already satisfied: scipy>=1.0.0 in /usr/local/lib/python3.7/dist-packages (from scikit-surprise->surprise) (1.4.1)\n",
            "Requirement already satisfied: six>=1.10.0 in /usr/local/lib/python3.7/dist-packages (from scikit-surprise->surprise) (1.15.0)\n"
          ]
        }
      ]
    },
    {
      "cell_type": "code",
      "source": [
        "from surprise import KNNWithMeans\n",
        "from surprise import Dataset\n",
        "from surprise import accuracy\n",
        "from surprise import Reader\n",
        "import os\n",
        "from surprise.model_selection import train_test_split"
      ],
      "metadata": {
        "id": "vFw4L90z5CS5"
      },
      "execution_count": 9,
      "outputs": []
    },
    {
      "cell_type": "code",
      "source": [
        "new_df.drop(['timestamp'],axis = 1, inplace = True)"
      ],
      "metadata": {
        "id": "l-qwbo6K5EK4"
      },
      "execution_count": 10,
      "outputs": []
    },
    {
      "cell_type": "code",
      "source": [
        "reader = Reader(rating_scale=(1,5))\n",
        "data = Dataset.load_from_df(new_df,reader)"
      ],
      "metadata": {
        "id": "jPm_jPIp5GGL"
      },
      "execution_count": 11,
      "outputs": []
    },
    {
      "cell_type": "code",
      "source": [
        "trainset, testset = train_test_split(data, test_size = 0.3, random_state=10)"
      ],
      "metadata": {
        "id": "PjUnhD855H7B"
      },
      "execution_count": 12,
      "outputs": []
    },
    {
      "cell_type": "code",
      "source": [
        "algo = KNNWithMeans(k=5, sim_options = {'name': 'pearson_baseline', 'user_based':False})\n",
        "algo.fit(trainset)"
      ],
      "metadata": {
        "colab": {
          "base_uri": "https://localhost:8080/"
        },
        "id": "1fqlWUtN5JxU",
        "outputId": "7967ec48-1e5c-41f5-ed27-5aa6d8fda0e9"
      },
      "execution_count": null,
      "outputs": [
        {
          "output_type": "stream",
          "name": "stdout",
          "text": [
            "Estimating biases using als...\n",
            "Computing the pearson_baseline similarity matrix...\n"
          ]
        }
      ]
    },
    {
      "cell_type": "code",
      "source": [
        "test_pred = algo.test(testset)"
      ],
      "metadata": {
        "id": "-mz_V1Il5LEG"
      },
      "execution_count": null,
      "outputs": []
    },
    {
      "cell_type": "code",
      "source": [
        "print(\"Item-based Model : Test Set\")\n",
        "accuracy.rmse(test_pred, verbose=True)"
      ],
      "metadata": {
        "id": "VAgDCR7y5Mfy"
      },
      "execution_count": null,
      "outputs": []
    },
    {
      "cell_type": "markdown",
      "source": [
        "안돼 안된다고"
      ],
      "metadata": {
        "id": "yyxTK0p6ey8I"
      }
    },
    {
      "cell_type": "code",
      "source": [
        "new_df1 = new_df.head(10000)\n",
        "ratings_matrix = new_df1.pivot_table(values ='Rating', index ='userId', columns ='productId',fill_value =0)\n",
        "ratings_matrix.head()"
      ],
      "metadata": {
        "id": "oXOCYdKH5OJt",
        "colab": {
          "base_uri": "https://localhost:8080/",
          "height": 331
        },
        "outputId": "40611294-ad92-459c-ff12-505c0e32e9a0"
      },
      "execution_count": 13,
      "outputs": [
        {
          "output_type": "execute_result",
          "data": {
            "text/plain": [
              "productId              0972683275  1400501466  1400501520  1400501776  \\\n",
              "userId                                                                  \n",
              "A01852072Z7B68UHLI5UG           0           0           0           0   \n",
              "A0266076X6KPZ6CCHGVS            0           0           0           0   \n",
              "A0293130VTX2ZXA70JQS            5           0           0           0   \n",
              "A030530627MK66BD8V4LN           4           0           0           0   \n",
              "A0571176384K8RBNKGF8O           0           0           0           0   \n",
              "\n",
              "productId              1400532620  1400532655  140053271X  1400532736  \\\n",
              "userId                                                                  \n",
              "A01852072Z7B68UHLI5UG           0           0           0           0   \n",
              "A0266076X6KPZ6CCHGVS            0           0           0           0   \n",
              "A0293130VTX2ZXA70JQS            0           0           0           0   \n",
              "A030530627MK66BD8V4LN           0           0           0           0   \n",
              "A0571176384K8RBNKGF8O           0           0           0           0   \n",
              "\n",
              "productId              1400599997  1400698987  ...  B00000JFMK  B00000JHWX  \\\n",
              "userId                                         ...                           \n",
              "A01852072Z7B68UHLI5UG           0           0  ...           0           0   \n",
              "A0266076X6KPZ6CCHGVS            0           0  ...           0           0   \n",
              "A0293130VTX2ZXA70JQS            0           0  ...           0           0   \n",
              "A030530627MK66BD8V4LN           0           0  ...           0           0   \n",
              "A0571176384K8RBNKGF8O           0           0  ...           0           0   \n",
              "\n",
              "productId              B00000JI4F  B00000JII6  B00000JMUG  B00000JPPI  \\\n",
              "userId                                                                  \n",
              "A01852072Z7B68UHLI5UG           0           0           0           0   \n",
              "A0266076X6KPZ6CCHGVS            0           0           0           0   \n",
              "A0293130VTX2ZXA70JQS            0           0           0           0   \n",
              "A030530627MK66BD8V4LN           0           0           0           0   \n",
              "A0571176384K8RBNKGF8O           0           0           0           0   \n",
              "\n",
              "productId              B00000JSGF  B00000JYLO  B00000JYWQ  B00000K135  \n",
              "userId                                                                 \n",
              "A01852072Z7B68UHLI5UG           0           0           0           0  \n",
              "A0266076X6KPZ6CCHGVS            0           0           0           0  \n",
              "A0293130VTX2ZXA70JQS            0           0           0           0  \n",
              "A030530627MK66BD8V4LN           0           0           0           0  \n",
              "A0571176384K8RBNKGF8O           0           0           0           0  \n",
              "\n",
              "[5 rows x 76 columns]"
            ],
            "text/html": [
              "\n",
              "  <div id=\"df-f083e9ac-ca7f-426e-a6a5-079d0966d74e\">\n",
              "    <div class=\"colab-df-container\">\n",
              "      <div>\n",
              "<style scoped>\n",
              "    .dataframe tbody tr th:only-of-type {\n",
              "        vertical-align: middle;\n",
              "    }\n",
              "\n",
              "    .dataframe tbody tr th {\n",
              "        vertical-align: top;\n",
              "    }\n",
              "\n",
              "    .dataframe thead th {\n",
              "        text-align: right;\n",
              "    }\n",
              "</style>\n",
              "<table border=\"1\" class=\"dataframe\">\n",
              "  <thead>\n",
              "    <tr style=\"text-align: right;\">\n",
              "      <th>productId</th>\n",
              "      <th>0972683275</th>\n",
              "      <th>1400501466</th>\n",
              "      <th>1400501520</th>\n",
              "      <th>1400501776</th>\n",
              "      <th>1400532620</th>\n",
              "      <th>1400532655</th>\n",
              "      <th>140053271X</th>\n",
              "      <th>1400532736</th>\n",
              "      <th>1400599997</th>\n",
              "      <th>1400698987</th>\n",
              "      <th>...</th>\n",
              "      <th>B00000JFMK</th>\n",
              "      <th>B00000JHWX</th>\n",
              "      <th>B00000JI4F</th>\n",
              "      <th>B00000JII6</th>\n",
              "      <th>B00000JMUG</th>\n",
              "      <th>B00000JPPI</th>\n",
              "      <th>B00000JSGF</th>\n",
              "      <th>B00000JYLO</th>\n",
              "      <th>B00000JYWQ</th>\n",
              "      <th>B00000K135</th>\n",
              "    </tr>\n",
              "    <tr>\n",
              "      <th>userId</th>\n",
              "      <th></th>\n",
              "      <th></th>\n",
              "      <th></th>\n",
              "      <th></th>\n",
              "      <th></th>\n",
              "      <th></th>\n",
              "      <th></th>\n",
              "      <th></th>\n",
              "      <th></th>\n",
              "      <th></th>\n",
              "      <th></th>\n",
              "      <th></th>\n",
              "      <th></th>\n",
              "      <th></th>\n",
              "      <th></th>\n",
              "      <th></th>\n",
              "      <th></th>\n",
              "      <th></th>\n",
              "      <th></th>\n",
              "      <th></th>\n",
              "      <th></th>\n",
              "    </tr>\n",
              "  </thead>\n",
              "  <tbody>\n",
              "    <tr>\n",
              "      <th>A01852072Z7B68UHLI5UG</th>\n",
              "      <td>0</td>\n",
              "      <td>0</td>\n",
              "      <td>0</td>\n",
              "      <td>0</td>\n",
              "      <td>0</td>\n",
              "      <td>0</td>\n",
              "      <td>0</td>\n",
              "      <td>0</td>\n",
              "      <td>0</td>\n",
              "      <td>0</td>\n",
              "      <td>...</td>\n",
              "      <td>0</td>\n",
              "      <td>0</td>\n",
              "      <td>0</td>\n",
              "      <td>0</td>\n",
              "      <td>0</td>\n",
              "      <td>0</td>\n",
              "      <td>0</td>\n",
              "      <td>0</td>\n",
              "      <td>0</td>\n",
              "      <td>0</td>\n",
              "    </tr>\n",
              "    <tr>\n",
              "      <th>A0266076X6KPZ6CCHGVS</th>\n",
              "      <td>0</td>\n",
              "      <td>0</td>\n",
              "      <td>0</td>\n",
              "      <td>0</td>\n",
              "      <td>0</td>\n",
              "      <td>0</td>\n",
              "      <td>0</td>\n",
              "      <td>0</td>\n",
              "      <td>0</td>\n",
              "      <td>0</td>\n",
              "      <td>...</td>\n",
              "      <td>0</td>\n",
              "      <td>0</td>\n",
              "      <td>0</td>\n",
              "      <td>0</td>\n",
              "      <td>0</td>\n",
              "      <td>0</td>\n",
              "      <td>0</td>\n",
              "      <td>0</td>\n",
              "      <td>0</td>\n",
              "      <td>0</td>\n",
              "    </tr>\n",
              "    <tr>\n",
              "      <th>A0293130VTX2ZXA70JQS</th>\n",
              "      <td>5</td>\n",
              "      <td>0</td>\n",
              "      <td>0</td>\n",
              "      <td>0</td>\n",
              "      <td>0</td>\n",
              "      <td>0</td>\n",
              "      <td>0</td>\n",
              "      <td>0</td>\n",
              "      <td>0</td>\n",
              "      <td>0</td>\n",
              "      <td>...</td>\n",
              "      <td>0</td>\n",
              "      <td>0</td>\n",
              "      <td>0</td>\n",
              "      <td>0</td>\n",
              "      <td>0</td>\n",
              "      <td>0</td>\n",
              "      <td>0</td>\n",
              "      <td>0</td>\n",
              "      <td>0</td>\n",
              "      <td>0</td>\n",
              "    </tr>\n",
              "    <tr>\n",
              "      <th>A030530627MK66BD8V4LN</th>\n",
              "      <td>4</td>\n",
              "      <td>0</td>\n",
              "      <td>0</td>\n",
              "      <td>0</td>\n",
              "      <td>0</td>\n",
              "      <td>0</td>\n",
              "      <td>0</td>\n",
              "      <td>0</td>\n",
              "      <td>0</td>\n",
              "      <td>0</td>\n",
              "      <td>...</td>\n",
              "      <td>0</td>\n",
              "      <td>0</td>\n",
              "      <td>0</td>\n",
              "      <td>0</td>\n",
              "      <td>0</td>\n",
              "      <td>0</td>\n",
              "      <td>0</td>\n",
              "      <td>0</td>\n",
              "      <td>0</td>\n",
              "      <td>0</td>\n",
              "    </tr>\n",
              "    <tr>\n",
              "      <th>A0571176384K8RBNKGF8O</th>\n",
              "      <td>0</td>\n",
              "      <td>0</td>\n",
              "      <td>0</td>\n",
              "      <td>0</td>\n",
              "      <td>0</td>\n",
              "      <td>0</td>\n",
              "      <td>0</td>\n",
              "      <td>0</td>\n",
              "      <td>0</td>\n",
              "      <td>0</td>\n",
              "      <td>...</td>\n",
              "      <td>0</td>\n",
              "      <td>0</td>\n",
              "      <td>0</td>\n",
              "      <td>0</td>\n",
              "      <td>0</td>\n",
              "      <td>0</td>\n",
              "      <td>0</td>\n",
              "      <td>0</td>\n",
              "      <td>0</td>\n",
              "      <td>0</td>\n",
              "    </tr>\n",
              "  </tbody>\n",
              "</table>\n",
              "<p>5 rows × 76 columns</p>\n",
              "</div>\n",
              "      <button class=\"colab-df-convert\" onclick=\"convertToInteractive('df-f083e9ac-ca7f-426e-a6a5-079d0966d74e')\"\n",
              "              title=\"Convert this dataframe to an interactive table.\"\n",
              "              style=\"display:none;\">\n",
              "        \n",
              "  <svg xmlns=\"http://www.w3.org/2000/svg\" height=\"24px\"viewBox=\"0 0 24 24\"\n",
              "       width=\"24px\">\n",
              "    <path d=\"M0 0h24v24H0V0z\" fill=\"none\"/>\n",
              "    <path d=\"M18.56 5.44l.94 2.06.94-2.06 2.06-.94-2.06-.94-.94-2.06-.94 2.06-2.06.94zm-11 1L8.5 8.5l.94-2.06 2.06-.94-2.06-.94L8.5 2.5l-.94 2.06-2.06.94zm10 10l.94 2.06.94-2.06 2.06-.94-2.06-.94-.94-2.06-.94 2.06-2.06.94z\"/><path d=\"M17.41 7.96l-1.37-1.37c-.4-.4-.92-.59-1.43-.59-.52 0-1.04.2-1.43.59L10.3 9.45l-7.72 7.72c-.78.78-.78 2.05 0 2.83L4 21.41c.39.39.9.59 1.41.59.51 0 1.02-.2 1.41-.59l7.78-7.78 2.81-2.81c.8-.78.8-2.07 0-2.86zM5.41 20L4 18.59l7.72-7.72 1.47 1.35L5.41 20z\"/>\n",
              "  </svg>\n",
              "      </button>\n",
              "      \n",
              "  <style>\n",
              "    .colab-df-container {\n",
              "      display:flex;\n",
              "      flex-wrap:wrap;\n",
              "      gap: 12px;\n",
              "    }\n",
              "\n",
              "    .colab-df-convert {\n",
              "      background-color: #E8F0FE;\n",
              "      border: none;\n",
              "      border-radius: 50%;\n",
              "      cursor: pointer;\n",
              "      display: none;\n",
              "      fill: #1967D2;\n",
              "      height: 32px;\n",
              "      padding: 0 0 0 0;\n",
              "      width: 32px;\n",
              "    }\n",
              "\n",
              "    .colab-df-convert:hover {\n",
              "      background-color: #E2EBFA;\n",
              "      box-shadow: 0px 1px 2px rgba(60, 64, 67, 0.3), 0px 1px 3px 1px rgba(60, 64, 67, 0.15);\n",
              "      fill: #174EA6;\n",
              "    }\n",
              "\n",
              "    [theme=dark] .colab-df-convert {\n",
              "      background-color: #3B4455;\n",
              "      fill: #D2E3FC;\n",
              "    }\n",
              "\n",
              "    [theme=dark] .colab-df-convert:hover {\n",
              "      background-color: #434B5C;\n",
              "      box-shadow: 0px 1px 3px 1px rgba(0, 0, 0, 0.15);\n",
              "      filter: drop-shadow(0px 1px 2px rgba(0, 0, 0, 0.3));\n",
              "      fill: #FFFFFF;\n",
              "    }\n",
              "  </style>\n",
              "\n",
              "      <script>\n",
              "        const buttonEl =\n",
              "          document.querySelector('#df-f083e9ac-ca7f-426e-a6a5-079d0966d74e button.colab-df-convert');\n",
              "        buttonEl.style.display =\n",
              "          google.colab.kernel.accessAllowed ? 'block' : 'none';\n",
              "\n",
              "        async function convertToInteractive(key) {\n",
              "          const element = document.querySelector('#df-f083e9ac-ca7f-426e-a6a5-079d0966d74e');\n",
              "          const dataTable =\n",
              "            await google.colab.kernel.invokeFunction('convertToInteractive',\n",
              "                                                     [key], {});\n",
              "          if (!dataTable) return;\n",
              "\n",
              "          const docLinkHtml = 'Like what you see? Visit the ' +\n",
              "            '<a target=\"_blank\" href=https://colab.research.google.com/notebooks/data_table.ipynb>data table notebook</a>'\n",
              "            + ' to learn more about interactive tables.';\n",
              "          element.innerHTML = '';\n",
              "          dataTable['output_type'] = 'display_data';\n",
              "          await google.colab.output.renderOutput(dataTable, element);\n",
              "          const docLink = document.createElement('div');\n",
              "          docLink.innerHTML = docLinkHtml;\n",
              "          element.appendChild(docLink);\n",
              "        }\n",
              "      </script>\n",
              "    </div>\n",
              "  </div>\n",
              "  "
            ]
          },
          "metadata": {},
          "execution_count": 13
        }
      ]
    },
    {
      "cell_type": "code",
      "source": [
        "ratings_matrix.shape"
      ],
      "metadata": {
        "id": "nyO_-gs55RkB",
        "colab": {
          "base_uri": "https://localhost:8080/"
        },
        "outputId": "1d76ddbf-5f0f-49ec-e21d-af90948b4be8"
      },
      "execution_count": 14,
      "outputs": [
        {
          "output_type": "execute_result",
          "data": {
            "text/plain": [
              "(9832, 76)"
            ]
          },
          "metadata": {},
          "execution_count": 14
        }
      ]
    },
    {
      "cell_type": "code",
      "source": [
        "X = ratings_matrix.T\n",
        "X.head()"
      ],
      "metadata": {
        "id": "JF6a4Kgo5Ssn",
        "colab": {
          "base_uri": "https://localhost:8080/",
          "height": 331
        },
        "outputId": "2bb084c6-c44a-4cae-937f-2457dd52f159"
      },
      "execution_count": 15,
      "outputs": [
        {
          "output_type": "execute_result",
          "data": {
            "text/plain": [
              "userId      A01852072Z7B68UHLI5UG  A0266076X6KPZ6CCHGVS  A0293130VTX2ZXA70JQS  \\\n",
              "productId                                                                       \n",
              "0972683275                      0                     0                     5   \n",
              "1400501466                      0                     0                     0   \n",
              "1400501520                      0                     0                     0   \n",
              "1400501776                      0                     0                     0   \n",
              "1400532620                      0                     0                     0   \n",
              "\n",
              "userId      A030530627MK66BD8V4LN  A0571176384K8RBNKGF8O  \\\n",
              "productId                                                  \n",
              "0972683275                      4                      0   \n",
              "1400501466                      0                      0   \n",
              "1400501520                      0                      0   \n",
              "1400501776                      0                      0   \n",
              "1400532620                      0                      0   \n",
              "\n",
              "userId      A0590501PZ7HOWJKBGQ4  A0641581307AKT5MAOU0Q  \\\n",
              "productId                                                 \n",
              "0972683275                     0                      0   \n",
              "1400501466                     0                      0   \n",
              "1400501520                     0                      0   \n",
              "1400501776                     0                      0   \n",
              "1400532620                     0                      0   \n",
              "\n",
              "userId      A076219533YHEV2LJO988  A0821988FXKFYX53V4QG  \\\n",
              "productId                                                 \n",
              "0972683275                      0                     0   \n",
              "1400501466                      0                     0   \n",
              "1400501520                      0                     0   \n",
              "1400501776                      0                     0   \n",
              "1400532620                      0                     0   \n",
              "\n",
              "userId      A099626739FNCRNHIKBCG  ...  AZWOPBY75SGAM  AZX0ZDVAFMN78  \\\n",
              "productId                          ...                                 \n",
              "0972683275                      0  ...              0              0   \n",
              "1400501466                      0  ...              0              0   \n",
              "1400501520                      3  ...              0              0   \n",
              "1400501776                      0  ...              0              0   \n",
              "1400532620                      0  ...              0              0   \n",
              "\n",
              "userId      AZX5LAN9JEAFF  AZX7I110AF0W2  AZXKUK895VGSM  AZXP46IB63PU8  \\\n",
              "productId                                                                \n",
              "0972683275              0              0              0              0   \n",
              "1400501466              0              0              0              0   \n",
              "1400501520              0              0              0              0   \n",
              "1400501776              0              0              0              0   \n",
              "1400532620              0              0              0              0   \n",
              "\n",
              "userId      AZYTSU42BZ7TP  AZZGJ2KMWB7R  AZZMV5VT9W7Y8  AZZST8OYL5P4Q  \n",
              "productId                                                              \n",
              "0972683275              0             0              0              0  \n",
              "1400501466              0             0              0              0  \n",
              "1400501520              0             0              0              0  \n",
              "1400501776              0             0              1              0  \n",
              "1400532620              0             0              0              0  \n",
              "\n",
              "[5 rows x 9832 columns]"
            ],
            "text/html": [
              "\n",
              "  <div id=\"df-13ca1c1d-1214-498f-9713-2cb57bd89579\">\n",
              "    <div class=\"colab-df-container\">\n",
              "      <div>\n",
              "<style scoped>\n",
              "    .dataframe tbody tr th:only-of-type {\n",
              "        vertical-align: middle;\n",
              "    }\n",
              "\n",
              "    .dataframe tbody tr th {\n",
              "        vertical-align: top;\n",
              "    }\n",
              "\n",
              "    .dataframe thead th {\n",
              "        text-align: right;\n",
              "    }\n",
              "</style>\n",
              "<table border=\"1\" class=\"dataframe\">\n",
              "  <thead>\n",
              "    <tr style=\"text-align: right;\">\n",
              "      <th>userId</th>\n",
              "      <th>A01852072Z7B68UHLI5UG</th>\n",
              "      <th>A0266076X6KPZ6CCHGVS</th>\n",
              "      <th>A0293130VTX2ZXA70JQS</th>\n",
              "      <th>A030530627MK66BD8V4LN</th>\n",
              "      <th>A0571176384K8RBNKGF8O</th>\n",
              "      <th>A0590501PZ7HOWJKBGQ4</th>\n",
              "      <th>A0641581307AKT5MAOU0Q</th>\n",
              "      <th>A076219533YHEV2LJO988</th>\n",
              "      <th>A0821988FXKFYX53V4QG</th>\n",
              "      <th>A099626739FNCRNHIKBCG</th>\n",
              "      <th>...</th>\n",
              "      <th>AZWOPBY75SGAM</th>\n",
              "      <th>AZX0ZDVAFMN78</th>\n",
              "      <th>AZX5LAN9JEAFF</th>\n",
              "      <th>AZX7I110AF0W2</th>\n",
              "      <th>AZXKUK895VGSM</th>\n",
              "      <th>AZXP46IB63PU8</th>\n",
              "      <th>AZYTSU42BZ7TP</th>\n",
              "      <th>AZZGJ2KMWB7R</th>\n",
              "      <th>AZZMV5VT9W7Y8</th>\n",
              "      <th>AZZST8OYL5P4Q</th>\n",
              "    </tr>\n",
              "    <tr>\n",
              "      <th>productId</th>\n",
              "      <th></th>\n",
              "      <th></th>\n",
              "      <th></th>\n",
              "      <th></th>\n",
              "      <th></th>\n",
              "      <th></th>\n",
              "      <th></th>\n",
              "      <th></th>\n",
              "      <th></th>\n",
              "      <th></th>\n",
              "      <th></th>\n",
              "      <th></th>\n",
              "      <th></th>\n",
              "      <th></th>\n",
              "      <th></th>\n",
              "      <th></th>\n",
              "      <th></th>\n",
              "      <th></th>\n",
              "      <th></th>\n",
              "      <th></th>\n",
              "      <th></th>\n",
              "    </tr>\n",
              "  </thead>\n",
              "  <tbody>\n",
              "    <tr>\n",
              "      <th>0972683275</th>\n",
              "      <td>0</td>\n",
              "      <td>0</td>\n",
              "      <td>5</td>\n",
              "      <td>4</td>\n",
              "      <td>0</td>\n",
              "      <td>0</td>\n",
              "      <td>0</td>\n",
              "      <td>0</td>\n",
              "      <td>0</td>\n",
              "      <td>0</td>\n",
              "      <td>...</td>\n",
              "      <td>0</td>\n",
              "      <td>0</td>\n",
              "      <td>0</td>\n",
              "      <td>0</td>\n",
              "      <td>0</td>\n",
              "      <td>0</td>\n",
              "      <td>0</td>\n",
              "      <td>0</td>\n",
              "      <td>0</td>\n",
              "      <td>0</td>\n",
              "    </tr>\n",
              "    <tr>\n",
              "      <th>1400501466</th>\n",
              "      <td>0</td>\n",
              "      <td>0</td>\n",
              "      <td>0</td>\n",
              "      <td>0</td>\n",
              "      <td>0</td>\n",
              "      <td>0</td>\n",
              "      <td>0</td>\n",
              "      <td>0</td>\n",
              "      <td>0</td>\n",
              "      <td>0</td>\n",
              "      <td>...</td>\n",
              "      <td>0</td>\n",
              "      <td>0</td>\n",
              "      <td>0</td>\n",
              "      <td>0</td>\n",
              "      <td>0</td>\n",
              "      <td>0</td>\n",
              "      <td>0</td>\n",
              "      <td>0</td>\n",
              "      <td>0</td>\n",
              "      <td>0</td>\n",
              "    </tr>\n",
              "    <tr>\n",
              "      <th>1400501520</th>\n",
              "      <td>0</td>\n",
              "      <td>0</td>\n",
              "      <td>0</td>\n",
              "      <td>0</td>\n",
              "      <td>0</td>\n",
              "      <td>0</td>\n",
              "      <td>0</td>\n",
              "      <td>0</td>\n",
              "      <td>0</td>\n",
              "      <td>3</td>\n",
              "      <td>...</td>\n",
              "      <td>0</td>\n",
              "      <td>0</td>\n",
              "      <td>0</td>\n",
              "      <td>0</td>\n",
              "      <td>0</td>\n",
              "      <td>0</td>\n",
              "      <td>0</td>\n",
              "      <td>0</td>\n",
              "      <td>0</td>\n",
              "      <td>0</td>\n",
              "    </tr>\n",
              "    <tr>\n",
              "      <th>1400501776</th>\n",
              "      <td>0</td>\n",
              "      <td>0</td>\n",
              "      <td>0</td>\n",
              "      <td>0</td>\n",
              "      <td>0</td>\n",
              "      <td>0</td>\n",
              "      <td>0</td>\n",
              "      <td>0</td>\n",
              "      <td>0</td>\n",
              "      <td>0</td>\n",
              "      <td>...</td>\n",
              "      <td>0</td>\n",
              "      <td>0</td>\n",
              "      <td>0</td>\n",
              "      <td>0</td>\n",
              "      <td>0</td>\n",
              "      <td>0</td>\n",
              "      <td>0</td>\n",
              "      <td>0</td>\n",
              "      <td>1</td>\n",
              "      <td>0</td>\n",
              "    </tr>\n",
              "    <tr>\n",
              "      <th>1400532620</th>\n",
              "      <td>0</td>\n",
              "      <td>0</td>\n",
              "      <td>0</td>\n",
              "      <td>0</td>\n",
              "      <td>0</td>\n",
              "      <td>0</td>\n",
              "      <td>0</td>\n",
              "      <td>0</td>\n",
              "      <td>0</td>\n",
              "      <td>0</td>\n",
              "      <td>...</td>\n",
              "      <td>0</td>\n",
              "      <td>0</td>\n",
              "      <td>0</td>\n",
              "      <td>0</td>\n",
              "      <td>0</td>\n",
              "      <td>0</td>\n",
              "      <td>0</td>\n",
              "      <td>0</td>\n",
              "      <td>0</td>\n",
              "      <td>0</td>\n",
              "    </tr>\n",
              "  </tbody>\n",
              "</table>\n",
              "<p>5 rows × 9832 columns</p>\n",
              "</div>\n",
              "      <button class=\"colab-df-convert\" onclick=\"convertToInteractive('df-13ca1c1d-1214-498f-9713-2cb57bd89579')\"\n",
              "              title=\"Convert this dataframe to an interactive table.\"\n",
              "              style=\"display:none;\">\n",
              "        \n",
              "  <svg xmlns=\"http://www.w3.org/2000/svg\" height=\"24px\"viewBox=\"0 0 24 24\"\n",
              "       width=\"24px\">\n",
              "    <path d=\"M0 0h24v24H0V0z\" fill=\"none\"/>\n",
              "    <path d=\"M18.56 5.44l.94 2.06.94-2.06 2.06-.94-2.06-.94-.94-2.06-.94 2.06-2.06.94zm-11 1L8.5 8.5l.94-2.06 2.06-.94-2.06-.94L8.5 2.5l-.94 2.06-2.06.94zm10 10l.94 2.06.94-2.06 2.06-.94-2.06-.94-.94-2.06-.94 2.06-2.06.94z\"/><path d=\"M17.41 7.96l-1.37-1.37c-.4-.4-.92-.59-1.43-.59-.52 0-1.04.2-1.43.59L10.3 9.45l-7.72 7.72c-.78.78-.78 2.05 0 2.83L4 21.41c.39.39.9.59 1.41.59.51 0 1.02-.2 1.41-.59l7.78-7.78 2.81-2.81c.8-.78.8-2.07 0-2.86zM5.41 20L4 18.59l7.72-7.72 1.47 1.35L5.41 20z\"/>\n",
              "  </svg>\n",
              "      </button>\n",
              "      \n",
              "  <style>\n",
              "    .colab-df-container {\n",
              "      display:flex;\n",
              "      flex-wrap:wrap;\n",
              "      gap: 12px;\n",
              "    }\n",
              "\n",
              "    .colab-df-convert {\n",
              "      background-color: #E8F0FE;\n",
              "      border: none;\n",
              "      border-radius: 50%;\n",
              "      cursor: pointer;\n",
              "      display: none;\n",
              "      fill: #1967D2;\n",
              "      height: 32px;\n",
              "      padding: 0 0 0 0;\n",
              "      width: 32px;\n",
              "    }\n",
              "\n",
              "    .colab-df-convert:hover {\n",
              "      background-color: #E2EBFA;\n",
              "      box-shadow: 0px 1px 2px rgba(60, 64, 67, 0.3), 0px 1px 3px 1px rgba(60, 64, 67, 0.15);\n",
              "      fill: #174EA6;\n",
              "    }\n",
              "\n",
              "    [theme=dark] .colab-df-convert {\n",
              "      background-color: #3B4455;\n",
              "      fill: #D2E3FC;\n",
              "    }\n",
              "\n",
              "    [theme=dark] .colab-df-convert:hover {\n",
              "      background-color: #434B5C;\n",
              "      box-shadow: 0px 1px 3px 1px rgba(0, 0, 0, 0.15);\n",
              "      filter: drop-shadow(0px 1px 2px rgba(0, 0, 0, 0.3));\n",
              "      fill: #FFFFFF;\n",
              "    }\n",
              "  </style>\n",
              "\n",
              "      <script>\n",
              "        const buttonEl =\n",
              "          document.querySelector('#df-13ca1c1d-1214-498f-9713-2cb57bd89579 button.colab-df-convert');\n",
              "        buttonEl.style.display =\n",
              "          google.colab.kernel.accessAllowed ? 'block' : 'none';\n",
              "\n",
              "        async function convertToInteractive(key) {\n",
              "          const element = document.querySelector('#df-13ca1c1d-1214-498f-9713-2cb57bd89579');\n",
              "          const dataTable =\n",
              "            await google.colab.kernel.invokeFunction('convertToInteractive',\n",
              "                                                     [key], {});\n",
              "          if (!dataTable) return;\n",
              "\n",
              "          const docLinkHtml = 'Like what you see? Visit the ' +\n",
              "            '<a target=\"_blank\" href=https://colab.research.google.com/notebooks/data_table.ipynb>data table notebook</a>'\n",
              "            + ' to learn more about interactive tables.';\n",
              "          element.innerHTML = '';\n",
              "          dataTable['output_type'] = 'display_data';\n",
              "          await google.colab.output.renderOutput(dataTable, element);\n",
              "          const docLink = document.createElement('div');\n",
              "          docLink.innerHTML = docLinkHtml;\n",
              "          element.appendChild(docLink);\n",
              "        }\n",
              "      </script>\n",
              "    </div>\n",
              "  </div>\n",
              "  "
            ]
          },
          "metadata": {},
          "execution_count": 15
        }
      ]
    },
    {
      "cell_type": "code",
      "source": [
        "X.shape"
      ],
      "metadata": {
        "id": "-1_oCSIr5Ubr",
        "colab": {
          "base_uri": "https://localhost:8080/"
        },
        "outputId": "e3c35c49-aae8-4e9f-9661-8922f72471d0"
      },
      "execution_count": 16,
      "outputs": [
        {
          "output_type": "execute_result",
          "data": {
            "text/plain": [
              "(76, 9832)"
            ]
          },
          "metadata": {},
          "execution_count": 16
        }
      ]
    },
    {
      "cell_type": "code",
      "source": [
        "X.index"
      ],
      "metadata": {
        "id": "OYj1mYgZ5Voj",
        "colab": {
          "base_uri": "https://localhost:8080/"
        },
        "outputId": "c50ee5b7-b95d-4255-aefc-4e310d3e06b5"
      },
      "execution_count": 17,
      "outputs": [
        {
          "output_type": "execute_result",
          "data": {
            "text/plain": [
              "Index(['0972683275', '1400501466', '1400501520', '1400501776', '1400532620',\n",
              "       '1400532655', '140053271X', '1400532736', '1400599997', '1400698987',\n",
              "       '3744295508', '6301977173', '7214047977', '8862935293', '9573212919',\n",
              "       '9575871979', '9625993428', '9888002198', '9966694544', '9983891212',\n",
              "       '9984984354', '9985511476', 'B000001OM4', 'B000001OM5', 'B000001OMI',\n",
              "       'B000001ON6', 'B00000DM9W', 'B00000IGBF', 'B00000J05A', 'B00000J061',\n",
              "       'B00000J08Q', 'B00000J0D2', 'B00000J0D5', 'B00000J0D8', 'B00000J1EJ',\n",
              "       'B00000J1EP', 'B00000J1EQ', 'B00000J1F3', 'B00000J1GA', 'B00000J1QK',\n",
              "       'B00000J1QR', 'B00000J1SC', 'B00000J1TX', 'B00000J1U8', 'B00000J1UQ',\n",
              "       'B00000J1V3', 'B00000J1V5', 'B00000J3NF', 'B00000J3Q7', 'B00000J3UJ',\n",
              "       'B00000J434', 'B00000J4EY', 'B00000J4FS', 'B00000J4GE', 'B00000J6WY',\n",
              "       'B00000JBAT', 'B00000JBHP', 'B00000JBPB', 'B00000JCT8', 'B00000JCTO',\n",
              "       'B00000JD34', 'B00000JDF5', 'B00000JDF6', 'B00000JDHV', 'B00000JFE3',\n",
              "       'B00000JFIF', 'B00000JFMK', 'B00000JHWX', 'B00000JI4F', 'B00000JII6',\n",
              "       'B00000JMUG', 'B00000JPPI', 'B00000JSGF', 'B00000JYLO', 'B00000JYWQ',\n",
              "       'B00000K135'],\n",
              "      dtype='object', name='productId')"
            ]
          },
          "metadata": {},
          "execution_count": 17
        }
      ]
    },
    {
      "cell_type": "code",
      "source": [
        "X1 = X"
      ],
      "metadata": {
        "id": "xORJa9bt5Wyv"
      },
      "execution_count": 18,
      "outputs": []
    },
    {
      "cell_type": "code",
      "source": [
        "from sklearn.decomposition import TruncatedSVD\n",
        "SVD = TruncatedSVD(n_components=10)\n",
        "decomposed_matrix = SVD.fit_transform(X)\n",
        "decomposed_matrix.shape"
      ],
      "metadata": {
        "id": "ZUHRx4XN5YCB",
        "colab": {
          "base_uri": "https://localhost:8080/"
        },
        "outputId": "ee3bf951-a08f-485e-d40e-f59e237092de"
      },
      "execution_count": 19,
      "outputs": [
        {
          "output_type": "execute_result",
          "data": {
            "text/plain": [
              "(76, 10)"
            ]
          },
          "metadata": {},
          "execution_count": 19
        }
      ]
    },
    {
      "cell_type": "code",
      "source": [
        "decomposed_matrix"
      ],
      "metadata": {
        "id": "WD3PLsq35ZKq",
        "colab": {
          "base_uri": "https://localhost:8080/"
        },
        "outputId": "63fa6f5a-6693-48d1-84cf-28f7bdd1a922"
      },
      "execution_count": 20,
      "outputs": [
        {
          "output_type": "execute_result",
          "data": {
            "text/plain": [
              "array([[ 1.48104508e+02, -1.54603173e-01,  2.45403488e-02,\n",
              "        -3.66585011e-04, -1.34168993e-01,  1.19458490e-04,\n",
              "         4.61041224e-02, -4.73351158e-04, -4.57519776e-05,\n",
              "        -8.26812619e-02],\n",
              "       [ 6.75021273e-04,  1.28830251e+00,  1.48997345e+00,\n",
              "         2.07549428e-01, -9.44586055e-03,  1.20511782e-03,\n",
              "         2.01927675e-02, -3.93430745e-02,  6.14689283e+01,\n",
              "        -1.19675050e+00],\n",
              "       [ 2.48693493e-05,  1.04398586e-01,  3.18195505e-01,\n",
              "         1.24771807e-02, -9.41551754e-03, -1.71496836e-03,\n",
              "         1.24346668e-02,  9.80186348e-03,  1.54501944e+00,\n",
              "        -6.63714699e-02],\n",
              "       [ 7.72884910e-04,  8.06835802e-01,  5.91621742e-01,\n",
              "         5.22056270e-02, -8.88424317e-03,  1.24846072e-02,\n",
              "        -1.08030469e-01, -6.17807301e-01,  3.10086825e+00,\n",
              "         1.84203578e+00],\n",
              "       [ 5.09539265e-04,  7.98719150e-01,  1.08164227e+00,\n",
              "         2.13071063e-03,  5.55513526e-03,  7.40594382e-03,\n",
              "        -5.97131967e-02, -9.62015313e-02, -1.73953501e-01,\n",
              "        -3.49843738e-01],\n",
              "       [ 2.62248239e-01,  8.72502842e+01, -1.42163176e+01,\n",
              "        -1.11253514e-02,  2.31394366e-03, -1.94030050e-04,\n",
              "        -5.75815004e-03,  5.60905822e-03, -7.60159016e-01,\n",
              "        -1.64915037e-02],\n",
              "       [ 1.01928520e-03,  1.45102742e+01,  8.52275078e+01,\n",
              "        -4.38496839e-02, -3.37711871e-02,  4.99041456e-04,\n",
              "        -1.31348696e-02,  2.22222081e-03, -1.23553101e+00,\n",
              "         7.73799574e-03],\n",
              "       [ 1.72379599e-05,  7.14153877e-02,  4.08119837e-01,\n",
              "         3.45771777e-03,  3.00974314e-03,  2.11697801e-03,\n",
              "        -2.24277983e-02, -6.72756300e-02,  5.15460920e-01,\n",
              "         2.25999683e-01],\n",
              "       [ 6.14463010e-04,  7.89197395e-01, -6.62036518e-02,\n",
              "         1.24479595e-02, -2.79224972e-03,  2.71803308e-03,\n",
              "        -5.06962642e-03, -1.74759836e-01,  2.31839972e+00,\n",
              "         1.92796145e+00],\n",
              "       [ 3.28079938e-04,  5.78469000e-01,  7.38225130e-01,\n",
              "         4.16054687e-02,  1.00262116e-01, -1.97221049e-02,\n",
              "         5.65075929e-01,  8.68404838e-02,  1.48104422e+00,\n",
              "         1.07764034e+00],\n",
              "       [-1.60261854e-06, -4.15480213e-06,  6.10299320e-04,\n",
              "         1.08686453e-04, -1.06417947e-03,  7.74169821e-04,\n",
              "        -6.35127646e-03, -1.11343253e-02,  3.23310401e-03,\n",
              "         3.13911543e-02],\n",
              "       [-2.51590037e-06, -1.45025607e-03, -1.91139270e-03,\n",
              "        -2.31196439e-03,  7.11752445e-04, -1.11701663e-03,\n",
              "         2.76115951e-03,  2.00740253e-02,  4.00130264e-02,\n",
              "         3.29722694e-02],\n",
              "       [ 5.98648402e-05,  1.65320914e-02,  2.04669458e-03,\n",
              "        -1.41886331e-02, -3.11194085e-03, -2.74850570e-02,\n",
              "         2.80648168e-01,  3.20930193e-01, -5.33852593e-01,\n",
              "         1.77470439e+00],\n",
              "       [-8.20874330e-06, -1.18242854e-03, -3.92441688e-03,\n",
              "         3.30606382e-03,  1.52362212e-03, -1.01092360e-03,\n",
              "         7.59973355e-03, -2.65777328e-02,  3.92878104e-02,\n",
              "        -9.73107082e-02],\n",
              "       [ 2.41047829e-05,  1.91988755e-03, -5.67485112e-03,\n",
              "        -1.08886732e-02,  1.78447480e-02, -9.51683518e-03,\n",
              "        -2.04482839e-02, -1.88989482e-01,  9.01787477e-01,\n",
              "         3.69394011e+00],\n",
              "       [ 1.80707137e-05, -3.16793537e-03, -1.74154773e-03,\n",
              "        -3.40963934e-03, -2.72759041e-03,  6.94597825e-03,\n",
              "         4.31123052e-02,  1.98341599e-02, -1.31221713e-01,\n",
              "        -1.36777728e-01],\n",
              "       [-2.74876259e-05, -3.03524090e-04, -1.07746634e-02,\n",
              "        -1.05769149e-03,  4.46693017e-03,  6.01579612e-04,\n",
              "        -5.32596386e-02, -5.03351636e-04,  1.59787838e-01,\n",
              "        -1.99267782e-01],\n",
              "       [-7.02472512e-07, -8.81735189e-05,  6.04078927e-06,\n",
              "         5.03723608e-04, -3.78914283e-04, -1.43560167e-03,\n",
              "         1.69204941e-03,  5.91553495e-03, -1.78121008e-02,\n",
              "        -4.88875586e-03],\n",
              "       [ 9.54845546e-07,  1.28258884e-04,  4.77765540e-05,\n",
              "         5.06457226e-05, -2.05830400e-04, -4.77387607e-04,\n",
              "         3.39468016e-03,  9.41916859e-03, -4.67874874e-04,\n",
              "        -2.77296211e-02],\n",
              "       [ 2.02657343e-01, -1.27032269e-02, -1.26441638e-02,\n",
              "        -2.21285978e-03, -5.36847252e-03,  7.65759832e-03,\n",
              "         5.05460792e-04,  2.73579369e-01,  1.00043320e+00,\n",
              "         5.99460877e+01],\n",
              "       [ 6.78201558e-07,  2.16209023e-04,  4.51158979e-04,\n",
              "        -1.59634957e-04, -1.90938028e-04, -9.47620392e-04,\n",
              "         2.14811024e-04, -2.99732459e-03,  2.98926387e-03,\n",
              "         3.00208729e-02],\n",
              "       [ 2.20429716e-06, -1.92366308e-03, -8.12232960e-04,\n",
              "        -1.54363272e-03, -2.97082007e-03,  9.60024353e-04,\n",
              "         1.20793296e-02,  4.54474556e-02,  3.04505453e-03,\n",
              "        -1.12947581e-01],\n",
              "       [ 5.57442961e-07, -3.08889532e-03, -4.71299277e-04,\n",
              "        -5.58458774e-03,  2.05600803e-03,  1.03301384e-02,\n",
              "         1.32011561e-02,  3.65226706e-02,  4.23007757e-02,\n",
              "        -2.09709900e-01],\n",
              "       [ 1.86462215e-01,  7.06035708e-03,  6.59395214e-04,\n",
              "         3.20880901e-02,  3.79377368e-01, -3.88547499e-02,\n",
              "        -1.80070600e-01,  8.57307883e-02, -2.44411629e-01,\n",
              "         5.06194511e-01],\n",
              "       [-3.10753121e-07,  2.14804049e-04,  7.91384383e-04,\n",
              "         6.80645943e-03, -2.44873063e-04,  1.60604472e-03,\n",
              "        -3.36507226e-05,  4.44033521e-01,  8.51592283e-03,\n",
              "        -1.35055311e-02],\n",
              "       [ 3.47902171e-04, -1.51267499e-02, -2.28363440e-02,\n",
              "        -1.59126443e-02,  1.13351794e-02,  6.14997297e-01,\n",
              "         9.34278247e-03,  2.21492174e-01,  6.40184246e-01,\n",
              "        -2.20373123e+00],\n",
              "       [-6.86627890e-07,  1.46672504e-02,  3.72493351e-02,\n",
              "         8.50821002e+01, -2.21673218e-01, -2.42232053e-02,\n",
              "        -1.96928342e-04, -1.37554588e+00, -1.51251822e-01,\n",
              "         6.41152450e-03],\n",
              "       [ 8.32064531e-07,  4.59349847e-04,  1.78156165e-03,\n",
              "         1.89963086e-03, -1.51678717e-03,  6.69417380e-05,\n",
              "         8.65599229e-04, -1.04727879e-03, -4.33741667e-02,\n",
              "        -2.56324309e-02],\n",
              "       [ 5.83643468e-07,  4.98329227e-05, -1.09154022e-04,\n",
              "        -4.18635777e-04,  1.47627148e-03, -9.71409972e-05,\n",
              "         4.88098673e-03, -1.13862229e-03,  8.83436486e-03,\n",
              "         1.48872542e-02],\n",
              "       [ 1.20834585e-05,  3.83888490e-03,  7.14182185e-03,\n",
              "         1.70233885e+00, -3.42181053e-03,  3.69324876e-01,\n",
              "        -2.70165028e-02,  6.87876998e+01,  5.55260685e-02,\n",
              "        -1.49493436e-01],\n",
              "       [ 4.13078263e-07,  5.01584729e-04,  2.22501160e-04,\n",
              "         1.98208226e-04, -4.46968437e-04,  2.71802701e-04,\n",
              "        -2.00730257e-03, -4.39830946e-03, -3.41243727e-03,\n",
              "         3.35197797e-02],\n",
              "       [-2.27867221e-07, -4.43449758e-05, -1.29159842e-04,\n",
              "        -8.78349979e-05, -1.31844587e-04,  3.87098480e-04,\n",
              "        -5.46512116e-04,  1.84350958e-03, -3.56648479e-04,\n",
              "        -2.37761576e-03],\n",
              "       [-1.58764837e-07, -6.57119693e-05, -2.11048871e-05,\n",
              "         1.01113425e-04,  4.27854698e-07, -1.03116386e-05,\n",
              "         8.39988556e-04, -2.74452791e-03,  1.99568876e-04,\n",
              "        -1.63667409e-02],\n",
              "       [-1.38104906e-08, -1.22584213e-07, -1.37135880e-06,\n",
              "         8.93335377e-07, -1.93270171e-06,  1.21557365e-06,\n",
              "         1.91283594e-05,  3.26591531e-05,  4.53948634e-05,\n",
              "         6.30442058e-06],\n",
              "       [-4.74226365e-07, -4.42557361e-04,  1.51793205e-04,\n",
              "         1.00390507e-04, -1.90399456e-04,  4.51999304e-04,\n",
              "         7.15694761e-04,  9.72160559e-03, -5.00152140e-03,\n",
              "        -4.60750946e-02],\n",
              "       [ 2.35711419e-06,  2.82400485e-03,  8.15522910e-03,\n",
              "         8.26023242e-03, -3.67282701e-03, -3.21747319e-03,\n",
              "        -1.40502704e-04, -2.49238183e-02, -2.07669662e-01,\n",
              "        -1.33200303e-01],\n",
              "       [ 2.31987035e-04,  4.04214893e-02,  7.07148871e-02,\n",
              "         1.98757688e-02,  1.56547320e-02,  2.73781113e-02,\n",
              "        -1.27426879e-01, -6.32040469e-01, -9.69395888e-01,\n",
              "         2.02830654e+00],\n",
              "       [ 8.94773896e-06,  1.14808712e-03,  2.39151538e-03,\n",
              "         7.96109759e-04,  6.32987467e-04,  7.98161539e-03,\n",
              "        -3.63291365e-03, -1.43351940e-02, -3.81260972e-02,\n",
              "        -8.80406593e-03],\n",
              "       [ 2.34171565e-04, -2.30471411e-05,  2.79757157e-04,\n",
              "         7.93811501e-04,  2.41997805e-01,  1.84762000e-03,\n",
              "        -1.09597982e-01,  5.76600987e-03, -1.16794448e-02,\n",
              "        -2.88236825e-02],\n",
              "       [-7.04202092e-05, -1.38317529e-02, -2.13163421e-02,\n",
              "        -7.27180090e-03,  1.56052257e-02, -7.69148429e-03,\n",
              "         2.19032008e-02,  7.16073560e-02,  3.81161312e-01,\n",
              "        -8.18847402e-01],\n",
              "       [ 2.32107105e-04, -2.34201224e-04,  9.73246966e-04,\n",
              "         3.14251947e-03,  1.11524267e-01,  9.87480460e-04,\n",
              "         2.99588928e-01, -1.08698014e-02, -1.50280840e-02,\n",
              "         3.90733591e-03],\n",
              "       [ 1.48083577e-05, -9.24276207e-03, -3.00663071e-02,\n",
              "        -3.90395316e-02,  3.97388902e-02, -1.17268005e-02,\n",
              "        -2.11454587e-02, -7.03578608e-02,  1.14066132e+00,\n",
              "         1.17782000e+00],\n",
              "       [ 1.20329615e-04,  2.72152811e-02,  3.84064805e-02,\n",
              "         2.21530982e-02,  1.32271067e-03, -8.56453186e-03,\n",
              "        -3.36174024e-02, -4.97882181e-01, -4.82356659e-01,\n",
              "         2.87811798e+00],\n",
              "       [-1.67267191e-06,  5.17068430e-04,  9.21671360e-04,\n",
              "         1.27015361e-03, -1.25717468e-03, -5.95590424e-04,\n",
              "         7.72222914e-04, -9.66593818e-03, -2.17963982e-02,\n",
              "        -1.98962332e-03],\n",
              "       [ 9.78393717e-05,  1.53848389e-02,  1.56110165e-02,\n",
              "        -2.66394161e-02,  7.17029717e-03,  4.97894328e-03,\n",
              "         3.04668741e-02, -2.42838046e-02, -2.55697718e-01,\n",
              "         1.07701553e+00],\n",
              "       [-2.51300477e-05,  2.18483640e-02,  3.08870212e-02,\n",
              "         2.86968852e-02, -4.93747222e-02, -1.68794382e-02,\n",
              "         2.22781717e-02, -1.41549446e-01, -8.95105391e-01,\n",
              "         1.03351559e+00],\n",
              "       [ 2.49015551e-01,  7.28085892e-05,  2.73538915e-02,\n",
              "         2.04393263e-01,  7.85340030e+01, -5.10731749e-02,\n",
              "        -2.94109410e+01, -1.31273592e-02,  2.20350973e-02,\n",
              "         2.35910616e-02],\n",
              "       [ 1.77174169e-06, -8.39278076e-04,  2.39614272e-05,\n",
              "        -8.21789595e-04,  2.98687756e-03,  5.71334401e-04,\n",
              "         5.46919072e-03, -2.32682597e-03, -7.12420809e-03,\n",
              "        -7.23111432e-03],\n",
              "       [ 3.64218930e-06, -4.83623493e-04, -7.59963967e-05,\n",
              "         9.20394515e-03, -1.68688503e-03, -2.60855119e-03,\n",
              "         1.58914458e-02,  4.46238813e-01,  3.69772968e-02,\n",
              "        -1.53583528e-02],\n",
              "       [-3.24221207e-08,  7.43849484e-05,  2.24969394e-05,\n",
              "         1.04193513e-04,  1.45302339e-04,  3.88616936e-04,\n",
              "        -6.29378002e-04, -4.05050497e-03, -3.27044545e-04,\n",
              "         2.93095032e-02],\n",
              "       [ 1.16866439e-05,  5.18955846e-03,  1.59074817e-02,\n",
              "         1.75091508e-02, -9.35526223e-03,  5.36868393e-03,\n",
              "         3.34264641e-03, -3.22537229e-02, -3.27460880e-01,\n",
              "        -1.48101807e-01],\n",
              "       [ 1.04425465e-06,  4.35205720e-03,  4.39558040e-03,\n",
              "         4.51439992e-03,  2.84089292e-03, -2.20876570e-03,\n",
              "        -1.07133531e-02, -6.15745703e-02, -1.50524701e-01,\n",
              "        -3.28070589e-02],\n",
              "       [ 5.23733267e-05,  2.61043244e-02,  7.63808542e-02,\n",
              "         8.76757332e-02, -5.79900983e-02,  2.24130396e-02,\n",
              "         1.16632197e-02, -9.95236458e-02, -1.63765143e+00,\n",
              "        -8.98139314e-01],\n",
              "       [ 1.69704447e-04,  7.01206419e-03,  5.96904789e-03,\n",
              "         1.40875737e-02, -1.49346411e-02,  1.32138933e-03,\n",
              "         2.97239482e-02,  3.34287121e-02, -4.20503542e-01,\n",
              "         4.04088450e-01],\n",
              "       [-1.12470967e-05,  1.02311545e-03, -9.23705421e-04,\n",
              "         4.41053403e-03, -1.96945490e-03,  4.30335644e-03,\n",
              "        -1.73920486e-02, -4.87041253e-03, -1.98293472e-02,\n",
              "         9.71322033e-03],\n",
              "       [-2.26420984e-05,  1.18999780e-02,  6.90835544e-03,\n",
              "         1.79182724e-02, -1.22622448e-02, -1.76885942e-02,\n",
              "         2.90606042e-02, -4.56035972e-02, -4.58525752e-01,\n",
              "         1.74846382e-01],\n",
              "       [ 1.44682700e-07,  3.37877937e-04,  5.74247857e-04,\n",
              "         3.48237277e-04, -4.33053208e-04,  9.57898475e-04,\n",
              "        -1.56360547e-03, -4.06937784e-03, -1.37452779e-03,\n",
              "         2.38515745e-02],\n",
              "       [ 2.58748866e-07,  1.78887217e-04,  2.36227063e-04,\n",
              "         5.53712602e-03,  6.00934440e-05,  1.37646107e-03,\n",
              "        -1.57556848e-03,  3.56772230e-01, -6.54904914e-03,\n",
              "         8.82802978e-03],\n",
              "       [-1.22226625e-07, -3.76628608e-04, -1.44672243e-04,\n",
              "         2.83212515e-04,  1.85809202e-04,  2.43264881e-06,\n",
              "         2.40578349e-03,  9.80758508e-03, -3.09280218e-02,\n",
              "        -1.28204691e-02],\n",
              "       [-1.69433420e-06, -1.52205541e-03, -2.10459428e-03,\n",
              "        -3.10061264e-04,  3.13304545e-03,  6.36895433e-04,\n",
              "         1.16081549e-03,  1.67397151e-02,  7.90294224e-02,\n",
              "        -6.93645334e-02],\n",
              "       [-8.20775171e-07, -3.60124184e-03, -3.28495554e-03,\n",
              "         4.40488773e-04,  5.36716608e-04,  2.86430849e-04,\n",
              "        -3.30032824e-03,  4.70868555e-02,  3.52203737e-02,\n",
              "        -1.75351042e-01],\n",
              "       [ 7.48229959e-03,  7.05493451e-03,  2.17854191e-02,\n",
              "         8.55956526e-02,  3.25905574e+01,  6.67414800e-03,\n",
              "         7.08405911e+01,  1.35269770e-02, -2.03284486e-02,\n",
              "         1.95168531e-02],\n",
              "       [ 6.04354142e-04, -1.90448138e-03,  1.71069133e-02,\n",
              "         2.02729994e-02,  1.09684919e+00,  5.27072165e-01,\n",
              "         6.39538966e-01,  4.79336577e-01, -1.03211739e+00,\n",
              "        -2.49637285e+00],\n",
              "       [ 4.13332684e-08, -1.09062154e-05, -1.28558394e-04,\n",
              "        -9.57045045e-05,  1.29323405e-03, -2.40430292e-04,\n",
              "         4.00561876e-03, -4.76126061e-03,  1.26820554e-02,\n",
              "         1.75408952e-02],\n",
              "       [ 2.33545104e-07, -1.20264691e-04,  7.64854440e-05,\n",
              "        -9.67576831e-05,  5.48315796e-05,  8.51757267e-05,\n",
              "        -3.30021996e-04,  1.14268109e-03,  6.91895832e-04,\n",
              "         3.87863121e-04],\n",
              "       [-6.95753034e-07, -4.21288836e-04, -6.46968239e-04,\n",
              "         1.05605778e-03, -2.02452647e-04, -3.60968837e-04,\n",
              "         4.21278467e-03,  3.58063510e-03, -8.68483027e-03,\n",
              "        -7.37339365e-02],\n",
              "       [ 1.50824311e-06, -1.73509839e-03,  4.91639675e-03,\n",
              "         4.06000199e-03, -3.96073842e-03,  6.92767664e-03,\n",
              "        -2.19714121e-02,  1.24301637e-02, -1.39199703e-01,\n",
              "        -2.63303991e-01],\n",
              "       [ 1.06799719e-06,  7.66212507e-04,  1.22867742e-03,\n",
              "         1.56437953e-03,  3.37573337e-03,  2.13382002e-03,\n",
              "         8.15391256e-04,  7.49925341e-03, -4.68378038e-02,\n",
              "         2.47074779e-02],\n",
              "       [ 2.05691627e-06,  1.27996216e-04, -5.82409681e-04,\n",
              "         1.78831040e-02,  4.00372376e-02,  8.05144408e+01,\n",
              "        -2.83632963e-02, -3.20419417e-01,  1.01408649e-03,\n",
              "         2.96682087e-02],\n",
              "       [ 6.99011304e-08, -1.60480144e-06,  4.39538352e-05,\n",
              "        -1.99654429e-05,  9.11877550e-05,  9.19466439e-05,\n",
              "        -3.74881484e-04, -5.83114677e-04, -6.12121969e-04,\n",
              "        -7.53204407e-04],\n",
              "       [ 3.19571115e-08, -3.25209086e-05, -9.50871126e-05,\n",
              "        -5.86940934e-05,  2.54915359e-05, -1.17867741e-04,\n",
              "         4.06931743e-04,  1.01648219e-03,  2.11316075e-03,\n",
              "         1.23391741e-03],\n",
              "       [ 2.37855910e-07, -5.41647872e-05, -2.89343362e-05,\n",
              "        -6.49611684e-05,  2.02544844e-05,  1.84030127e-03,\n",
              "        -3.16466788e-04,  7.05466573e-04,  2.81819247e-03,\n",
              "        -1.14421272e-02],\n",
              "       [-6.22982180e-06, -8.43284121e-03, -2.01697411e-02,\n",
              "        -1.46552699e-02,  3.39545407e-01, -7.23535565e-03,\n",
              "         1.00330352e+00, -1.05204808e-01,  1.05489780e+00,\n",
              "         5.01228714e-01],\n",
              "       [ 1.80321340e-04,  1.33311631e-03,  1.68450472e-04,\n",
              "         1.36110914e-03,  2.29572998e-03, -1.48741461e-03,\n",
              "         3.01432284e-03,  1.73946852e-03, -1.00235215e-02,\n",
              "        -7.77465806e-02],\n",
              "       [ 8.78071709e-07,  4.68144564e-04,  5.44171888e-03,\n",
              "         5.02744401e-03, -1.89650996e-03, -2.18580118e-03,\n",
              "         2.18459480e-03, -9.05686874e-03, -1.23710936e-01,\n",
              "        -8.32312852e-02],\n",
              "       [-7.71367458e-08, -6.98902288e-04, -8.47754908e-04,\n",
              "        -6.36586329e-04, -8.49156694e-05, -4.30356165e-04,\n",
              "         3.52157754e-03,  1.55205722e-02, -3.82523335e-03,\n",
              "         2.93085049e-02]])"
            ]
          },
          "metadata": {},
          "execution_count": 20
        }
      ]
    },
    {
      "cell_type": "code",
      "source": [
        "correlation_matrix = np.corrcoef(decomposed_matrix)\n",
        "correlation_matrix.shape"
      ],
      "metadata": {
        "id": "2YFqeCCu5cIu",
        "colab": {
          "base_uri": "https://localhost:8080/"
        },
        "outputId": "544b9594-d197-4f78-d5ae-3431f2979ae7"
      },
      "execution_count": 21,
      "outputs": [
        {
          "output_type": "execute_result",
          "data": {
            "text/plain": [
              "(76, 76)"
            ]
          },
          "metadata": {},
          "execution_count": 21
        }
      ]
    },
    {
      "cell_type": "code",
      "source": [
        "X.index[75]"
      ],
      "metadata": {
        "id": "ZtUOSzHa5dPy",
        "colab": {
          "base_uri": "https://localhost:8080/",
          "height": 35
        },
        "outputId": "4815bd2b-8721-45f2-c61a-a29d087169ba"
      },
      "execution_count": 22,
      "outputs": [
        {
          "output_type": "execute_result",
          "data": {
            "text/plain": [
              "'B00000K135'"
            ],
            "application/vnd.google.colaboratory.intrinsic+json": {
              "type": "string"
            }
          },
          "metadata": {},
          "execution_count": 22
        }
      ]
    },
    {
      "cell_type": "code",
      "source": [
        "i = X.index[75]\n",
        "\n",
        "product_names = list(X.index)\n",
        "product_ID = product_names.index(i) #index구하기\n",
        "product_ID"
      ],
      "metadata": {
        "id": "QXzE98x05ec0",
        "colab": {
          "base_uri": "https://localhost:8080/"
        },
        "outputId": "fb6503cf-a538-47a3-e2fc-c865152b4536"
      },
      "execution_count": 23,
      "outputs": [
        {
          "output_type": "execute_result",
          "data": {
            "text/plain": [
              "75"
            ]
          },
          "metadata": {},
          "execution_count": 23
        }
      ]
    },
    {
      "cell_type": "code",
      "source": [
        "correlation_product_ID = correlation_matrix[product_ID]\n",
        "correlation_product_ID.shape"
      ],
      "metadata": {
        "id": "6GwOPX3I5gct",
        "colab": {
          "base_uri": "https://localhost:8080/"
        },
        "outputId": "f71fe287-090f-4e7d-ca79-e3bff22f2beb"
      },
      "execution_count": 24,
      "outputs": [
        {
          "output_type": "execute_result",
          "data": {
            "text/plain": [
              "(76,)"
            ]
          },
          "metadata": {},
          "execution_count": 24
        }
      ]
    },
    {
      "cell_type": "code",
      "source": [
        "correlation_product_ID"
      ],
      "metadata": {
        "id": "Bq6RT8tt5haM",
        "colab": {
          "base_uri": "https://localhost:8080/"
        },
        "outputId": "b2e7d23c-786f-4359-b3e2-d95dfde82ce2"
      },
      "execution_count": 25,
      "outputs": [
        {
          "output_type": "execute_result",
          "data": {
            "text/plain": [
              "array([-0.14294134, -0.29919881, -0.35600207,  0.07094463, -0.42799149,\n",
              "       -0.13263086, -0.19632571, -0.08797856,  0.28858174,  0.18248118,\n",
              "        0.61435528,  0.51496552,  0.93640861, -0.93590677,  0.76241668,\n",
              "       -0.38157993, -0.7766135 ,  0.15820905, -0.65342771,  0.85656661,\n",
              "        0.78414031, -0.62221   , -0.78625453,  0.62213586,  0.35232511,\n",
              "       -0.82665262, -0.16947441, -0.22807621,  0.58472662,  0.38105672,\n",
              "        0.79796559, -0.37424186, -0.92234952,  0.10264597, -0.71602536,\n",
              "       -0.29653168,  0.7042908 , -0.11265793, -0.18774818, -0.81588435,\n",
              "       -0.06620472,  0.43302802,  0.78427135,  0.01377942,  0.86502474,\n",
              "        0.73874592, -0.12474132, -0.44299188,  0.3341331 ,  0.78352302,\n",
              "       -0.1611009 , -0.08255056, -0.21609554,  0.7640575 ,  0.37516776,\n",
              "        0.49869711,  0.76355016,  0.41070407,  0.03434287, -0.66566875,\n",
              "       -0.73276435, -0.08498326, -0.60043668,  0.44272097,  0.4293617 ,\n",
              "       -0.79961692, -0.64539719,  0.62675039, -0.15871985, -0.69261483,\n",
              "        0.37911221, -0.8518094 ,  0.02666212, -0.81472797, -0.29855583,\n",
              "        1.        ])"
            ]
          },
          "metadata": {},
          "execution_count": 25
        }
      ]
    },
    {
      "cell_type": "code",
      "source": [
        "Recommend = list(X.index[correlation_product_ID > 0.65]) #피어슨 상관계수가 0.65보다 큰 상품들의 index의 list return\n",
        "\n",
        "Recommend.remove(i) # 이미 구입한 상품은 뺀다\n",
        "\n",
        "Recommend[0:24] #상위 24개 추천"
      ],
      "metadata": {
        "id": "FojtM2qL5ipc",
        "colab": {
          "base_uri": "https://localhost:8080/"
        },
        "outputId": "9ff2c2a5-af49-4def-a09d-def44228032b"
      },
      "execution_count": 26,
      "outputs": [
        {
          "output_type": "execute_result",
          "data": {
            "text/plain": [
              "['7214047977',\n",
              " '9573212919',\n",
              " '9983891212',\n",
              " '9984984354',\n",
              " 'B00000J08Q',\n",
              " 'B00000J1EQ',\n",
              " 'B00000J1TX',\n",
              " 'B00000J1UQ',\n",
              " 'B00000J1V3',\n",
              " 'B00000J3UJ',\n",
              " 'B00000J4GE',\n",
              " 'B00000JBHP']"
            ]
          },
          "metadata": {},
          "execution_count": 26
        }
      ]
    },
    {
      "cell_type": "code",
      "source": [
        "Recommend"
      ],
      "metadata": {
        "id": "0wUmhXDU5j4p",
        "colab": {
          "base_uri": "https://localhost:8080/"
        },
        "outputId": "cda5e9db-0905-4fdc-f3fe-1dcf85fde4cb"
      },
      "execution_count": 27,
      "outputs": [
        {
          "output_type": "execute_result",
          "data": {
            "text/plain": [
              "['7214047977',\n",
              " '9573212919',\n",
              " '9983891212',\n",
              " '9984984354',\n",
              " 'B00000J08Q',\n",
              " 'B00000J1EQ',\n",
              " 'B00000J1TX',\n",
              " 'B00000J1UQ',\n",
              " 'B00000J1V3',\n",
              " 'B00000J3UJ',\n",
              " 'B00000J4GE',\n",
              " 'B00000JBHP']"
            ]
          },
          "metadata": {},
          "execution_count": 27
        }
      ]
    }
  ]
}