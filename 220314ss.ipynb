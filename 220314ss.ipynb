{
  "nbformat": 4,
  "nbformat_minor": 0,
  "metadata": {
    "colab": {
      "name": "220314ss",
      "provenance": [],
      "collapsed_sections": [],
      "authorship_tag": "ABX9TyPv1j/MECJxPkSXkInYQWc0",
      "include_colab_link": true
    },
    "kernelspec": {
      "name": "python3",
      "display_name": "Python 3"
    },
    "language_info": {
      "name": "python"
    }
  },
  "cells": [
    {
      "cell_type": "markdown",
      "metadata": {
        "id": "view-in-github",
        "colab_type": "text"
      },
      "source": [
        "<a href=\"https://colab.research.google.com/github/dinggga/super-broccoli/blob/main/220314ss.ipynb\" target=\"_parent\"><img src=\"https://colab.research.google.com/assets/colab-badge.svg\" alt=\"Open In Colab\"/></a>"
      ]
    },
    {
      "cell_type": "markdown",
      "source": [
        "1번"
      ],
      "metadata": {
        "id": "lY8_CWpIy7xc"
      }
    },
    {
      "cell_type": "code",
      "execution_count": 1,
      "metadata": {
        "colab": {
          "base_uri": "https://localhost:8080/"
        },
        "id": "9rLj17Nny11w",
        "outputId": "0571817a-ac1a-427c-986c-392af63a30c9"
      },
      "outputs": [
        {
          "output_type": "execute_result",
          "data": {
            "text/plain": [
              "dict_keys(['data', 'target', 'frame', 'categories', 'feature_names', 'target_names', 'DESCR', 'details', 'url'])"
            ]
          },
          "metadata": {},
          "execution_count": 1
        }
      ],
      "source": [
        "from sklearn.datasets import fetch_openml\n",
        "mnist = fetch_openml('mnist_784', version=1, as_frame=False)\n",
        "mnist.keys()"
      ]
    },
    {
      "cell_type": "code",
      "source": [
        "X,y = mnist['data'], mnist['target']\n",
        "X_train, X_test, y_train, y_test = X[:60000], X[60000:], y[:60000], y[60000:]"
      ],
      "metadata": {
        "id": "H7RSzlYwzdcJ"
      },
      "execution_count": 2,
      "outputs": []
    },
    {
      "cell_type": "code",
      "source": [
        "# knn\n",
        "from sklearn.neighbors import KNeighborsClassifier\n",
        "\n",
        "knn_clf = KNeighborsClassifier()\n",
        "knn_clf.fit(X_train, y_train)\n",
        "\n",
        "knn_clf.predict(X_test)"
      ],
      "metadata": {
        "colab": {
          "base_uri": "https://localhost:8080/"
        },
        "id": "44we2gi9zrdG",
        "outputId": "e3d4863b-938b-4d45-8e6f-69bf8c99485b"
      },
      "execution_count": 3,
      "outputs": [
        {
          "output_type": "execute_result",
          "data": {
            "text/plain": [
              "array(['7', '2', '1', ..., '4', '5', '6'], dtype=object)"
            ]
          },
          "metadata": {},
          "execution_count": 3
        }
      ]
    },
    {
      "cell_type": "code",
      "source": [
        "knn_pred = knn_clf.predict(X_test)"
      ],
      "metadata": {
        "id": "t6KjAPOO0vo0"
      },
      "execution_count": 4,
      "outputs": []
    },
    {
      "cell_type": "code",
      "source": [
        "from sklearn.metrics import accuracy_score\n",
        "accuracy_score(y_test, knn_pred)"
      ],
      "metadata": {
        "colab": {
          "base_uri": "https://localhost:8080/"
        },
        "id": "ML5TV1gH05l_",
        "outputId": "0974c628-baff-4402-d894-38002e43bbbd"
      },
      "execution_count": 5,
      "outputs": [
        {
          "output_type": "execute_result",
          "data": {
            "text/plain": [
              "0.9688"
            ]
          },
          "metadata": {},
          "execution_count": 5
        }
      ]
    },
    {
      "cell_type": "code",
      "source": [
        "grid_params = {\n",
        "    'n_neighbors': [3,4,5],\n",
        "    'weights': ['uniform', 'distance']\n",
        "}"
      ],
      "metadata": {
        "id": "CgE3pMA41htO"
      },
      "execution_count": 7,
      "outputs": []
    },
    {
      "cell_type": "code",
      "source": [
        "gs = GridSearchCV(knn_clf, grid_params, cv=3)\n",
        "gs.fit(X_train, y_train)\n",
        "print('best parameters:', gs.best_params)\n",
        "print('best score:', gs.best_score_)\n",
        "print('best test score:', gs.score(X_test, y_test))\n",
        "\n",
        "# 너무 오래 걸려서 실행 생략. \n",
        "# Best Params: {'n_neighbors':4, 'weights'='distance'}\n",
        "# Best Score: 0.9703500000000002"
      ],
      "metadata": {
        "id": "k-IerTnt7V7Q"
      },
      "execution_count": null,
      "outputs": []
    },
    {
      "cell_type": "code",
      "source": [
        "knn_clf2 = KNeighborsClassifier(n_neighbors=4, weights='distance')\n",
        "knn_clf2.fit(X_train, y_train)\n",
        "accuracy_score(y_test, knn_clf2.predict(X_test))"
      ],
      "metadata": {
        "colab": {
          "base_uri": "https://localhost:8080/"
        },
        "id": "JeQA7__MDr7-",
        "outputId": "da180b08-edad-4605-8ba1-3c6f8053c9f5"
      },
      "execution_count": 17,
      "outputs": [
        {
          "output_type": "execute_result",
          "data": {
            "text/plain": [
              "0.9714"
            ]
          },
          "metadata": {},
          "execution_count": 17
        }
      ]
    },
    {
      "cell_type": "markdown",
      "source": [
        "----------------------\n",
        "2번"
      ],
      "metadata": {
        "id": "IM3EAlRd43N8"
      }
    },
    {
      "cell_type": "code",
      "source": [
        "from scipy.ndimage.interpolation import shift\n",
        "\n",
        "def shift_image(image, dx, dy):\n",
        "  image = image.reshape((28,28))\n",
        "  shifted_image = shift(image, [dy,dx], cval=0, mode='constant')\n",
        "  return shifted_image.reshape([-1])\n",
        "\n",
        "X_train_augmented = [image for image in X_train]\n",
        "y_train_augmented = [label for label in y_train]\n",
        "\n",
        "for dx, dy in ((1,0), (-1,0), (0,1), (0,-1)):\n",
        "  for image, label in zip(X_train, y_train):\n",
        "    X_train_augmented.append(shift_image(image, dx, dy))\n",
        "    y_train_augmented.append(label)\n",
        "\n",
        "X_train_augmented = np.array(X_train_augmented)\n",
        "y_train_augmented = np.array(y_train_augmented)"
      ],
      "metadata": {
        "id": "XPnygmE896LT"
      },
      "execution_count": 12,
      "outputs": []
    },
    {
      "cell_type": "code",
      "source": [
        "shuffle_idx = np.random.permutation(len(X_train_augmented))\n",
        "X_train_augmented = X_train_augmented[shuffle_idx]\n",
        "y_train_augmented = y_train_augmented[shuffle_idx]\n",
        "\n",
        "knn_clf = KNeighborsClassifier(n_neighbors=4, weights='distance')\n",
        "\n",
        "knn_clf.fit(X_train_augmented, y_train_augmented)"
      ],
      "metadata": {
        "colab": {
          "base_uri": "https://localhost:8080/"
        },
        "id": "Ox4a4giO_44L",
        "outputId": "7f5246e8-c81c-451f-a918-31f808fea3fe"
      },
      "execution_count": 15,
      "outputs": [
        {
          "output_type": "execute_result",
          "data": {
            "text/plain": [
              "KNeighborsClassifier(n_neighbors=4, weights='distance')"
            ]
          },
          "metadata": {},
          "execution_count": 15
        }
      ]
    },
    {
      "cell_type": "code",
      "source": [
        "y_pred = knn_clf.predict(X_test)\n",
        "accuracy_score(y_test, y_pred)"
      ],
      "metadata": {
        "colab": {
          "base_uri": "https://localhost:8080/"
        },
        "id": "f6LGKNJEAvKf",
        "outputId": "39fce990-dc3e-4bfb-b208-58813619c080"
      },
      "execution_count": 16,
      "outputs": [
        {
          "output_type": "execute_result",
          "data": {
            "text/plain": [
              "0.9763"
            ]
          },
          "metadata": {},
          "execution_count": 16
        }
      ]
    }
  ]
}